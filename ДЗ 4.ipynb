{
 "cells": [
  {
   "cell_type": "markdown",
   "id": "671cba0a",
   "metadata": {},
   "source": [
    "# Домашнее задание № 4. Языковые модели"
   ]
  },
  {
   "cell_type": "markdown",
   "id": "eb1c01ac",
   "metadata": {},
   "source": [
    "## Задание 1"
   ]
  },
  {
   "cell_type": "code",
   "execution_count": 2,
   "id": "851d2244",
   "metadata": {},
   "outputs": [],
   "source": [
    "import numpy as np\n",
    "from collections import Counter\n",
    "from nltk import sent_tokenize\n",
    "from razdel import tokenize\n",
    "from string import punctuation\n",
    "\n",
    "\n",
    "def filter_text(text: str) -> list:\n",
    "    \"\"\"Убираем лишние пробелы и переводы строк\"\"\"\n",
    "    return [i.text for i in tokenize(text.strip().replace('\\n', ''))]\n",
    "\n",
    "\n",
    "def get_ngrams(sent: list, length: int) -> list:\n",
    "    if length == 1:\n",
    "        return sent\n",
    "    result = []\n",
    "    for i, word in enumerate(sent[:-length + 1]):\n",
    "        result.append(tuple(sent[i:i + length]))\n",
    "    return result\n",
    "\n",
    "\n",
    "def glue_punctuation(text: str) -> str:\n",
    "    \"\"\"Удаляем пробелы перед знаками препинания\"\"\"\n",
    "    space_before_punkt = [f' {i}' for i in punctuation + '»']\n",
    "    for i in space_before_punkt:\n",
    "        text = text.replace(i, i[1])\n",
    "    text = text.replace('« ', '«') # открывающаяся кавычка, наоборот \"приклеивается\" к последующему тексту\n",
    "    return text\n",
    "\n",
    "\n",
    "def generate_sents(probs: dict, num_sents: int, start=('<start>', '<start>')):\n",
    "    for _ in range(num_sents):\n",
    "        sent = start\n",
    "        current_bigram = start\n",
    "        next_word = None\n",
    "        while next_word != '<end>':\n",
    "            candidate_words, word_probs = zip(\n",
    "                *{tri[2]: probs[tri] for tri in probs if tri[:2] == current_bigram}.items())\n",
    "            # Из словаря триграмм выбираем те, что начинаются с текущей биграммы (tri[:2] == current_bigram). \n",
    "            # От ключей оставляем только последние слова (кандидаты на следующее слово в предложении) (tri[2]).\n",
    "            # Представляем этот \"подсловарь\" в виде списка кортежей вида (слово, вероятность) (.items()).\n",
    "            # Затем распаковываем этот список кортежей на два массива (слова-кандидаты и их вероятности) (zip)\n",
    "            next_word = np.random.choice(candidate_words, p=word_probs)\n",
    "            sent = sent + (next_word,)\n",
    "            current_bigram = (current_bigram[1], next_word)\n",
    "        sent = ' '.join(sent).replace('<start>', '').replace('<end>', '').strip()\n",
    "        sent = glue_punctuation(sent)\n",
    "        print(sent)\n",
    "\n",
    "corpus = open('books.txt', encoding='utf-8').read()\n",
    "sentences = [['<start>'] * 2 + filter_text(i) + ['<end>'] for i in sent_tokenize(corpus)]\n",
    "train_sentences, test_sentences = sentences[:-50], sentences[-50:]\n",
    "ngrams = {i: Counter() for i in range(1, 4)}\n",
    "for sentence in train_sentences:\n",
    "    for n in ngrams:\n",
    "        ngrams[n].update(get_ngrams(sentence, n))\n",
    "probabilities = {}\n",
    "for trigram in ngrams[3]:\n",
    "    probabilities[trigram] = ngrams[3][trigram] / ngrams[2][trigram[:2]]\n",
    "# вероятности триграмм было решено хранить в словаре, так как на массив не хватало памяти"
   ]
  },
  {
   "cell_type": "code",
   "execution_count": 12,
   "id": "fcf8d962",
   "metadata": {},
   "outputs": [
    {
     "name": "stdout",
     "output_type": "stream",
     "text": [
      "Хороший ствол … разобрался я в ответ неопределенно повел рукой над столом и, наконец уже наговоришься, а вполне реальными патронами, который не брали, Сионист только назавтра должен был объяснять — было совершенно невозможно авиационное сообщение.\n",
      "— не он, отрицательно помотав головой, шагнул в сторону и там же, какая дрянь водится уровнем ниже второй подвал есть.\n",
      "— Рамзес придвинулся к Инге, — настороженно произнёс Чиба.\n",
      "Коррупция в особо крупных отверстиях, расположенных по внешнюю сторону клинка, когда вертолет уйдет на очередной круг, будто оплакивая лучшего друга в Припяти с расчетом на месте.\n",
      "Пасенки сидели в погребе больше ничего не расскажу!..\n"
     ]
    }
   ],
   "source": [
    "generate_sents(probabilities, 5)"
   ]
  },
  {
   "cell_type": "code",
   "execution_count": 13,
   "id": "3b55f358",
   "metadata": {},
   "outputs": [
    {
     "name": "stdout",
     "output_type": "stream",
     "text": [
      "Perplexity = 13755.208879075031\n"
     ]
    }
   ],
   "source": [
    "def perplexity(sent, ngr):\n",
    "    probas = []\n",
    "    for tri in get_ngrams(sent, 3):\n",
    "        if tri in ngr[3] and tri[:2] in ngr[2]:\n",
    "            probas.append(np.log(ngr[3][tri] / ngr[2][tri[:2]]))\n",
    "        else:\n",
    "            probas.append(np.log(0.00001))\n",
    "    return np.exp(np.sum(probas)) ** (-1 / len(probas))\n",
    "\n",
    "avg_perplexity = sum([perplexity(sent, ngrams) for sent in test_sentences]) / len(test_sentences)\n",
    "print(f'Perplexity = {avg_perplexity}')"
   ]
  }
 ],
 "metadata": {
  "kernelspec": {
   "display_name": "Python 3 (ipykernel)",
   "language": "python",
   "name": "python3"
  },
  "language_info": {
   "codemirror_mode": {
    "name": "ipython",
    "version": 3
   },
   "file_extension": ".py",
   "mimetype": "text/x-python",
   "name": "python",
   "nbconvert_exporter": "python",
   "pygments_lexer": "ipython3",
   "version": "3.9.6"
  }
 },
 "nbformat": 4,
 "nbformat_minor": 5
}
