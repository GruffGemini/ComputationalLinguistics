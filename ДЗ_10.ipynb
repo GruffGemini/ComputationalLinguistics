{
  "nbformat": 4,
  "nbformat_minor": 0,
  "metadata": {
    "colab": {
      "name": "ДЗ 10.ipynb",
      "provenance": [],
      "collapsed_sections": [],
      "mount_file_id": "1abBsL4p3_c61MhcmW19PpB6Y_euwrnJE",
      "authorship_tag": "ABX9TyPdbJNPrHyHahNNmsWuM2Bn",
      "include_colab_link": true
    },
    "kernelspec": {
      "name": "python3",
      "display_name": "Python 3"
    },
    "language_info": {
      "name": "python"
    },
    "accelerator": "GPU",
    "widgets": {
      "application/vnd.jupyter.widget-state+json": {
        "50a0b09b49fe41daa93e6f067e02df1e": {
          "model_module": "@jupyter-widgets/controls",
          "model_name": "HBoxModel",
          "model_module_version": "1.5.0",
          "state": {
            "_dom_classes": [],
            "_model_module": "@jupyter-widgets/controls",
            "_model_module_version": "1.5.0",
            "_model_name": "HBoxModel",
            "_view_count": null,
            "_view_module": "@jupyter-widgets/controls",
            "_view_module_version": "1.5.0",
            "_view_name": "HBoxView",
            "box_style": "",
            "children": [
              "IPY_MODEL_3c9327cbf9874eeba38373fdf7b80fe8",
              "IPY_MODEL_0edd8c69522445b7809a022b29d823cf",
              "IPY_MODEL_ddb29b81d3864e84906763227c624471"
            ],
            "layout": "IPY_MODEL_d0d476b484c04cbe8f9446417b8f7784"
          }
        },
        "3c9327cbf9874eeba38373fdf7b80fe8": {
          "model_module": "@jupyter-widgets/controls",
          "model_name": "HTMLModel",
          "model_module_version": "1.5.0",
          "state": {
            "_dom_classes": [],
            "_model_module": "@jupyter-widgets/controls",
            "_model_module_version": "1.5.0",
            "_model_name": "HTMLModel",
            "_view_count": null,
            "_view_module": "@jupyter-widgets/controls",
            "_view_module_version": "1.5.0",
            "_view_name": "HTMLView",
            "description": "",
            "description_tooltip": null,
            "layout": "IPY_MODEL_2af7ee501aa64b96943bf18be70781d6",
            "placeholder": "​",
            "style": "IPY_MODEL_6002032d75c34e69875268b6a334291d",
            "value": "Downloading: 100%"
          }
        },
        "0edd8c69522445b7809a022b29d823cf": {
          "model_module": "@jupyter-widgets/controls",
          "model_name": "FloatProgressModel",
          "model_module_version": "1.5.0",
          "state": {
            "_dom_classes": [],
            "_model_module": "@jupyter-widgets/controls",
            "_model_module_version": "1.5.0",
            "_model_name": "FloatProgressModel",
            "_view_count": null,
            "_view_module": "@jupyter-widgets/controls",
            "_view_module_version": "1.5.0",
            "_view_name": "ProgressView",
            "bar_style": "success",
            "description": "",
            "description_tooltip": null,
            "layout": "IPY_MODEL_607ac2c860d14be1b3a3c4d1a69876fb",
            "max": 1713123,
            "min": 0,
            "orientation": "horizontal",
            "style": "IPY_MODEL_abb6b5ce685f45fca0051c3d58691d92",
            "value": 1713123
          }
        },
        "ddb29b81d3864e84906763227c624471": {
          "model_module": "@jupyter-widgets/controls",
          "model_name": "HTMLModel",
          "model_module_version": "1.5.0",
          "state": {
            "_dom_classes": [],
            "_model_module": "@jupyter-widgets/controls",
            "_model_module_version": "1.5.0",
            "_model_name": "HTMLModel",
            "_view_count": null,
            "_view_module": "@jupyter-widgets/controls",
            "_view_module_version": "1.5.0",
            "_view_name": "HTMLView",
            "description": "",
            "description_tooltip": null,
            "layout": "IPY_MODEL_c7a3331d8dce4e99aaf67faa3a238a50",
            "placeholder": "​",
            "style": "IPY_MODEL_ed6ddc64ad7a45848664bb91e5aae364",
            "value": " 1.63M/1.63M [00:01&lt;00:00, 1.95MB/s]"
          }
        },
        "d0d476b484c04cbe8f9446417b8f7784": {
          "model_module": "@jupyter-widgets/base",
          "model_name": "LayoutModel",
          "model_module_version": "1.2.0",
          "state": {
            "_model_module": "@jupyter-widgets/base",
            "_model_module_version": "1.2.0",
            "_model_name": "LayoutModel",
            "_view_count": null,
            "_view_module": "@jupyter-widgets/base",
            "_view_module_version": "1.2.0",
            "_view_name": "LayoutView",
            "align_content": null,
            "align_items": null,
            "align_self": null,
            "border": null,
            "bottom": null,
            "display": null,
            "flex": null,
            "flex_flow": null,
            "grid_area": null,
            "grid_auto_columns": null,
            "grid_auto_flow": null,
            "grid_auto_rows": null,
            "grid_column": null,
            "grid_gap": null,
            "grid_row": null,
            "grid_template_areas": null,
            "grid_template_columns": null,
            "grid_template_rows": null,
            "height": null,
            "justify_content": null,
            "justify_items": null,
            "left": null,
            "margin": null,
            "max_height": null,
            "max_width": null,
            "min_height": null,
            "min_width": null,
            "object_fit": null,
            "object_position": null,
            "order": null,
            "overflow": null,
            "overflow_x": null,
            "overflow_y": null,
            "padding": null,
            "right": null,
            "top": null,
            "visibility": null,
            "width": null
          }
        },
        "2af7ee501aa64b96943bf18be70781d6": {
          "model_module": "@jupyter-widgets/base",
          "model_name": "LayoutModel",
          "model_module_version": "1.2.0",
          "state": {
            "_model_module": "@jupyter-widgets/base",
            "_model_module_version": "1.2.0",
            "_model_name": "LayoutModel",
            "_view_count": null,
            "_view_module": "@jupyter-widgets/base",
            "_view_module_version": "1.2.0",
            "_view_name": "LayoutView",
            "align_content": null,
            "align_items": null,
            "align_self": null,
            "border": null,
            "bottom": null,
            "display": null,
            "flex": null,
            "flex_flow": null,
            "grid_area": null,
            "grid_auto_columns": null,
            "grid_auto_flow": null,
            "grid_auto_rows": null,
            "grid_column": null,
            "grid_gap": null,
            "grid_row": null,
            "grid_template_areas": null,
            "grid_template_columns": null,
            "grid_template_rows": null,
            "height": null,
            "justify_content": null,
            "justify_items": null,
            "left": null,
            "margin": null,
            "max_height": null,
            "max_width": null,
            "min_height": null,
            "min_width": null,
            "object_fit": null,
            "object_position": null,
            "order": null,
            "overflow": null,
            "overflow_x": null,
            "overflow_y": null,
            "padding": null,
            "right": null,
            "top": null,
            "visibility": null,
            "width": null
          }
        },
        "6002032d75c34e69875268b6a334291d": {
          "model_module": "@jupyter-widgets/controls",
          "model_name": "DescriptionStyleModel",
          "model_module_version": "1.5.0",
          "state": {
            "_model_module": "@jupyter-widgets/controls",
            "_model_module_version": "1.5.0",
            "_model_name": "DescriptionStyleModel",
            "_view_count": null,
            "_view_module": "@jupyter-widgets/base",
            "_view_module_version": "1.2.0",
            "_view_name": "StyleView",
            "description_width": ""
          }
        },
        "607ac2c860d14be1b3a3c4d1a69876fb": {
          "model_module": "@jupyter-widgets/base",
          "model_name": "LayoutModel",
          "model_module_version": "1.2.0",
          "state": {
            "_model_module": "@jupyter-widgets/base",
            "_model_module_version": "1.2.0",
            "_model_name": "LayoutModel",
            "_view_count": null,
            "_view_module": "@jupyter-widgets/base",
            "_view_module_version": "1.2.0",
            "_view_name": "LayoutView",
            "align_content": null,
            "align_items": null,
            "align_self": null,
            "border": null,
            "bottom": null,
            "display": null,
            "flex": null,
            "flex_flow": null,
            "grid_area": null,
            "grid_auto_columns": null,
            "grid_auto_flow": null,
            "grid_auto_rows": null,
            "grid_column": null,
            "grid_gap": null,
            "grid_row": null,
            "grid_template_areas": null,
            "grid_template_columns": null,
            "grid_template_rows": null,
            "height": null,
            "justify_content": null,
            "justify_items": null,
            "left": null,
            "margin": null,
            "max_height": null,
            "max_width": null,
            "min_height": null,
            "min_width": null,
            "object_fit": null,
            "object_position": null,
            "order": null,
            "overflow": null,
            "overflow_x": null,
            "overflow_y": null,
            "padding": null,
            "right": null,
            "top": null,
            "visibility": null,
            "width": null
          }
        },
        "abb6b5ce685f45fca0051c3d58691d92": {
          "model_module": "@jupyter-widgets/controls",
          "model_name": "ProgressStyleModel",
          "model_module_version": "1.5.0",
          "state": {
            "_model_module": "@jupyter-widgets/controls",
            "_model_module_version": "1.5.0",
            "_model_name": "ProgressStyleModel",
            "_view_count": null,
            "_view_module": "@jupyter-widgets/base",
            "_view_module_version": "1.2.0",
            "_view_name": "StyleView",
            "bar_color": null,
            "description_width": ""
          }
        },
        "c7a3331d8dce4e99aaf67faa3a238a50": {
          "model_module": "@jupyter-widgets/base",
          "model_name": "LayoutModel",
          "model_module_version": "1.2.0",
          "state": {
            "_model_module": "@jupyter-widgets/base",
            "_model_module_version": "1.2.0",
            "_model_name": "LayoutModel",
            "_view_count": null,
            "_view_module": "@jupyter-widgets/base",
            "_view_module_version": "1.2.0",
            "_view_name": "LayoutView",
            "align_content": null,
            "align_items": null,
            "align_self": null,
            "border": null,
            "bottom": null,
            "display": null,
            "flex": null,
            "flex_flow": null,
            "grid_area": null,
            "grid_auto_columns": null,
            "grid_auto_flow": null,
            "grid_auto_rows": null,
            "grid_column": null,
            "grid_gap": null,
            "grid_row": null,
            "grid_template_areas": null,
            "grid_template_columns": null,
            "grid_template_rows": null,
            "height": null,
            "justify_content": null,
            "justify_items": null,
            "left": null,
            "margin": null,
            "max_height": null,
            "max_width": null,
            "min_height": null,
            "min_width": null,
            "object_fit": null,
            "object_position": null,
            "order": null,
            "overflow": null,
            "overflow_x": null,
            "overflow_y": null,
            "padding": null,
            "right": null,
            "top": null,
            "visibility": null,
            "width": null
          }
        },
        "ed6ddc64ad7a45848664bb91e5aae364": {
          "model_module": "@jupyter-widgets/controls",
          "model_name": "DescriptionStyleModel",
          "model_module_version": "1.5.0",
          "state": {
            "_model_module": "@jupyter-widgets/controls",
            "_model_module_version": "1.5.0",
            "_model_name": "DescriptionStyleModel",
            "_view_count": null,
            "_view_module": "@jupyter-widgets/base",
            "_view_module_version": "1.2.0",
            "_view_name": "StyleView",
            "description_width": ""
          }
        },
        "1068a1e1f43341aca6a08130a304e5df": {
          "model_module": "@jupyter-widgets/controls",
          "model_name": "HBoxModel",
          "model_module_version": "1.5.0",
          "state": {
            "_dom_classes": [],
            "_model_module": "@jupyter-widgets/controls",
            "_model_module_version": "1.5.0",
            "_model_name": "HBoxModel",
            "_view_count": null,
            "_view_module": "@jupyter-widgets/controls",
            "_view_module_version": "1.5.0",
            "_view_name": "HBoxView",
            "box_style": "",
            "children": [
              "IPY_MODEL_2bff6f3b060644839d9dec460d62fce3",
              "IPY_MODEL_9ee01595393a4cb698cff95b3d6870c5",
              "IPY_MODEL_86d40aef135244a4a4983f54736ef71b"
            ],
            "layout": "IPY_MODEL_a0d3c58ed22b410b8931e33bcfafae90"
          }
        },
        "2bff6f3b060644839d9dec460d62fce3": {
          "model_module": "@jupyter-widgets/controls",
          "model_name": "HTMLModel",
          "model_module_version": "1.5.0",
          "state": {
            "_dom_classes": [],
            "_model_module": "@jupyter-widgets/controls",
            "_model_module_version": "1.5.0",
            "_model_name": "HTMLModel",
            "_view_count": null,
            "_view_module": "@jupyter-widgets/controls",
            "_view_module_version": "1.5.0",
            "_view_name": "HTMLView",
            "description": "",
            "description_tooltip": null,
            "layout": "IPY_MODEL_7173a5091a4f496fa4cd0f128d1762a4",
            "placeholder": "​",
            "style": "IPY_MODEL_3fe5ce64407644edaa184151d5ba0663",
            "value": "Downloading: 100%"
          }
        },
        "9ee01595393a4cb698cff95b3d6870c5": {
          "model_module": "@jupyter-widgets/controls",
          "model_name": "FloatProgressModel",
          "model_module_version": "1.5.0",
          "state": {
            "_dom_classes": [],
            "_model_module": "@jupyter-widgets/controls",
            "_model_module_version": "1.5.0",
            "_model_name": "FloatProgressModel",
            "_view_count": null,
            "_view_module": "@jupyter-widgets/controls",
            "_view_module_version": "1.5.0",
            "_view_name": "ProgressView",
            "bar_style": "success",
            "description": "",
            "description_tooltip": null,
            "layout": "IPY_MODEL_c9bf2b3af45c4a7ab4c906bc843654dc",
            "max": 1270925,
            "min": 0,
            "orientation": "horizontal",
            "style": "IPY_MODEL_b2347e37a1a5448c881345374520f517",
            "value": 1270925
          }
        },
        "86d40aef135244a4a4983f54736ef71b": {
          "model_module": "@jupyter-widgets/controls",
          "model_name": "HTMLModel",
          "model_module_version": "1.5.0",
          "state": {
            "_dom_classes": [],
            "_model_module": "@jupyter-widgets/controls",
            "_model_module_version": "1.5.0",
            "_model_name": "HTMLModel",
            "_view_count": null,
            "_view_module": "@jupyter-widgets/controls",
            "_view_module_version": "1.5.0",
            "_view_name": "HTMLView",
            "description": "",
            "description_tooltip": null,
            "layout": "IPY_MODEL_98a72e25be2b49e0b1d562ef50131ea5",
            "placeholder": "​",
            "style": "IPY_MODEL_88ede7bbae9b4586bba3ceff600e8c09",
            "value": " 1.21M/1.21M [00:01&lt;00:00, 870kB/s]"
          }
        },
        "a0d3c58ed22b410b8931e33bcfafae90": {
          "model_module": "@jupyter-widgets/base",
          "model_name": "LayoutModel",
          "model_module_version": "1.2.0",
          "state": {
            "_model_module": "@jupyter-widgets/base",
            "_model_module_version": "1.2.0",
            "_model_name": "LayoutModel",
            "_view_count": null,
            "_view_module": "@jupyter-widgets/base",
            "_view_module_version": "1.2.0",
            "_view_name": "LayoutView",
            "align_content": null,
            "align_items": null,
            "align_self": null,
            "border": null,
            "bottom": null,
            "display": null,
            "flex": null,
            "flex_flow": null,
            "grid_area": null,
            "grid_auto_columns": null,
            "grid_auto_flow": null,
            "grid_auto_rows": null,
            "grid_column": null,
            "grid_gap": null,
            "grid_row": null,
            "grid_template_areas": null,
            "grid_template_columns": null,
            "grid_template_rows": null,
            "height": null,
            "justify_content": null,
            "justify_items": null,
            "left": null,
            "margin": null,
            "max_height": null,
            "max_width": null,
            "min_height": null,
            "min_width": null,
            "object_fit": null,
            "object_position": null,
            "order": null,
            "overflow": null,
            "overflow_x": null,
            "overflow_y": null,
            "padding": null,
            "right": null,
            "top": null,
            "visibility": null,
            "width": null
          }
        },
        "7173a5091a4f496fa4cd0f128d1762a4": {
          "model_module": "@jupyter-widgets/base",
          "model_name": "LayoutModel",
          "model_module_version": "1.2.0",
          "state": {
            "_model_module": "@jupyter-widgets/base",
            "_model_module_version": "1.2.0",
            "_model_name": "LayoutModel",
            "_view_count": null,
            "_view_module": "@jupyter-widgets/base",
            "_view_module_version": "1.2.0",
            "_view_name": "LayoutView",
            "align_content": null,
            "align_items": null,
            "align_self": null,
            "border": null,
            "bottom": null,
            "display": null,
            "flex": null,
            "flex_flow": null,
            "grid_area": null,
            "grid_auto_columns": null,
            "grid_auto_flow": null,
            "grid_auto_rows": null,
            "grid_column": null,
            "grid_gap": null,
            "grid_row": null,
            "grid_template_areas": null,
            "grid_template_columns": null,
            "grid_template_rows": null,
            "height": null,
            "justify_content": null,
            "justify_items": null,
            "left": null,
            "margin": null,
            "max_height": null,
            "max_width": null,
            "min_height": null,
            "min_width": null,
            "object_fit": null,
            "object_position": null,
            "order": null,
            "overflow": null,
            "overflow_x": null,
            "overflow_y": null,
            "padding": null,
            "right": null,
            "top": null,
            "visibility": null,
            "width": null
          }
        },
        "3fe5ce64407644edaa184151d5ba0663": {
          "model_module": "@jupyter-widgets/controls",
          "model_name": "DescriptionStyleModel",
          "model_module_version": "1.5.0",
          "state": {
            "_model_module": "@jupyter-widgets/controls",
            "_model_module_version": "1.5.0",
            "_model_name": "DescriptionStyleModel",
            "_view_count": null,
            "_view_module": "@jupyter-widgets/base",
            "_view_module_version": "1.2.0",
            "_view_name": "StyleView",
            "description_width": ""
          }
        },
        "c9bf2b3af45c4a7ab4c906bc843654dc": {
          "model_module": "@jupyter-widgets/base",
          "model_name": "LayoutModel",
          "model_module_version": "1.2.0",
          "state": {
            "_model_module": "@jupyter-widgets/base",
            "_model_module_version": "1.2.0",
            "_model_name": "LayoutModel",
            "_view_count": null,
            "_view_module": "@jupyter-widgets/base",
            "_view_module_version": "1.2.0",
            "_view_name": "LayoutView",
            "align_content": null,
            "align_items": null,
            "align_self": null,
            "border": null,
            "bottom": null,
            "display": null,
            "flex": null,
            "flex_flow": null,
            "grid_area": null,
            "grid_auto_columns": null,
            "grid_auto_flow": null,
            "grid_auto_rows": null,
            "grid_column": null,
            "grid_gap": null,
            "grid_row": null,
            "grid_template_areas": null,
            "grid_template_columns": null,
            "grid_template_rows": null,
            "height": null,
            "justify_content": null,
            "justify_items": null,
            "left": null,
            "margin": null,
            "max_height": null,
            "max_width": null,
            "min_height": null,
            "min_width": null,
            "object_fit": null,
            "object_position": null,
            "order": null,
            "overflow": null,
            "overflow_x": null,
            "overflow_y": null,
            "padding": null,
            "right": null,
            "top": null,
            "visibility": null,
            "width": null
          }
        },
        "b2347e37a1a5448c881345374520f517": {
          "model_module": "@jupyter-widgets/controls",
          "model_name": "ProgressStyleModel",
          "model_module_version": "1.5.0",
          "state": {
            "_model_module": "@jupyter-widgets/controls",
            "_model_module_version": "1.5.0",
            "_model_name": "ProgressStyleModel",
            "_view_count": null,
            "_view_module": "@jupyter-widgets/base",
            "_view_module_version": "1.2.0",
            "_view_name": "StyleView",
            "bar_color": null,
            "description_width": ""
          }
        },
        "98a72e25be2b49e0b1d562ef50131ea5": {
          "model_module": "@jupyter-widgets/base",
          "model_name": "LayoutModel",
          "model_module_version": "1.2.0",
          "state": {
            "_model_module": "@jupyter-widgets/base",
            "_model_module_version": "1.2.0",
            "_model_name": "LayoutModel",
            "_view_count": null,
            "_view_module": "@jupyter-widgets/base",
            "_view_module_version": "1.2.0",
            "_view_name": "LayoutView",
            "align_content": null,
            "align_items": null,
            "align_self": null,
            "border": null,
            "bottom": null,
            "display": null,
            "flex": null,
            "flex_flow": null,
            "grid_area": null,
            "grid_auto_columns": null,
            "grid_auto_flow": null,
            "grid_auto_rows": null,
            "grid_column": null,
            "grid_gap": null,
            "grid_row": null,
            "grid_template_areas": null,
            "grid_template_columns": null,
            "grid_template_rows": null,
            "height": null,
            "justify_content": null,
            "justify_items": null,
            "left": null,
            "margin": null,
            "max_height": null,
            "max_width": null,
            "min_height": null,
            "min_width": null,
            "object_fit": null,
            "object_position": null,
            "order": null,
            "overflow": null,
            "overflow_x": null,
            "overflow_y": null,
            "padding": null,
            "right": null,
            "top": null,
            "visibility": null,
            "width": null
          }
        },
        "88ede7bbae9b4586bba3ceff600e8c09": {
          "model_module": "@jupyter-widgets/controls",
          "model_name": "DescriptionStyleModel",
          "model_module_version": "1.5.0",
          "state": {
            "_model_module": "@jupyter-widgets/controls",
            "_model_module_version": "1.5.0",
            "_model_name": "DescriptionStyleModel",
            "_view_count": null,
            "_view_module": "@jupyter-widgets/base",
            "_view_module_version": "1.2.0",
            "_view_name": "StyleView",
            "description_width": ""
          }
        },
        "c92ff203b8d64af29701d0d83359ad24": {
          "model_module": "@jupyter-widgets/controls",
          "model_name": "HBoxModel",
          "model_module_version": "1.5.0",
          "state": {
            "_dom_classes": [],
            "_model_module": "@jupyter-widgets/controls",
            "_model_module_version": "1.5.0",
            "_model_name": "HBoxModel",
            "_view_count": null,
            "_view_module": "@jupyter-widgets/controls",
            "_view_module_version": "1.5.0",
            "_view_name": "HBoxView",
            "box_style": "",
            "children": [
              "IPY_MODEL_2a056f01a6134639b8c577a0bf0dde01",
              "IPY_MODEL_17003578382340c48d8fef3fa4862449",
              "IPY_MODEL_40239bddadda40c190fbe1ddfe65372a"
            ],
            "layout": "IPY_MODEL_6606bbd27ad044e0b5f46a6b09735991"
          }
        },
        "2a056f01a6134639b8c577a0bf0dde01": {
          "model_module": "@jupyter-widgets/controls",
          "model_name": "HTMLModel",
          "model_module_version": "1.5.0",
          "state": {
            "_dom_classes": [],
            "_model_module": "@jupyter-widgets/controls",
            "_model_module_version": "1.5.0",
            "_model_name": "HTMLModel",
            "_view_count": null,
            "_view_module": "@jupyter-widgets/controls",
            "_view_module_version": "1.5.0",
            "_view_name": "HTMLView",
            "description": "",
            "description_tooltip": null,
            "layout": "IPY_MODEL_eb49f1db4ce446bfbda5bd16d91eb91d",
            "placeholder": "​",
            "style": "IPY_MODEL_7732574b889b4d44ace0f7ed97f283e0",
            "value": "Downloading: 100%"
          }
        },
        "17003578382340c48d8fef3fa4862449": {
          "model_module": "@jupyter-widgets/controls",
          "model_name": "FloatProgressModel",
          "model_module_version": "1.5.0",
          "state": {
            "_dom_classes": [],
            "_model_module": "@jupyter-widgets/controls",
            "_model_module_version": "1.5.0",
            "_model_name": "FloatProgressModel",
            "_view_count": null,
            "_view_module": "@jupyter-widgets/controls",
            "_view_module_version": "1.5.0",
            "_view_name": "ProgressView",
            "bar_style": "success",
            "description": "",
            "description_tooltip": null,
            "layout": "IPY_MODEL_ad63f6c5f555453bad6631732086a5ab",
            "max": 608,
            "min": 0,
            "orientation": "horizontal",
            "style": "IPY_MODEL_0dfcbb3405fa4ea8a994c3ea1d846fd2",
            "value": 608
          }
        },
        "40239bddadda40c190fbe1ddfe65372a": {
          "model_module": "@jupyter-widgets/controls",
          "model_name": "HTMLModel",
          "model_module_version": "1.5.0",
          "state": {
            "_dom_classes": [],
            "_model_module": "@jupyter-widgets/controls",
            "_model_module_version": "1.5.0",
            "_model_name": "HTMLModel",
            "_view_count": null,
            "_view_module": "@jupyter-widgets/controls",
            "_view_module_version": "1.5.0",
            "_view_name": "HTMLView",
            "description": "",
            "description_tooltip": null,
            "layout": "IPY_MODEL_3b2856d0adf544f0ac7b24676cb2f6a7",
            "placeholder": "​",
            "style": "IPY_MODEL_61d0584e80294457afec12e6999c4417",
            "value": " 608/608 [00:00&lt;00:00, 21.1kB/s]"
          }
        },
        "6606bbd27ad044e0b5f46a6b09735991": {
          "model_module": "@jupyter-widgets/base",
          "model_name": "LayoutModel",
          "model_module_version": "1.2.0",
          "state": {
            "_model_module": "@jupyter-widgets/base",
            "_model_module_version": "1.2.0",
            "_model_name": "LayoutModel",
            "_view_count": null,
            "_view_module": "@jupyter-widgets/base",
            "_view_module_version": "1.2.0",
            "_view_name": "LayoutView",
            "align_content": null,
            "align_items": null,
            "align_self": null,
            "border": null,
            "bottom": null,
            "display": null,
            "flex": null,
            "flex_flow": null,
            "grid_area": null,
            "grid_auto_columns": null,
            "grid_auto_flow": null,
            "grid_auto_rows": null,
            "grid_column": null,
            "grid_gap": null,
            "grid_row": null,
            "grid_template_areas": null,
            "grid_template_columns": null,
            "grid_template_rows": null,
            "height": null,
            "justify_content": null,
            "justify_items": null,
            "left": null,
            "margin": null,
            "max_height": null,
            "max_width": null,
            "min_height": null,
            "min_width": null,
            "object_fit": null,
            "object_position": null,
            "order": null,
            "overflow": null,
            "overflow_x": null,
            "overflow_y": null,
            "padding": null,
            "right": null,
            "top": null,
            "visibility": null,
            "width": null
          }
        },
        "eb49f1db4ce446bfbda5bd16d91eb91d": {
          "model_module": "@jupyter-widgets/base",
          "model_name": "LayoutModel",
          "model_module_version": "1.2.0",
          "state": {
            "_model_module": "@jupyter-widgets/base",
            "_model_module_version": "1.2.0",
            "_model_name": "LayoutModel",
            "_view_count": null,
            "_view_module": "@jupyter-widgets/base",
            "_view_module_version": "1.2.0",
            "_view_name": "LayoutView",
            "align_content": null,
            "align_items": null,
            "align_self": null,
            "border": null,
            "bottom": null,
            "display": null,
            "flex": null,
            "flex_flow": null,
            "grid_area": null,
            "grid_auto_columns": null,
            "grid_auto_flow": null,
            "grid_auto_rows": null,
            "grid_column": null,
            "grid_gap": null,
            "grid_row": null,
            "grid_template_areas": null,
            "grid_template_columns": null,
            "grid_template_rows": null,
            "height": null,
            "justify_content": null,
            "justify_items": null,
            "left": null,
            "margin": null,
            "max_height": null,
            "max_width": null,
            "min_height": null,
            "min_width": null,
            "object_fit": null,
            "object_position": null,
            "order": null,
            "overflow": null,
            "overflow_x": null,
            "overflow_y": null,
            "padding": null,
            "right": null,
            "top": null,
            "visibility": null,
            "width": null
          }
        },
        "7732574b889b4d44ace0f7ed97f283e0": {
          "model_module": "@jupyter-widgets/controls",
          "model_name": "DescriptionStyleModel",
          "model_module_version": "1.5.0",
          "state": {
            "_model_module": "@jupyter-widgets/controls",
            "_model_module_version": "1.5.0",
            "_model_name": "DescriptionStyleModel",
            "_view_count": null,
            "_view_module": "@jupyter-widgets/base",
            "_view_module_version": "1.2.0",
            "_view_name": "StyleView",
            "description_width": ""
          }
        },
        "ad63f6c5f555453bad6631732086a5ab": {
          "model_module": "@jupyter-widgets/base",
          "model_name": "LayoutModel",
          "model_module_version": "1.2.0",
          "state": {
            "_model_module": "@jupyter-widgets/base",
            "_model_module_version": "1.2.0",
            "_model_name": "LayoutModel",
            "_view_count": null,
            "_view_module": "@jupyter-widgets/base",
            "_view_module_version": "1.2.0",
            "_view_name": "LayoutView",
            "align_content": null,
            "align_items": null,
            "align_self": null,
            "border": null,
            "bottom": null,
            "display": null,
            "flex": null,
            "flex_flow": null,
            "grid_area": null,
            "grid_auto_columns": null,
            "grid_auto_flow": null,
            "grid_auto_rows": null,
            "grid_column": null,
            "grid_gap": null,
            "grid_row": null,
            "grid_template_areas": null,
            "grid_template_columns": null,
            "grid_template_rows": null,
            "height": null,
            "justify_content": null,
            "justify_items": null,
            "left": null,
            "margin": null,
            "max_height": null,
            "max_width": null,
            "min_height": null,
            "min_width": null,
            "object_fit": null,
            "object_position": null,
            "order": null,
            "overflow": null,
            "overflow_x": null,
            "overflow_y": null,
            "padding": null,
            "right": null,
            "top": null,
            "visibility": null,
            "width": null
          }
        },
        "0dfcbb3405fa4ea8a994c3ea1d846fd2": {
          "model_module": "@jupyter-widgets/controls",
          "model_name": "ProgressStyleModel",
          "model_module_version": "1.5.0",
          "state": {
            "_model_module": "@jupyter-widgets/controls",
            "_model_module_version": "1.5.0",
            "_model_name": "ProgressStyleModel",
            "_view_count": null,
            "_view_module": "@jupyter-widgets/base",
            "_view_module_version": "1.2.0",
            "_view_name": "StyleView",
            "bar_color": null,
            "description_width": ""
          }
        },
        "3b2856d0adf544f0ac7b24676cb2f6a7": {
          "model_module": "@jupyter-widgets/base",
          "model_name": "LayoutModel",
          "model_module_version": "1.2.0",
          "state": {
            "_model_module": "@jupyter-widgets/base",
            "_model_module_version": "1.2.0",
            "_model_name": "LayoutModel",
            "_view_count": null,
            "_view_module": "@jupyter-widgets/base",
            "_view_module_version": "1.2.0",
            "_view_name": "LayoutView",
            "align_content": null,
            "align_items": null,
            "align_self": null,
            "border": null,
            "bottom": null,
            "display": null,
            "flex": null,
            "flex_flow": null,
            "grid_area": null,
            "grid_auto_columns": null,
            "grid_auto_flow": null,
            "grid_auto_rows": null,
            "grid_column": null,
            "grid_gap": null,
            "grid_row": null,
            "grid_template_areas": null,
            "grid_template_columns": null,
            "grid_template_rows": null,
            "height": null,
            "justify_content": null,
            "justify_items": null,
            "left": null,
            "margin": null,
            "max_height": null,
            "max_width": null,
            "min_height": null,
            "min_width": null,
            "object_fit": null,
            "object_position": null,
            "order": null,
            "overflow": null,
            "overflow_x": null,
            "overflow_y": null,
            "padding": null,
            "right": null,
            "top": null,
            "visibility": null,
            "width": null
          }
        },
        "61d0584e80294457afec12e6999c4417": {
          "model_module": "@jupyter-widgets/controls",
          "model_name": "DescriptionStyleModel",
          "model_module_version": "1.5.0",
          "state": {
            "_model_module": "@jupyter-widgets/controls",
            "_model_module_version": "1.5.0",
            "_model_name": "DescriptionStyleModel",
            "_view_count": null,
            "_view_module": "@jupyter-widgets/base",
            "_view_module_version": "1.2.0",
            "_view_name": "StyleView",
            "description_width": ""
          }
        },
        "d62bce98ced8422ba7b4c48977527603": {
          "model_module": "@jupyter-widgets/controls",
          "model_name": "HBoxModel",
          "model_module_version": "1.5.0",
          "state": {
            "_dom_classes": [],
            "_model_module": "@jupyter-widgets/controls",
            "_model_module_version": "1.5.0",
            "_model_name": "HBoxModel",
            "_view_count": null,
            "_view_module": "@jupyter-widgets/controls",
            "_view_module_version": "1.5.0",
            "_view_name": "HBoxView",
            "box_style": "",
            "children": [
              "IPY_MODEL_44b282564f314774b7bf084c9ce186ca",
              "IPY_MODEL_14aade4938bd4f12a78e452f897fb70c",
              "IPY_MODEL_0592761b02f2470ab09160953b45a26d"
            ],
            "layout": "IPY_MODEL_603a50015f47464cba41e39e6453354b"
          }
        },
        "44b282564f314774b7bf084c9ce186ca": {
          "model_module": "@jupyter-widgets/controls",
          "model_name": "HTMLModel",
          "model_module_version": "1.5.0",
          "state": {
            "_dom_classes": [],
            "_model_module": "@jupyter-widgets/controls",
            "_model_module_version": "1.5.0",
            "_model_name": "HTMLModel",
            "_view_count": null,
            "_view_module": "@jupyter-widgets/controls",
            "_view_module_version": "1.5.0",
            "_view_name": "HTMLView",
            "description": "",
            "description_tooltip": null,
            "layout": "IPY_MODEL_0dc027123d1943a0b049e048295d3e30",
            "placeholder": "​",
            "style": "IPY_MODEL_48327fa9eb3c47eda0f3d8ffda50143d",
            "value": "Downloading: 100%"
          }
        },
        "14aade4938bd4f12a78e452f897fb70c": {
          "model_module": "@jupyter-widgets/controls",
          "model_name": "FloatProgressModel",
          "model_module_version": "1.5.0",
          "state": {
            "_dom_classes": [],
            "_model_module": "@jupyter-widgets/controls",
            "_model_module_version": "1.5.0",
            "_model_name": "FloatProgressModel",
            "_view_count": null,
            "_view_module": "@jupyter-widgets/controls",
            "_view_module_version": "1.5.0",
            "_view_name": "ProgressView",
            "bar_style": "success",
            "description": "",
            "description_tooltip": null,
            "layout": "IPY_MODEL_c9d2c8a96a2f46ff9897498aec7f9185",
            "max": 551290714,
            "min": 0,
            "orientation": "horizontal",
            "style": "IPY_MODEL_d71dcb60ce704409999b2c303ccb0fac",
            "value": 551290714
          }
        },
        "0592761b02f2470ab09160953b45a26d": {
          "model_module": "@jupyter-widgets/controls",
          "model_name": "HTMLModel",
          "model_module_version": "1.5.0",
          "state": {
            "_dom_classes": [],
            "_model_module": "@jupyter-widgets/controls",
            "_model_module_version": "1.5.0",
            "_model_name": "HTMLModel",
            "_view_count": null,
            "_view_module": "@jupyter-widgets/controls",
            "_view_module_version": "1.5.0",
            "_view_name": "HTMLView",
            "description": "",
            "description_tooltip": null,
            "layout": "IPY_MODEL_2238e0998f12497ea70f81dc150f98b8",
            "placeholder": "​",
            "style": "IPY_MODEL_ce7fc3c728bc4ad497703260bfcc967f",
            "value": " 526M/526M [00:10&lt;00:00, 53.3MB/s]"
          }
        },
        "603a50015f47464cba41e39e6453354b": {
          "model_module": "@jupyter-widgets/base",
          "model_name": "LayoutModel",
          "model_module_version": "1.2.0",
          "state": {
            "_model_module": "@jupyter-widgets/base",
            "_model_module_version": "1.2.0",
            "_model_name": "LayoutModel",
            "_view_count": null,
            "_view_module": "@jupyter-widgets/base",
            "_view_module_version": "1.2.0",
            "_view_name": "LayoutView",
            "align_content": null,
            "align_items": null,
            "align_self": null,
            "border": null,
            "bottom": null,
            "display": null,
            "flex": null,
            "flex_flow": null,
            "grid_area": null,
            "grid_auto_columns": null,
            "grid_auto_flow": null,
            "grid_auto_rows": null,
            "grid_column": null,
            "grid_gap": null,
            "grid_row": null,
            "grid_template_areas": null,
            "grid_template_columns": null,
            "grid_template_rows": null,
            "height": null,
            "justify_content": null,
            "justify_items": null,
            "left": null,
            "margin": null,
            "max_height": null,
            "max_width": null,
            "min_height": null,
            "min_width": null,
            "object_fit": null,
            "object_position": null,
            "order": null,
            "overflow": null,
            "overflow_x": null,
            "overflow_y": null,
            "padding": null,
            "right": null,
            "top": null,
            "visibility": null,
            "width": null
          }
        },
        "0dc027123d1943a0b049e048295d3e30": {
          "model_module": "@jupyter-widgets/base",
          "model_name": "LayoutModel",
          "model_module_version": "1.2.0",
          "state": {
            "_model_module": "@jupyter-widgets/base",
            "_model_module_version": "1.2.0",
            "_model_name": "LayoutModel",
            "_view_count": null,
            "_view_module": "@jupyter-widgets/base",
            "_view_module_version": "1.2.0",
            "_view_name": "LayoutView",
            "align_content": null,
            "align_items": null,
            "align_self": null,
            "border": null,
            "bottom": null,
            "display": null,
            "flex": null,
            "flex_flow": null,
            "grid_area": null,
            "grid_auto_columns": null,
            "grid_auto_flow": null,
            "grid_auto_rows": null,
            "grid_column": null,
            "grid_gap": null,
            "grid_row": null,
            "grid_template_areas": null,
            "grid_template_columns": null,
            "grid_template_rows": null,
            "height": null,
            "justify_content": null,
            "justify_items": null,
            "left": null,
            "margin": null,
            "max_height": null,
            "max_width": null,
            "min_height": null,
            "min_width": null,
            "object_fit": null,
            "object_position": null,
            "order": null,
            "overflow": null,
            "overflow_x": null,
            "overflow_y": null,
            "padding": null,
            "right": null,
            "top": null,
            "visibility": null,
            "width": null
          }
        },
        "48327fa9eb3c47eda0f3d8ffda50143d": {
          "model_module": "@jupyter-widgets/controls",
          "model_name": "DescriptionStyleModel",
          "model_module_version": "1.5.0",
          "state": {
            "_model_module": "@jupyter-widgets/controls",
            "_model_module_version": "1.5.0",
            "_model_name": "DescriptionStyleModel",
            "_view_count": null,
            "_view_module": "@jupyter-widgets/base",
            "_view_module_version": "1.2.0",
            "_view_name": "StyleView",
            "description_width": ""
          }
        },
        "c9d2c8a96a2f46ff9897498aec7f9185": {
          "model_module": "@jupyter-widgets/base",
          "model_name": "LayoutModel",
          "model_module_version": "1.2.0",
          "state": {
            "_model_module": "@jupyter-widgets/base",
            "_model_module_version": "1.2.0",
            "_model_name": "LayoutModel",
            "_view_count": null,
            "_view_module": "@jupyter-widgets/base",
            "_view_module_version": "1.2.0",
            "_view_name": "LayoutView",
            "align_content": null,
            "align_items": null,
            "align_self": null,
            "border": null,
            "bottom": null,
            "display": null,
            "flex": null,
            "flex_flow": null,
            "grid_area": null,
            "grid_auto_columns": null,
            "grid_auto_flow": null,
            "grid_auto_rows": null,
            "grid_column": null,
            "grid_gap": null,
            "grid_row": null,
            "grid_template_areas": null,
            "grid_template_columns": null,
            "grid_template_rows": null,
            "height": null,
            "justify_content": null,
            "justify_items": null,
            "left": null,
            "margin": null,
            "max_height": null,
            "max_width": null,
            "min_height": null,
            "min_width": null,
            "object_fit": null,
            "object_position": null,
            "order": null,
            "overflow": null,
            "overflow_x": null,
            "overflow_y": null,
            "padding": null,
            "right": null,
            "top": null,
            "visibility": null,
            "width": null
          }
        },
        "d71dcb60ce704409999b2c303ccb0fac": {
          "model_module": "@jupyter-widgets/controls",
          "model_name": "ProgressStyleModel",
          "model_module_version": "1.5.0",
          "state": {
            "_model_module": "@jupyter-widgets/controls",
            "_model_module_version": "1.5.0",
            "_model_name": "ProgressStyleModel",
            "_view_count": null,
            "_view_module": "@jupyter-widgets/base",
            "_view_module_version": "1.2.0",
            "_view_name": "StyleView",
            "bar_color": null,
            "description_width": ""
          }
        },
        "2238e0998f12497ea70f81dc150f98b8": {
          "model_module": "@jupyter-widgets/base",
          "model_name": "LayoutModel",
          "model_module_version": "1.2.0",
          "state": {
            "_model_module": "@jupyter-widgets/base",
            "_model_module_version": "1.2.0",
            "_model_name": "LayoutModel",
            "_view_count": null,
            "_view_module": "@jupyter-widgets/base",
            "_view_module_version": "1.2.0",
            "_view_name": "LayoutView",
            "align_content": null,
            "align_items": null,
            "align_self": null,
            "border": null,
            "bottom": null,
            "display": null,
            "flex": null,
            "flex_flow": null,
            "grid_area": null,
            "grid_auto_columns": null,
            "grid_auto_flow": null,
            "grid_auto_rows": null,
            "grid_column": null,
            "grid_gap": null,
            "grid_row": null,
            "grid_template_areas": null,
            "grid_template_columns": null,
            "grid_template_rows": null,
            "height": null,
            "justify_content": null,
            "justify_items": null,
            "left": null,
            "margin": null,
            "max_height": null,
            "max_width": null,
            "min_height": null,
            "min_width": null,
            "object_fit": null,
            "object_position": null,
            "order": null,
            "overflow": null,
            "overflow_x": null,
            "overflow_y": null,
            "padding": null,
            "right": null,
            "top": null,
            "visibility": null,
            "width": null
          }
        },
        "ce7fc3c728bc4ad497703260bfcc967f": {
          "model_module": "@jupyter-widgets/controls",
          "model_name": "DescriptionStyleModel",
          "model_module_version": "1.5.0",
          "state": {
            "_model_module": "@jupyter-widgets/controls",
            "_model_module_version": "1.5.0",
            "_model_name": "DescriptionStyleModel",
            "_view_count": null,
            "_view_module": "@jupyter-widgets/base",
            "_view_module_version": "1.2.0",
            "_view_name": "StyleView",
            "description_width": ""
          }
        }
      }
    }
  },
  "cells": [
    {
      "cell_type": "markdown",
      "metadata": {
        "id": "view-in-github",
        "colab_type": "text"
      },
      "source": [
        "<a href=\"https://colab.research.google.com/github/GruffGemini/ComputationalLinguistics/blob/main/%D0%94%D0%97_10.ipynb\" target=\"_parent\"><img src=\"https://colab.research.google.com/assets/colab-badge.svg\" alt=\"Open In Colab\"/></a>"
      ]
    },
    {
      "cell_type": "markdown",
      "source": [
        "# Задание 1\n"
      ],
      "metadata": {
        "id": "6xBpSIvZFC5J"
      }
    },
    {
      "cell_type": "code",
      "source": [
        "!pip install transformers"
      ],
      "metadata": {
        "colab": {
          "base_uri": "https://localhost:8080/"
        },
        "id": "zzm9T9KRWTpy",
        "outputId": "4218a9d4-ea47-4b85-cc6f-a0c65f8a130f"
      },
      "execution_count": 1,
      "outputs": [
        {
          "output_type": "stream",
          "name": "stdout",
          "text": [
            "Collecting transformers\n",
            "  Downloading transformers-4.18.0-py3-none-any.whl (4.0 MB)\n",
            "\u001b[K     |████████████████████████████████| 4.0 MB 28.5 MB/s \n",
            "\u001b[?25hCollecting pyyaml>=5.1\n",
            "  Downloading PyYAML-6.0-cp37-cp37m-manylinux_2_5_x86_64.manylinux1_x86_64.manylinux_2_12_x86_64.manylinux2010_x86_64.whl (596 kB)\n",
            "\u001b[K     |████████████████████████████████| 596 kB 54.8 MB/s \n",
            "\u001b[?25hCollecting sacremoses\n",
            "  Downloading sacremoses-0.0.53.tar.gz (880 kB)\n",
            "\u001b[K     |████████████████████████████████| 880 kB 57.5 MB/s \n",
            "\u001b[?25hRequirement already satisfied: packaging>=20.0 in /usr/local/lib/python3.7/dist-packages (from transformers) (21.3)\n",
            "Requirement already satisfied: numpy>=1.17 in /usr/local/lib/python3.7/dist-packages (from transformers) (1.21.6)\n",
            "Requirement already satisfied: tqdm>=4.27 in /usr/local/lib/python3.7/dist-packages (from transformers) (4.64.0)\n",
            "Requirement already satisfied: filelock in /usr/local/lib/python3.7/dist-packages (from transformers) (3.6.0)\n",
            "Requirement already satisfied: requests in /usr/local/lib/python3.7/dist-packages (from transformers) (2.23.0)\n",
            "Collecting tokenizers!=0.11.3,<0.13,>=0.11.1\n",
            "  Downloading tokenizers-0.12.1-cp37-cp37m-manylinux_2_12_x86_64.manylinux2010_x86_64.whl (6.6 MB)\n",
            "\u001b[K     |████████████████████████████████| 6.6 MB 49.3 MB/s \n",
            "\u001b[?25hRequirement already satisfied: regex!=2019.12.17 in /usr/local/lib/python3.7/dist-packages (from transformers) (2019.12.20)\n",
            "Requirement already satisfied: importlib-metadata in /usr/local/lib/python3.7/dist-packages (from transformers) (4.11.3)\n",
            "Collecting huggingface-hub<1.0,>=0.1.0\n",
            "  Downloading huggingface_hub-0.5.1-py3-none-any.whl (77 kB)\n",
            "\u001b[K     |████████████████████████████████| 77 kB 7.8 MB/s \n",
            "\u001b[?25hRequirement already satisfied: typing-extensions>=3.7.4.3 in /usr/local/lib/python3.7/dist-packages (from huggingface-hub<1.0,>=0.1.0->transformers) (4.2.0)\n",
            "Requirement already satisfied: pyparsing!=3.0.5,>=2.0.2 in /usr/local/lib/python3.7/dist-packages (from packaging>=20.0->transformers) (3.0.8)\n",
            "Requirement already satisfied: zipp>=0.5 in /usr/local/lib/python3.7/dist-packages (from importlib-metadata->transformers) (3.8.0)\n",
            "Requirement already satisfied: chardet<4,>=3.0.2 in /usr/local/lib/python3.7/dist-packages (from requests->transformers) (3.0.4)\n",
            "Requirement already satisfied: certifi>=2017.4.17 in /usr/local/lib/python3.7/dist-packages (from requests->transformers) (2021.10.8)\n",
            "Requirement already satisfied: idna<3,>=2.5 in /usr/local/lib/python3.7/dist-packages (from requests->transformers) (2.10)\n",
            "Requirement already satisfied: urllib3!=1.25.0,!=1.25.1,<1.26,>=1.21.1 in /usr/local/lib/python3.7/dist-packages (from requests->transformers) (1.24.3)\n",
            "Requirement already satisfied: six in /usr/local/lib/python3.7/dist-packages (from sacremoses->transformers) (1.15.0)\n",
            "Requirement already satisfied: click in /usr/local/lib/python3.7/dist-packages (from sacremoses->transformers) (7.1.2)\n",
            "Requirement already satisfied: joblib in /usr/local/lib/python3.7/dist-packages (from sacremoses->transformers) (1.1.0)\n",
            "Building wheels for collected packages: sacremoses\n",
            "  Building wheel for sacremoses (setup.py) ... \u001b[?25l\u001b[?25hdone\n",
            "  Created wheel for sacremoses: filename=sacremoses-0.0.53-py3-none-any.whl size=895260 sha256=657025c993b0be3d8f8ddcdc7f3f7de3fbd756b046592bb87af58d2c18afe702\n",
            "  Stored in directory: /root/.cache/pip/wheels/87/39/dd/a83eeef36d0bf98e7a4d1933a4ad2d660295a40613079bafc9\n",
            "Successfully built sacremoses\n",
            "Installing collected packages: pyyaml, tokenizers, sacremoses, huggingface-hub, transformers\n",
            "  Attempting uninstall: pyyaml\n",
            "    Found existing installation: PyYAML 3.13\n",
            "    Uninstalling PyYAML-3.13:\n",
            "      Successfully uninstalled PyYAML-3.13\n",
            "Successfully installed huggingface-hub-0.5.1 pyyaml-6.0 sacremoses-0.0.53 tokenizers-0.12.1 transformers-4.18.0\n"
          ]
        }
      ]
    },
    {
      "cell_type": "code",
      "source": [
        "import torch\n",
        "from transformers import GPT2LMHeadModel, GPT2Tokenizer, TextDataset, DataCollatorForLanguageModeling, Trainer, TrainingArguments\n",
        "\n",
        "DEVICE = torch.device(\"cuda:0\")"
      ],
      "metadata": {
        "id": "gf9RFzdjWWYr"
      },
      "execution_count": 2,
      "outputs": []
    },
    {
      "cell_type": "code",
      "source": [
        "model_name = \"sberbank-ai/rugpt3small_based_on_gpt2\"\n",
        "tokenizer = GPT2Tokenizer.from_pretrained(model_name)\n",
        "model = GPT2LMHeadModel.from_pretrained(model_name, use_cache=False).to(DEVICE)"
      ],
      "metadata": {
        "colab": {
          "base_uri": "https://localhost:8080/",
          "height": 145,
          "referenced_widgets": [
            "50a0b09b49fe41daa93e6f067e02df1e",
            "3c9327cbf9874eeba38373fdf7b80fe8",
            "0edd8c69522445b7809a022b29d823cf",
            "ddb29b81d3864e84906763227c624471",
            "d0d476b484c04cbe8f9446417b8f7784",
            "2af7ee501aa64b96943bf18be70781d6",
            "6002032d75c34e69875268b6a334291d",
            "607ac2c860d14be1b3a3c4d1a69876fb",
            "abb6b5ce685f45fca0051c3d58691d92",
            "c7a3331d8dce4e99aaf67faa3a238a50",
            "ed6ddc64ad7a45848664bb91e5aae364",
            "1068a1e1f43341aca6a08130a304e5df",
            "2bff6f3b060644839d9dec460d62fce3",
            "9ee01595393a4cb698cff95b3d6870c5",
            "86d40aef135244a4a4983f54736ef71b",
            "a0d3c58ed22b410b8931e33bcfafae90",
            "7173a5091a4f496fa4cd0f128d1762a4",
            "3fe5ce64407644edaa184151d5ba0663",
            "c9bf2b3af45c4a7ab4c906bc843654dc",
            "b2347e37a1a5448c881345374520f517",
            "98a72e25be2b49e0b1d562ef50131ea5",
            "88ede7bbae9b4586bba3ceff600e8c09",
            "c92ff203b8d64af29701d0d83359ad24",
            "2a056f01a6134639b8c577a0bf0dde01",
            "17003578382340c48d8fef3fa4862449",
            "40239bddadda40c190fbe1ddfe65372a",
            "6606bbd27ad044e0b5f46a6b09735991",
            "eb49f1db4ce446bfbda5bd16d91eb91d",
            "7732574b889b4d44ace0f7ed97f283e0",
            "ad63f6c5f555453bad6631732086a5ab",
            "0dfcbb3405fa4ea8a994c3ea1d846fd2",
            "3b2856d0adf544f0ac7b24676cb2f6a7",
            "61d0584e80294457afec12e6999c4417",
            "d62bce98ced8422ba7b4c48977527603",
            "44b282564f314774b7bf084c9ce186ca",
            "14aade4938bd4f12a78e452f897fb70c",
            "0592761b02f2470ab09160953b45a26d",
            "603a50015f47464cba41e39e6453354b",
            "0dc027123d1943a0b049e048295d3e30",
            "48327fa9eb3c47eda0f3d8ffda50143d",
            "c9d2c8a96a2f46ff9897498aec7f9185",
            "d71dcb60ce704409999b2c303ccb0fac",
            "2238e0998f12497ea70f81dc150f98b8",
            "ce7fc3c728bc4ad497703260bfcc967f"
          ]
        },
        "id": "B3nDJlRiFFpJ",
        "outputId": "af200844-4b41-4717-d967-b16d922221f9"
      },
      "execution_count": 3,
      "outputs": [
        {
          "output_type": "display_data",
          "data": {
            "text/plain": [
              "Downloading:   0%|          | 0.00/1.63M [00:00<?, ?B/s]"
            ],
            "application/vnd.jupyter.widget-view+json": {
              "version_major": 2,
              "version_minor": 0,
              "model_id": "50a0b09b49fe41daa93e6f067e02df1e"
            }
          },
          "metadata": {}
        },
        {
          "output_type": "display_data",
          "data": {
            "text/plain": [
              "Downloading:   0%|          | 0.00/1.21M [00:00<?, ?B/s]"
            ],
            "application/vnd.jupyter.widget-view+json": {
              "version_major": 2,
              "version_minor": 0,
              "model_id": "1068a1e1f43341aca6a08130a304e5df"
            }
          },
          "metadata": {}
        },
        {
          "output_type": "display_data",
          "data": {
            "text/plain": [
              "Downloading:   0%|          | 0.00/608 [00:00<?, ?B/s]"
            ],
            "application/vnd.jupyter.widget-view+json": {
              "version_major": 2,
              "version_minor": 0,
              "model_id": "c92ff203b8d64af29701d0d83359ad24"
            }
          },
          "metadata": {}
        },
        {
          "output_type": "display_data",
          "data": {
            "text/plain": [
              "Downloading:   0%|          | 0.00/526M [00:00<?, ?B/s]"
            ],
            "application/vnd.jupyter.widget-view+json": {
              "version_major": 2,
              "version_minor": 0,
              "model_id": "d62bce98ced8422ba7b4c48977527603"
            }
          },
          "metadata": {}
        }
      ]
    },
    {
      "cell_type": "markdown",
      "source": [
        "В качестве обучающей выборки возьмем небольшую коллекцию тостов (около 200 текстов по 5-10 предложений в каждом)."
      ],
      "metadata": {
        "id": "EDF03jdHDU8Z"
      }
    },
    {
      "cell_type": "code",
      "source": [
        "texts_path = 'drive/MyDrive/CompLing10/hw10.txt'\n",
        "with open(texts_path) as f:\n",
        "  texts = [i.strip() for i in f.readlines()]"
      ],
      "metadata": {
        "id": "6Fn-FD0TWsdk"
      },
      "execution_count": 273,
      "outputs": []
    },
    {
      "cell_type": "code",
      "source": [
        "texts"
      ],
      "metadata": {
        "colab": {
          "base_uri": "https://localhost:8080/"
        },
        "id": "xcxaCaMWD26B",
        "outputId": "946c9c2c-ff3d-4de2-a1b9-558325e4fe66"
      },
      "execution_count": 274,
      "outputs": [
        {
          "output_type": "execute_result",
          "data": {
            "text/plain": [
              "['Богатый бизнесмен решил жениться и обратился в брачную контору, чтобы ему подыскали даму из высшего общества. – Красивую, естественно? – поинтересовался брачный агент. – Конечно. Такую, чтобы о ней можно было сказать, что она как будто сошла с картины, – уточнил свое желание бизнесмен. После того, как бюро организовало ему встречу, он ворвался в брачную контору, брызгая слюной от возмущения: – Я же вас просил: красивую, как на картине. А кого вы мне подсовываете: уши, как лопухи, нос лезет на губу, глаза косые. – Сэр, не надо так шуметь, – обратился к нему один из агентов. – Это ведь дело вкуса. Кому нравится Рафаэль, а кто и без ума от Пикассо. Так выпьем же за разнообразие вкусов, о которых не спорят.',\n",
              " 'Плывет по реке черепаха, на спине у нее сидит змея. Змея думает: – Укушу – сбросит! Черепаха думает: – Сброшу – укусит! Так выпьем же за верную женскую дружбу, которая помогает преодолевать все преграды!',\n",
              " 'Сельский двор. В углу петух активно ухаживает за курочкой. А в это время на крыльцо выходит грузин. У него в руке кулек семечек, которые он лениво грызет. Затем он набирает горсть и бросает на землю. Петух, заметив семечки, оставляет свою подругу и принимается их клевать. Грузин, увидев эту сцену, грустно покачал головой: «Не дай Бог так оголодать»! Предлагаю выпить за изобилие!',\n",
              " '– Перестань привередничать! – говорит жена мужу за обедом. – В понедельник ты ел гороховое пюре за обедом, во вторник и среду – тоже, в четверг согласился, а сегодня вдруг закапризничал. Выпьем за то, чтобы наши хозяйки кормили нас не только гороховым пюре, но и такими же яствами, какие сейчас украшают этот стол!',\n",
              " 'У одной уже немолодой женщины спросили, помнит ли она своего первого мужчину. «Мужчину – не помню, когда – не помню, но помню, что… шарман!». Давайте же выпьем за то, чтобы все наши мужчины, независимо от имени и других обстоятельств, были ну просто шарман!',\n",
              " 'Влюбленный приносит три билета в кино. – Зачем три? – удивилась подруга. – Как зачем? Для матери, для отца и для брата твоего. Выпьем за умение мужчин добиваться уединения!',\n",
              " 'Экскаваторщица Маша рыла котлован и откопала гробницу египетского фараона. Крышка саркофага сдвинулась, и Маша увидела молодого красивого принца. Он был, как живой. Маша не выдержала и поцеловала принца. И свершилось чудо – принц ожил. – Как отблагодарить тебя, Маша? – спросил молодой фараон. – Хочешь, я исполню семь любых твоих желаний? – Не надо мне семь желаний, – сказала Маша, лучше одно желание, но семь раз… Фараон согласился, но на пятом заходе скончался. Так выпьем же за экскаваторщицу Машу, что не дала возродиться рабовладельческому строю!',\n",
              " 'Встречаются две подруги. – Ты счастлива с мужем? – спрашивает одна из них. – Я так счастлива… Мы так крепко любим друг друга, что уже несколько раз откладывали развод… Выпьем за крепкую любовь!',\n",
              " 'Женщина создана сделать мужчину счастливым, где бы этот несчастный ни прятался. Так выпьем же за то, чтобы наше счастье нас всегда находило!',\n",
              " 'Собрались женщины на Международный конгресс. Три дня говорили-говорили, без всякой повестки дня, ссорились, спорили… Наконец, постановили.: 1. Все мужики сволочи. 2. В шкафу мало места. 3. Носить абсолютно нечего. Давайте выпьем за то, чтобы наши женщины никогда не пришли к таким выводам.',\n",
              " 'Есть в Азии гора Любви. С ней связаны многие легенды. Вот послушайте одну из них. Однажды молодой пастух и княжна полюбили друг друга и убежали из дома. За ними сразу помчались в погоню. Влюбленные взобрались на эту гору. Их вот-вот должны были настигнуть. И тогда юноша сказал княжне: «Давай я прыгну первым, а ты потом решишь, как быть дальше». Но княжна отказалась, потому что не смогла бы вынести таких мучений. И она первая бросилась вниз и, конечно, разбилась. Пастух посмотрел на ее безжизненное тело и просто спустился вниз с горы Любви. Так давайте выпьем за мужчин, которые все-таки первыми выходят из лифта!',\n",
              " 'В одном из судов слушалось дело потерпевшей. – Вы утверждаете, что обвиняемый вытащил деньги прямо из вашего лифчика? – спросил судья. – Да, Ваша честь, – ответила потерпевшая. – Так почему Вы не сопротивлялись? – удивился судья. – Я же думала, он с добрыми намерениями, – пожала плечами расстроенная девушка! Так выпьем за мужчин с добрыми намерениями!',\n",
              " 'Я предлагаю тост за зеленых! Думаете, этот тост посвящается лягушкам? Нет! И не Гринпису! Этот бокал я хочу выпить за то, чтобы у нас было много-премного зелененьких! Короче говоря, за баксы, которым бы было тесно лежать в наших карманах и мы их хранили в больших-пребольших мешках в погребе и… Но что-то я совсем размечтался, разболтался, ведь уже давно пора выпить! За зеленые!',\n",
              " 'В киоске продаются поздравительные открытки с надписью: «Моей единственной, любимой на всю жизнь». Подошел молодой человек: – Дайте, пожалуйста, дюжину таких открыток. Так давайте же выпьем за своеобразную мужскую логику!',\n",
              " 'Дабы показать, что он не транжирит бюджетные средства, мэр поставил на свой «Ламборгини» газовый баллон. Так выпьем же за разумную экономию!',\n",
              " 'Старая женщина отправляется на тот свет и думает, куда ей пойти: в рай или в ад? «Конечно, в раю хорошо, климат, зато в аду общество, мужчины опять же». Как понимаете, хорошее общество примиряет с неудобствами жизни. Давайте выпьем за приятное общество приятных мужчин!',\n",
              " 'Мужчина в Одессе тормозит такси и просит отвезти его на Лозинскую. Садится. Резкий старт, потом проезжают немного и резко останавливаются. Водитель распахивает дверцу: «Лозинская!». Мужчина в недоумении: «Почему сразу не сказал?». Водитель объясняет: «А я подумал, вы с шиком хотите». Выпьем за мужчин, которые любят все делать с шиком!',\n",
              " 'Шли однажды по лесу Аленушка и ее братец Иванушка. Захотел Иванушка водицы испить, смотрит – следы от копыт на земле, а в них вода. – Попью из лошадиного копытца, – говорит Иванушка. – Не пей, – отвечает Аленушка, – жеребенком станешь. – Попью из коровьего копытца, – твердит Иванушка. – Не пей, – отвечает Аленушка, – теленком станешь. – Попью из козлиного копытца, – уперся Иванушка. – Не пей, – отвечает Аленушка, – козленком станешь. Не послушался Иванушка, напился из копытец вдоволь, и ни в кого не превратился. Только животом потом с неделю маялся. Так выпьем за то, чтобы никогда не напиваться до потери человеческого облика!',\n",
              " 'Мужчин, посылающих исключительно воздушные поцелуи, дамы, считают лентяями, которые отлынивают от настоящей работы. Так выпьем же за мужчин, которые не боятся никакой работы!',\n",
              " 'Иду я как-то ночью по парку: луна, звезды, и парень с девушкой целуются на скамейке. Иду в другой раз: луна, звезды… и тот же парень на той же скамейке целуется с другой девушкой. Иду в следующий раз: ночь, луна, звезды… и тот же парень, на той же скамейке уже с третьей девушкой. Так выпьем же за постоянство мужчин и непостоянство женщин!',\n",
              " 'Студент идет на экзамен. Думает: «Сдам – напьюсь, не сдам – напьюсь». Купил бутылку. Сунул в карман пиджака и пошел сдаваться. Вытянул билет… Преподаватель: – Что это у Вас в кармане? – Да так, ничего. – Нет уж, нет уж! Доставайте. Студент достает бутылку, преподаватель – стакан. Наливает себе и залпом выпивает: – Хорошо. Соленый огурец есть? – Нет. – Жаль. А могло быть «отлично», – заполняет преподаватель зачетку. Выпьем за правильный подход!',\n",
              " 'Встретились две подруги: – Ты что такая расстроенная? – спрашивает одна. – Да вот, Лариса из домоуправления сказала, что я дура. – А ты не бери себе в голову, – успокаивает ее подруга, – нашла кого слушать, Лариску! Она вообще не имеет своего мнения, только повторяет, что все кругом говорят! Давайте выпьем за чутких подруг, которые умеют успокоить!',\n",
              " 'Вам интересно, чем жена держит своего мужа? Грузинка – терпением, негритянка – умением, гречанка – красотой, армянка – едой, француженка – фигурой, американка – делом, итальянка – роскошью, еврейка – криком, японка – грацией, русская – судом. Так выпьем за нас, за русских мужиков, которых теперь, в эпоху демократии, ничем не удержишь!',\n",
              " 'Поспорили как-то три волшебника, кто быстрее других вокруг света облетит. Взмахнул один рукой, ударился челом оземь, обратился ястребом и полетел вперед. Взмахнул другой волшебник рукой, ударился челом оземь, обратился соколом и бросился вдогонку. Взмахнул рукой третий, ударился челом оземь, получил сотрясение мозга и закрытый переломом основания черепа. Так выпьем за то, чтобы всегда трезво оценивать свои возможности!',\n",
              " 'Посреди озера в лодке сидит мужик, рыбачит. Долго сидит… Не клюет. – Боже, – взмолился мужик, – пошли ты мне хотя бы одну большую рыбу! Всплывает тигровая акула: – Ну и…? Так выпьем же за грамотно составленное техническое задание!',\n",
              " 'На вопрос о том, кого вы больше любите – блондинок или брюнеток, настоящий мужчина должен отвечать: – Да! Так выпьем же за настоящих мужчин!',\n",
              " 'Учительница спрашивает ученика: – Если у тебя в одном кармане 10 тысяч, а в другом 20 тысяч рублей, что это значит? Ученик, не задумываясь, отвечает: – Это значит, что я надел чужие штаны! Давайте выпьем за то, чтобы у нас в каждом кармане были деньги! И на книжке были деньги! И чтобы жили мы припеваючи!',\n",
              " 'Распределение мужчин и женщин должно происходить по такому принципу: каждой – по способностям, каждому – по труду. Не будем пить за наших способных женщин. Давайте лучше выпьем за мужчин-трудоголиков!',\n",
              " 'Какая разница между верным и неверным мужчиной? Огромная. У верного бывают иногда угрызения совести. Так выпьем же за то, чтобы угрызения совести не мучили верных мужей!',\n",
              " 'Все – женщины, а мы – богини, И неважны размеры наших тел. Пусть плачут те, кому мы не достались, Пусть сдохнут те, кто нас не захотел!',\n",
              " 'Дорогие мои подруги! Я хочу поднять тост за наших мужчин, за тех, кто всегда рядом! Р-Я-Д-О-М, я сказала!',\n",
              " 'Девушка шла по улице и услышала за собой шаги. Оглянувшись, она увидела красивого парня. Оглянулась еще раз – он продолжал идти за ней. Решила с ним познакомиться, оглянулась в третий раз – его уже не было… Так выпьем за то, чтобы в городе вовремя закрывали канализационные люки!',\n",
              " 'Чтоб у тебя было столько врагов, сколько осталось капель в выпитой до дна рюмке. Чтоб ты пережил все ужасы пойманного зверя, крушение поезда, истязания рэкетиров, муку зека, приговоренного к вышке, но только с экрана телевизора, который ты выиграл в Поле чудес. Чтоб тебя однажды укусила пчела, а ты от неожиданности прыгнул так высоко, что установил новый мировой рекорд. Чтоб в квартире, где ты вел беседу с очаровательной женщиной tete-a-tete, вдруг погас свет, и вы, наконец, нашли общий язык. Чтоб в твоей однушке поселился барабашка, и за его проделки тебя вселили в благоустроенную 3-комнатную квартиру. Чтоб тебя в новогоднюю ночь, когда все празднуют, послали до утра копать яму, в которой ты обнаружишь клад!',\n",
              " 'Стоит баран у берега реки и смотрит. Вдруг подъезжает шикарная машина, и из нее выходит шикарная женщина. Баран стоит и смотрит. Красотка раздевается, баран стоит и смотрит. Женщина купается – баран смотрит. Красотка выходит из воды – баран смотрит, женщина одевается – баран все смотрит. Она уезжает. Баран продолжает смотреть. Выпьем за то, чтобы наши мужчины не уподоблялись таким баранам!',\n",
              " 'Динозавры – он и она – смотрят друг на друга. Он ей нежно: «У-у-у». Она возражает: «Н-э-э-у-у!» И так продолжалось много лет. Он не выдержал: – Ду-р-а-а, так ведь вымрем же! И ведь вымерли! Так выпьем за красивое обхождение, взаимное влечение и за деторождение!',\n",
              " 'Неожиданно возвращается муж из командировки, стучит в дверь – ему не открывают, стучится еще раз – ему не открывают, стучится в третий – жена открывает дверь, радостно бросается ему на шею и говорит: – Дорогой, как я рада,что ты наконец приехал, а то я ждала тебя только завтра! И все. Проходит лет пять или шесть, как-то раз муж приобнимет свою жену и говорит: – Котенок, помнишь, как-то раз, давно, я вернулся из командировки, стучусь в дверь – а ты все не открывала, что же ты там делала? Жена вскакивает и кричит: – О, Господи! О, боже мой! Открывает дверь шкафа – оттуда вываливается скелет. Так выпьем же, господа, за то, чтобы любимые женщины чаще нас вспоминали!',\n",
              " 'Знаете, чем сказка отличается от были? Сказка — это когда женился на лягушке, а она оказалась царевной. А быль — это когда наоборот. Так давайте же выпьем за то, чтобы наша жизнь была похожа на сказку.',\n",
              " 'Один мудрец сказал: «Не будь настолько сухим, чтобы сломаться. Но не будь и таким мокрым, чтобы тебя выжимали, как тряпку». Выпьем за то, чтоб на нашем праздничном небосклоне была переменная облачность, но без осадков, с температурой воздуха около нуля и температурой воды в бутылках от 30 до 40 градусов!',\n",
              " 'Друзья! Давайте выпьем за наших врагов. Чтобы у них было все: загородная вилла, шикарная машина в гараже, персидские ковры, бассейн, камин, и конечно же, спутниковый телефон, по которому бы они звонили только 01, 02 и 03!',\n",
              " 'По пустыне идет мужчина, который просто умирает от жажды. На его пути стоит человек и продает галстуки: – Купи галстук! – Зачем мне галстук, я купил бы у тебя хоть глоток воды. И пошел он дальше. Долго шел, вдруг на его пути встречается ресторан. Мужчина, не чувствуя под собой ног, устремляется к этому ресторану, а на его дверях висит табличка: «Без галстука вход воспрещен». Хочу выпить за предусмотрительных мужчин!',\n",
              " 'Кто любит томную луну, Кто – постороннюю жену, Кто – говорить, кто – слушать. Но кто, ссылаясь на весь мир, Не любит хорошо покушать? За дорогую хозяйку!',\n",
              " 'Встретились на Плющихе три тополя: тополь, Эдуард Тополь и установка «Тополь М». Один осыпал всех своим липким пухом, другой стал сыпать нетрадиционной лексикой, а третий пригрозил, что нанесет сокрушительный удар, если двое первых не прекратят ссориться. Предлагаю выпить за умение вести конструктивную беседу и находить общий язык!',\n",
              " 'Стоящие у окна муж и жена ведут разговор: – Видишь, какой муж заботливый у кого-то – даже сам белье с веревки снимает, – говорит жена. – Заботливый-то заботливый, а белье, между прочим, он снимает наше, – отвечает муж. Так выпьем же за внимательных мужей!',\n",
              " 'Однажды, в скором ночном поезде Милан – Рим, в одном купе оказались милая итальянка и молодой американец. Красивая дама предложила молодому человеку, чтобы скоротать время в пути, рассказывать интересные истории. Поскольку это было ее предложение, она, естественно, рассказала первую историю. Вот она. Давным-давно в ненастную дождливую ночь к отшельнику постучалась юная дева. Она была прекрасна, вся в белом, и отшельник предоставил ей свою скудную келью, а сам ушел ночевать в чулан. Через некоторое время в воротах отшельника раздался стук, и юный красивый рыцарь попросил у отшельника приюта. Отшельник сказал ему: «Я беден и сир, и в единственной моей келье находится юная дева. Вы можете разделить с ней комнату или же заночевать в хлеву с ослом». На это рыцарь ответил: «Я рыцарь!» – и остался ночевать в хлеву. Прошла ночь. Рыцарь спросил поутру у отшельника поесть. Отшельник усмехнулся: «Сударь, вы осел! Поешьте овса». Молодому американцу эта история показалась смешной, он рассказал прекрасной синьоре массу других интересных историй и анекдотов, а она ему. Дорога пролетела быстро, а когда поезд утром прибыл в Рим, синьора подарила юноше маленький серебряный доллар. Американец удивился и спросил: «Почему?», – а красотка искренне рассмеялась: «Купите на этот доллар овса». Так выпьем за то, чтобы нам никогда не дарили маленький серебряный доллар!',\n",
              " 'Однажды в пустыне нашел мужик лампу и потер ее. Из лампы вылетел джинн: – Я могущественный джинн, и я исполню три твоих любых желания! – Хорошо. Хочу много денег! Сказано – сделано. Джинн протягивает мужику кредитную карту. – Хочу огромный дом с гаремом, где много женщин! И это исполнил джинн. Протягивает ключи от дома. – Хочу еще три желания! – Э, мужик, нет. Этого я сделать никак не могу. По традиции – один джинн может исполнить только три желания. – Хорошо, тогда хочу еще трех джинов! Пожелаем нашему имениннику найти себе в помощь побольше джиннов!',\n",
              " 'Судья: – Подсудимый, объясните суду, почему вы три раза подряд грабили один и тот же магазин? Подсудимый: – Понимаете, гражданин судья, первый раз забрал я там жене платье, а потом она меня еще несколько раз заставляла его менять! Выпьем за настойчивость наших жен!',\n",
              " 'Рассказывают, что когда Бог лепил людей из глины, у него осталось много запасных частей. В одном углу лежали длинные ножки, короткая юбочка и хлопающие ресничками глазки. Когда Бог отвернулся, все это захихикало и убежало пить кофе – так появились секретарши. В другом углу лежал галстук, сотовый телефон, строгий костюм и дипломат. Когда Бог отвлекся, костюм завязал галстук, взял дипломат, поговорил по телефону, пробасил :«Скоро буду», – и удалился в неизвестном направлении. Так появились начальники. А в третьем углу лежала большая куча мозгов, много волос и джинсы. Когда Бог ушел на обед, все это встало и задумчиво побрело к ближайшему компьютеру – так появились программисты. Так выпьем же за нашего юбиляра, представителя самой интеллектуальной профессии!',\n",
              " 'Некий шутник достал под Новый год шубу и бороду Деда Мороза. Нарядился и, радуясь, что может позабавить жену, позвонил в двери своей квартиры. Супруга открыла и, не успел он вымолвить слова, бросилась ему на шею, стала горячо целовать и увлекла в спальню. И там, как безумная, предалась с «Дедом Морозом» страстной любви. Воспользовавшись маленькой передышкой, муж сбросил накладную бороду и усы. И тут он услыхал голос жены: – Ну надо же, это ты! А я тебя совсем не узнала! Так поднимем же тост за настоящих мужчин, которые умеют устроить праздник и своей жене!',\n",
              " 'Один медик так объяснялся своей любимой: «Язва моего сердца, ты нанесла глубокую рану моей душе, твои лучезарные глаза прожгли мою сущность. Ум мой слабеет, как желудок от двойного приема слабительного. Пожалей меня, будь пластырем моей души и бальзамом страданий». Дорогие женщины, будьте пластырями наших душ и бальзамом страданий!',\n",
              " 'Надпись на бутылке коньяка «Отард» гласит: «Барон Отард много воевал, но вконец разорился. И на последние деньги купил замок и организовал коньячное производство». ТАК ПУСТЬ У НАС БУДЕТ СТОЛЬКО ПОСЛЕДНИХ ДЕНЕГ!',\n",
              " 'Если гора не идет к Магомету, то Магомет идет к горе. Если мужчина, который вам нравится, не замечает вас, займите у него много денег, чтобы он только о вас и думал. А выпьем мы за щедрых мужчин!',\n",
              " 'Бабушка поучает внучку: – У каждой девушки должна быть в жизни только одна большая любовь. Внучка интересуется: – И как, была у тебя большая любовь? – Конечно. Всю жизнь любила военных. За единственную в жизни любовь!',\n",
              " 'Возвращается сын из школы. Отец просматривает его дневник и видит: Математика – 2, География – 2, физкультура – 2, пение – 5. Отец с радостью говорит: – Ну, слава Богу, петь ты умеешь. Плох тот кавказец, который не умеет петь кавказские песни, выпьем за то, чтобы наш сын пел, как соловей!',\n",
              " 'Господь сотворил женщину из ребра Адама, но если бы Он назначил ей быть госпожой мужчины, то сотворил бы ее из головы; если бы рабою, то сотворил бы из ноги; но так как Он назначил ей быть подругой и равной мужчине, то и сотворил из ребра. Так выпьем же за то, чтобы от этого ребра, как от настоящего друга, исходило одно добро!',\n",
              " 'Одна грузинка приходит домой и с возмущением говорит мужу: – Валико, ты представляешь, наш сосед поменял свою жену на породистого коня! Ведь ты бы никогда не сделал этого, дорогой? – Ну что ты, – отвечает Валико, – в крайнем случае, на иностранный автомобиль и бутылку старого грузинского вина. Так выпьем же за наших любимых жен, которые ценнее любого породистого коня, красивее любой иномарки и слаще любого старого вина!',\n",
              " 'Беседуют перед праздником две молодые хозяйки, встретившиеся у колодца жарким днем. – Знаешь, Нана, я нашла способ чистить лук для жаркого и не плакать. – Неужели, Манана? И какой же это способ? – Поручаю чистить лук моему мужу. Так выпьем же за мою жену, которая знает, что настоящему джигиту на кухне делать нечего!',\n",
              " 'Как известно, мужчины на Кавказе очень любят блондинок. Впрочем, к брюнеткам они тоже неравнодушны. Нельзя сказать также, что им не нравятся шатенки. Но вот к лысым женщинам они действительно относятся с предубеждением. Друзья, выпьем за любовь без предрассудков!',\n",
              " 'Однажды у Кацо спросили: – Послушай, Кацо, говорят, что ты научил свою жену играть в нарды. Неужели? – Действительно, научил. И, знаете, хорошо сделал. В прошлый выходной я выиграл у нее половину своей зарплаты. Так выпьем же за женский азарт!',\n",
              " 'Настоящий мужчина – это тот, который точно помнит день рождения женщины и никогда не знает, сколько ей лет. Так давайте выпьем за то, чтобы на жизненном пути женщин встречались только настоящие мужчины!',\n",
              " 'Когда в кавказской семье вырастает сын, отец посвящает его в тайны, которые должен знать настоящий джигит. И вот что настоящий джигит должен знать о женщине. У женщины всегда три возраста: кажущийся, действительный и приписываемый себе. Но джигит должен забыть о существовании двух первых возрастов и полностью доверять женщине. Так выпьем же за то, чтобы женщины не стеснялись говорить правду!',\n",
              " 'Издавна на Кавказе мужчину и женщину уподобляли двум нотам, без которых струны человеческой души не дают правильного и полного аккорда. Так давайте выпьем за женщин, которые, дополняя нас, рождают небесную музыку!',\n",
              " 'Каждая женщина подобна розе – такая же красивая. Но роз без шипов не бывает. Лепестки быстро облетают, а колючие шипы остаются. Так выпьем же за то, чтобы женщины подольше сохраняли свои лепестки!',\n",
              " 'Грузин сдает экзамен на получение водительских прав. Инспектор объясняет дорожную ситуацию: – Ты едешь в машина по узкой дорога. Слева – високий-високий гор. Справа – кpутой-кpутой абpив. Вдруг на дороге – кpасивий дэвушка. А рядом с ней – стpашный-пpестpашный старух. Кого давить будэшь? – Конечно, старуху! – Дурак!.. Тормоз давить нужно! Так выпьем же за то, чтобы в трудной ситуации мы не забывали нажать на тормоз!',\n",
              " 'Отец сердится на сына, который совсем не знает спряжений глаголов: – Ну, подумай хорошенько, если я тебе скажу: я их люблю, ты их любишь, он их любит, мы их любим… Объясни мне, что это такое? – Это – публичный дом, папа. Выпьем за то, чтобы сын не только разбирался в грамматике, но и всегда мог отличить хорошую женщину от плохой!',\n",
              " 'Шакал пришел ко льву и сказал: – Давай подеремся! Лев на него и внимания не обратил. Тогда шакал пригрозил: – Я сейчас пойду и всем расскажу, что лев меня ужасно испугался. Поморщился царь зверей. – Пусть меня осудят обитатели пустыни за трусость – это все же приятнее, чем они будут презирать меня за драку с шакалом. Этот тост посвящаю тому, чтобы не унижаться нам перед типами, грязными и недостойными нас.',\n",
              " 'Кавказская мудрость гласит: «Имеющий жену красивую – уже не беден. Имеющий жену умную – богат. Имеющий жену красивую, умную и хозяйственную – подлинно богат». Так выпьем же за подлинное богатство нашего друга!',\n",
              " 'Один старый аксакал сказал мне: «По тому, какова у мужчины жена, насколько она хороша и какая хозяйка, можно судить о том, каков он сам и знает ли себе цену». Так выпьем же за очаровательную и умелую хозяйку, чей муж, видимо, настоящий султан!',\n",
              " 'Один пылкий кавказец очень любил хорошеньких девушек. Но каждая из них хотела быть единственной, поэтому он однажды остался в одиночестве. Тогда друг посоветовал ему дать объявление в газету. Вот что они написали: «Страстный грузинский мужчина познакомится с красивой девушкой, которая его поймет и простит». Так выпьем же за женскую любовь, терпеливую и все понимающую!',\n",
              " 'Как-то, поссорившись с женой, Гиви задал риторический вопрос: – Странно! Почему у самых больших дураков самые красивые жены? – Ну, ты и подхалим! – ответила ему жена со всепрощающей улыбкой. Так давайте выпьем за наивных женщин, которые в каждом слове слышат комплимент!',\n",
              " 'Молодая Сулико как-то жаловалась своей подруге: – Ко мне вчера вечером пришел Вано. Я так была взволнована, так была им очарована, что в порыве пылкой нежности сказала: «Возьми у меня самое дорогое!» Он вывел коня из конюшни, вскочил на него и умчался, как ветер. Так выпьем же за то, чтобы мы всегда понимали женщин правильно!',\n",
              " 'На Кавказе в женщине больше других ценятся три качества: это любовь, нежность и скромность. Так выпьем же за то, чтобы ни одна женщина не скрывала этих качеств!',\n",
              " 'На Кавказе есть обычай: когда в доме рождается девочка, отец достает ружье и стреляет один раз. Когда девочка вырастает и ее хотят выдать замуж, отец стреляет из ружья дважды, когда же девушку выдают замуж – отец стреляет из ружья трижды. Так давайте выпьем за то, чтобы из наших домов почаще раздавались ружейные залпы!',\n",
              " 'В горах есть прекрасный способ сохранить молодость. Те дни, которые проводятся с гостями, при подсчете прожитых лет не учитываются. Предлагаю тост за вас, дорогие гости, за вашу душевную щедрость, ибо вы сегодня, сами того не зная, продлили мне жизнь!',\n",
              " 'Однажды в далекий горный аул жил старик, и биль у него красавиц дочь. И вот решил он выдать ее замуж. Созвал джигитов и говорит им такую речь: – Тот из вас, кто заберется на этот высокий гора так, что ни один камушек не упадет из-под его ноги, поймает там горный баран, принесет его к моим ногам и зарежет его так, что ни одна капля крови не упадет на мой белоснежный халат, так вот, тот из вас и станет мужем моей красавиц дочь. А кто не сделает этого, того я зарэжу. И вот вышел первый джигит. Был он смелый, ловкий, умный, но один маленький песчинка упал из-под его нога – и зарэзал его старик отэц. Тогда вышел второй джигит, и был он тоже смелый, ловкий, умный, красивый. Принес он горный баран к ногам старик отец и стал рэзать ему, барану, в смысле, горло своим острым кинжалом. Но одна маленькая капля крови упала на белоснежный халат старик отец – и второй джигит упал, зарезанный, рядом с первым. И тогда вышел третий джигит, и был он самый гордый, смелый, ловкий и красивый. Он принес баран к ногам старик отец, хирургически разрэзал ему, барану, горло без единой капли крови и радостно посмотрел на старик отец. Но и его зарэзал старик отец. Красавиц дочь закричала в ужасе: – Паслушай, атэц! Ведь третий джигит сделал все, как ты велел! Зачем ты его зарезал? И сказал ей старик отец: – За компанию! Так выпьем же за хорошую и теплую компанию!',\n",
              " 'Один восточный мужчина говорит другому: – Я возьму в жены девушку красивую, умную, хозяйственную и чистоплотную. – Как же ты будешь управляться со всеми четырьмя? – удивился другой. Так поднимем бокалы за наших жен, которые совмещают в себе и эти, и многие другие качества!',\n",
              " 'В саду грузинского дома разговаривают два цветка: – Ты мэня любишь? – Канэшно. А ты мэня? – Очэн! – Вах-вах, гдэ жэ пчелы? Поднимем бокалы за то, чтобы нашей любви не мешали неблагоприятные обстоятельства!',\n",
              " 'Когда жена Вано купила лотерейный билет, она сказала:  – Если я выиграю, то куплю себе новое пальто. – А если нет? – спросил Вано. – Тогда тебе придется купить мне его! Так выпьем же за женщин, которые всегда находят выход из затруднительных положений!',\n",
              " 'Молодой джигит говорит своей жене после свадьбы: – Прежде чем мы отправимся в свадебное путешествие, сердце мое, я хочу еще кое-что рассказать тебе о своем прошлом. – Гиви, но ты уже рассказывал мне о своем прошлом перед свадьбой, – удивляется молодая жена. – То, о чем я хочу рассказать тебе, произошло именно в промежутке между свадьбой и сегодняшним днем… Так давайте выпьем за то, чтобы женщины узнавали от нас правду своевременно!',\n",
              " 'На Кавказе, если от джигита женщина уходит к другому мужчине, – джигит становится опозоренным на всю жизнь. Ведь единственное, что побуждает женщину к измене, – это скука и однообразие, от которых чахнет ее сердце. Так выпьем же за то, чтобы женщины никогда не скучали в нашем присутствии!',\n",
              " 'Давным-давно на Кавказе существовал такой обычай. Девушка, прежде чем выйти замуж, должна была приручить горного барана. Она брала с собой охапку свежей травы и поднималась рано утром высоко в горы. Если ей удавалось увидеть горного барана, она обнаруживала свое присутствие и бросала ему траву, при этом сама она удалялась. Так продолжалось некоторое время. В конечном итоге баран привыкал к девушке и, съев принесенную ему траву, ложился к ее ногам и блаженно дремал. Только после этого, когда девушка сумела приручить гордое свободолюбивое животное, она могла выйти замуж. Ведь в каждом кавказском мужчине живет неукрощенный горный баран. Так выпьем же за женщин, чтобы им удавалось нас приручать!',\n",
              " 'Гора никогда не ходила к Магомету, потому что у него нечего было выпить. Так выпьем же за наших друзей, которые всегда приходят к нам!',\n",
              " 'Мудреца спросили: – Почему друзья так легко становятся недругами, а вот врагов превратить в друзей очень трудно? – Но ведь точно так же и дом разрушить легче, нежели построить, – ответил мудрец, – и сосуд разбить проще, чем его сделать, и деньги растратить легче, чем заработать их. Предлагаю тост за то, чтобы мы созидали, а не разрушали.',\n",
              " 'Известно, что Всевышний сделал всех женщин из одного теста, но сахар положил не в каждую. С тех пор все мужчины бродят в поисках своей сладкой женщины! Так выпьем за тех, кто ищет и находит!',\n",
              " 'У нас на Кавказе говорят: «Лучше иметь врагов, которые говорят правду в глаза, чем друзей, которые льстят». Так давайте выпьем за то, чтобы наши друзья были с нами искренними!',\n",
              " 'Султан заходит в свой гарем и шепчет на ушко одной из своих жен: «Твои глаза – как полночные звезды. Твои губы – как кораллы. Твой стан – как лоза. Передай дальше». Давайте же выпьем за то, чтобы такие слова предназначались лишь одной женщине, единственной и неповторимой!',\n",
              " 'Когда Васо после свадьбы стал подсчитывать свои расходы на свадебное путешествие и сравнивать их с размерами приданого своей жены, он сделал вывод, что женился исключительно по любви. Так выпьем же за женщин, которые выходят замуж исключительно по любви!',\n",
              " 'Однажды в горных ущельях Кавказа шли муж и жена, причем жена шла впереди мужа. Совершенно случайно их увидел мулла и возмутился: – Хасан, ты нарушаешь Коран! – Когда писали Коран, дороги не минировали. Вперед, Фатима! Так выпьем же за то, чтобы женщины всегда шли на один шаг впереди мужчин!',\n",
              " 'Каждый горец знает, что женщины ценят в мужчинах смелость. Стоит только изумить их, чтобы заинтересовать, а когда заинтересуешь их, то и нетрудно понравиться им. Так выпьем же за женщин, которые умеют ценить мужчин!',\n",
              " 'Восточный мужчина – теплолюбивый мужчина, он не может жить без солнечных лучей. Но солнце для горца – это не только небесное светило: его вполне может заменить женщина, которая согреет мужчину своей лаской и нежностью во время непогоды. Так выпьем же за прекрасных женщин, которые никогда не дадут нам замерзнуть!',\n",
              " 'Однажды у Ходжи Насреддина сосед попросил одолжить своего осла. – Нет у меня осла, – ответил Насреддин. А в это время в стойле заревел осел. – Э, ты говоришь, что у тебя нет осла, а вон, слышишь, осел ревет, – пристыдил Насреддина сосед. Тот покачал головой и укоризненно произнес: – Ты ослу веришь, а мне, дожившему до седой бороды, нет? Так выпьем же за то, чтобы не быть ослом, собираясь одалживать что-то у соседей!',\n",
              " 'Жил-был на свете султан, и был у него гарем, который находился в 100 километрах от дворца. И был у него слуга, которого султан каждый день посылал за девушкой. Слуга умер в 30 лет а султан в 90. Так выпьем за то, чтобы не мы бегали за женщинами, а они за нами. Так как не женщины убивают мужчин, а беготня за ними.',\n",
              " 'Однажды, на далеком горном плато, чабан пас стадо коз. Вдруг с неба на стадо камнем упал орел и схватил одного козленка. Чабан выстрелил – и орел упал, а козленок полетел дальше. Так выпьем же за то, чтоб в орлов не стреляли, а козлы не летали.',\n",
              " 'Если в горе вас поддерживают друзья, то от горя остается только половина, а если друзья рядом с тобой в радости, то радости становится вдвойне. Поэтому я поднимаю тост за моих друзей, которые сегодня собрались за этим столом: с ними я могу поделиться и горем, и радостью!',\n",
              " 'Кавказская мудрость гласит: влюбившись, человек поднимается на ступеньку выше повседневной, обыденной жизни. Так давайте же выпьем за эту ступеньку! За любовь!',\n",
              " 'Разговаривают Вано и Гиви. Гиви рассказывает, что он вчера поссорился со своей женой. Вано спрашивает: – Гиви, за кем же осталось последнее слово? – За мной, конечно! – гордо заявил Гиви. – Я сказал: «Ну ладно, покупай». Так выпьем же за женщин, которые умеют вовремя уступить в споре!',\n",
              " 'Как-то женился один молодой грузин. Молодая супруга говорит ему после свадьбы: – Дорогой, я должна тебе признаться, что умею готовить только два блюда – манную кашу и компот из груш. Молодой грузин посмотрел на блюдо, стоящее перед ним, и спросил: – А это которое из них? Так давайте выпьем за женщин, которые никогда до конца не раскрывают своих достоинств!',\n",
              " 'Как-то разговаривали два столетних грузина. Один другому говорит: – Гиви, мне вчера моя жена сказала, что я такой же сильный, как и в 75 лет. – Почему она так сказала? – У нас во дворе лежит камень, который положил еще мой прадед. Так вот, я в 75 лет не мог его сдвинуть с места и сейчас – не могу. Так выпьем же за женское умение делать комплименты!',\n",
              " 'В горных селениях Кавказа есть такой обычай: когда в семье рождается девочка – отец должен посадить дерево около своего дома; когда же девочка вырастает и становится женщиной, то отец должен срубить дерево, которое он посадил при ее рождении. Так выпьем же за горные долины, красивей которых не бывает ничего на свете.',\n",
              " 'Сидят грузины за громадным столом, пьют, едят. Встает тамада: – Гоги, скажи тост! – Давайте выпьем! – Молодец, Гоги! Хорошо сказал! Прошло чуть-чуть времени, и снова встает тамада: – Гоги, скажи тост! – Давайте выпьем! – Молодец, Гоги! Через некоторое время опять встает тамада: – Вано, скажи тост! – Мы собрались за этим прекрасным столом для того, чтобы… – Э-э, дорогой, не так. Гоги, скажи тост! – Давайте выпьем!',\n",
              " 'Далеко в горах, на самом пике высоты, жил-был древний-древний горец. Был он настолько древним, что поколения сменяли другие поколения, а он все жил и жил. Секрет тому был один: у него были прекрасные и покладистые жены. Вах! Так выпьем же за то, чтоб и нас жизнь не увела стороной от той единственной, благодаря которой мы сможем сохранить свои нервы, быть вечно молодыми и жить бесконечно долго!',\n",
              " 'Обаятельный юноша Рустам и красавица Зульфия очень любили друг друга. Все хорошо складывалось в их отношениях, и они вскоре поженились. А сразу после свадьбы Рустама послали в творческую командировку. Он стал успокаивать молодую жену и обещал через три дня вернуться. Но проходит три раза по три дня, а мужа нет. Прошло десять раз по три дня, а Рустама все нет и нет. Тогда красавица Зульфия послала в семь городов семь телеграмм к семи верным друзьям Рустама. И пришли из семи городов от семи верных друзей телеграммы: «Не надо волноваться, Рустам у нас!» Предлагаю выпить за верных и надежных друзей, которые не подведут в беде!',\n",
              " 'У нас на Кавказе говорят, что лучше бесполезного друга бывает только спящий враг. Так давайте выпьем за нашу настоящую дружбу, потому что каждый из нас может рассчитывать на другого как на самого себя!',\n",
              " 'Старинная кавказская поговорка гласит, что любовь, предназначенная человеку свыше, ищет его – так же, как и он ее. Так выпьем же за успех наших взаимных поисков. За любовь!',\n",
              " 'Когда Гоги стал поздно приходить домой, навеселе, не отдавать зарплату, его жена стала жаловаться подруге: – Я похудела из-за этого на десять килограммов. Ее подруга посочувствовала ей и воскликнула: – Что же ты так мучаешься, не бросишь его? – Понимаешь, – ответила жена Гоги, – я хочу похудеть еще на два килограмма. Так давайте выпьем за женщин, которые способны из всего извлекать выгоду!',\n",
              " 'Однажды молодой горец оказался в купе с красивой девушкой. Он сразу же стал искать способ с ней познакомиться: – Скажите, мужчины каких национальностей вам нравятся? – Мне нравятся индейцы, они такие бесстрашные, и евреи, потому что они умные… Молодой человек, недолго думая, ответил: – Разрешите представиться: Чингачгук Гоги Моисеевич. Так выпьем же за разнообразие женских вкусов!',\n",
              " 'На Кавказе говорят, что если женщина плачет, то каждая слеза, которую она роняет, есть тяжелое обвинение против ее мужчины. Так давайте выпьем за то, чтобы у женщин никогда не было повода в чем-либо нас обвинить!',\n",
              " 'Давным-давно в кавказских селах существовал обычай – когда в семье сельского князя вырастал сын и ему нужно было выбирать жену, сельчане приводили на княжеский двор своих дочерей. Родители жениха задавали девушкам разные вопросы – проверяли, насколько они хозяйственны, трудолюбивы, экономны. В итоге они выбирали одну-единственную. И как вы думаете: какой должна была быть будущая жена будущего князя? А вот ответ – выбирали самую красивую. Так выпьем же за женскую красоту, которая побеждает в любых состязаниях!',\n",
              " 'Забрался тур на высокую гору. А чем выше туры забираются, тем лучше себя чувствуют. Увидел тура горный орел, сделал один круг, другой, камнем упал на него и начал клевать. Тур упал и разбился. Выпьем за то, чтобы, как бы высоко мы ни поднимались в гору, никто нас не клевал и не заставлял падать.',\n",
              " 'Друзья мои и друзья моих друзей! Выпьем за наши тщетные старания переделать мир. Но пусть и мир не рассчитывает на то, что ему удастся нас переделать! За нас!',\n",
              " 'Будь ты халиф или базарный нищий, В конечном счете – всем одна цена. Так пей вино! В нем – источник бессмертия и света, В нем – цветение весны и минувшие лета. Будь мгновение счастлив средь цветов и друзей, Ибо жизнь заключалась в мгновение это.',\n",
              " 'Один умный старый грузин говорил, что тот, кто ищет возлюбленную без порока, рискует остаться вовсе без избранницы. Так выпьем же за нашу любовь, за тех, кого мы любим, таких, какие они есть!',\n",
              " 'Двое кавказских мужчин увидели на улице молодую и красивую девушку. Один из них проводил ее страстным взглядом и воскликнул: – Вот это девушка, настоящий персик! Другой, также проводив ее взглядом, с сожалением произнес: – Шестеро детей… – Да неужели у нее шестеро детей?! – У тебя и у меня, Гиви! Друзья, поднимем тост за любовь, которая не знает преград на своем пути!',\n",
              " 'Один горец разговаривает со своим другом: – Если бы ты знал, как мне нравится Москва! С ней у меня связаны самые приятные воспоминания о самых великолепных женщинах! – Гоги, но ты же ведь никогда не был в Москве, – заметил его друг. – Действительно, не был, но зато туда часто ездит моя жена… Так давайте выпьем за женщин, которые расширяют наш кругозор!',\n",
              " 'На Кавказе, говоря о женщине, никогда не забывают о ее главном предназначении – материнстве. Женщина-мать – человек особый, ее любовь не знает преград, ее грудью вскормлен весь мир. Все прекрасное в человеке – от лучей солнца и от молока матери, все это насыщает нас любовью к жизни! Так выпьем же за женщин, которые имеют счастье быть матерями!',\n",
              " 'На Кавказе ни одно застолье не обходится без тоста, прославляющего женский ум. Вот и я, следуя традиции, хочу выпить за умных женщин. В то время как умная женщина может выразить многое в немногих словах, глупая обладает способностью много говорить и ничего не сказать. Так выпьем же за умных женщин, обладающих краткостью мысли и ясностью ума!»',\n",
              " 'Запомни, сын мой: В жизни много бед. Ее уроки и мудры, и строги. И все ж, наверно, злей несчастья нет, Чем вдруг да оказаться без дороги. Дорога – под камнями ль, под песком, Прямая иль кривая, –все ж дороже Покрытого печалью и тоской, Бесцельного, пустого бездорожья.',\n",
              " 'Високо в горах Кахетии жил орел с орлицэй и малэнкими орлятами. Однажды, возвращаясь с охоты, рэшил орел испытат свою орлицу, провэрит, насколько она храбра, как защищает гнэздо, орлят от чужих…Он надэл на сэбя шкуру тигра и начал мэдленно подбираться к гнэзду… Орлица, увидев крадущегося к гнэзду тигра, смело бросилась на него . Вах, как она его клевала, била крыльями, и рвала когтями!!! И, нэ дав даже опомныться, сбросыла на самое дно самого глубокого ущэлья. Так выпьем же за то, чтобы, в каком бы виде муж ни приходил домой, жена его всегда узнавала!',\n",
              " 'Почему горцы пьют из рога? Любому кубку, любому хрустальному изяществу они предпочитают рог буйвола. Самого дорогого металла не пожалеют, чтобы одеть заветный рог в нарядную кружевную чеканку и тончайшую, как из волоса сотканную, цепочку. Рог вместительный, спору нет. Но не поэтому ему отдают предпочтение умеющие веселиться, жизнерадостные горцы, а потому, что налитое в рог вино надо выпить обязательно – на стол рог не поставишь, на потом вино не оставишь! Пусть не рог, пусть будет обыкновенная кружка, но чтобы налитое было выпито каждым и каждый раз за здоровье! Этот тост за хороший обычай: то, что можно выпить сегодня, не оставляй на завтра!',\n",
              " 'Молодой грузин – студент МГУ, – пишет отцу письмо в Тбилиси: «Папа, я уже стал настоящим студентом, вот только здесь все студенты ездят на автобусах, а я на такси». Отец отсылает сыну ответ: «Сынок, мы продадим с мамой много мандаринов, и вышлем тебе немного денег: купи себе автобус, будь, как все». Выпьем за то, чтобы наши дети ни в чем не нуждались, и за богатых родителей наших детей!',\n",
              " 'В древние времена в океане потерпел крушение фрегат. Только один грузин смог спастись – он ухватился за обломок мачты и остался на поверхности воды. Через полчаса неизвестно откуда вынырнула прекрасная девушка и ухватилась за другой конец этой дощечки. Грузин посмотрел на нее и начал плакать. Девушка спросила его: – Ты почему плачешь? Грузин сказал: – Вах! Такая девушка – и поухаживать как следует не могу! Так выпьем за находчивость в любви, которая всегда подскажет, как нужно ухаживать за девушкой!',\n",
              " 'Одна грузинская женщина посмотрела по телевизору передачу «Вокруг света». Когда пришел домой ее муж, она сказала ему: – Я узнала, что в Африке есть племена, где мужья продают своих жен. Если бы мы жили там, ты бы продал меня? Щедрый кавказский мужчина ответил глупой женщине: – Я бы тебя подарил! Так выпьем же за бескорыстную любовь!',\n",
              " 'Гиви разговаривает со своей невестой. Она ему и говорит: – Гиви, когда ты станешь моим мужем, я буду делить с тобой все тяготы и невзгоды. – Спасибо, родная, но у меня нет ни тягот, ни невзгод! – Но, Гиви, я же сказала: «Когда ты станешь моим мужем!» Так выпьем же за женскую дальновидность!',\n",
              " 'В горных селениях Кавказа при постройке домов на крыше помещали громоотвод, по той простой причине, что в горах нередки грозы. Но вот внутри дома, как оказалось, тоже частенько собираются грозовые тучи. И самым лучшим спасением от них являются ласка, нежность и забота женщины – хозяйки дома. Так выпьем же за женщин – лучший громоотвод в семейной жизни!',\n",
              " 'На Кавказе говорят: «Если хочешь быть счастливым один день – выпей вина. Если хочешь быть счастлив два дня – пей прекрасное вино два дня. Если хочешь быть счастлив всю жизнь – уважай, цени, береги свою жену». Так выпьем же за наших женщин, которые продлевают наше счастье на всю жизнь!',\n",
              " 'Мой тост, друзья, за женщин беспокойных, Что могут, скрыв эмоции свои, Смолчать разумно, уступить достойно, Храня покой и мужа, и семьи.',\n",
              " 'Попробуйте не согласиться со старинной восточной пословицей: «Огнём пробуют золото, золотом пробуют женщину, а женщиной пробуют мужчину». Так выпьем же за нас – с честью преодолевших все пробы и испытания!',\n",
              " 'Орел, который не улетает от высоких скал на широкие, просторные долины, – плохой орел. Орел, который не возвращается с широких просторов долины на высокие скалы, – плохой орел. Так выпьем же за то, чтобы мы никогда не забывали о родном доме, и куда бы жизнь не забрасывала нас, всегда возвращались домой! – Скажи, Нана, сколько мама заплатила за два килограмма яблок, если килограмм стоит 2 рубля? – Не знаю. Мама всегда торгуется. Кавказцы славятся своим умением торговать и торговаться. Выпьем за то, чтобы наши дети переняли эту прекрасную черту у своих родителей!',\n",
              " 'Сосо спрашивает у Вано: – Вано, ты знаешь, что такое домашнее шампанское? – Нет, Сосо. – Так это когда мужчина пьет вино, а женщина шипит. Выпьем же за то, чтобы наши милые хозяйки любому шампанскому предпочитали настоящее грузинское вино.',\n",
              " 'Один султан собрал всех своих жен, а их у него было сто, и сказал, смахнув слезу: – Я развожусь с вами! Я полюбил другой гарем. Так выпьем же за честность в любви!',\n",
              " 'Молодому джигиту понравилась девушка – и он, дабы показаться человеком культурным, произнес следующие слова: – Девушка, можно ли вас пригласить на чашечку кофе? На что девушка, не задумываясь, ответила: – Можно, только в постели не курить. Так выпьем же за женскую проницательность!',\n",
              " 'Одного джигита спросили: «Если бы твоя жена провинилась, какое бы наказание ты для нее выбрал?» Джигит подумал и ответил: – Если бы я хотел наказать свою жену посильнее, я бы купил ей много украшений и запер бы ее в комнате без зеркала. Так выпьем же за то, чтобы женщины никогда не подвергались такому наказанию!',\n",
              " 'Настоящий кавказский мужчина считает своим долгом сделать счастливой женщину. Но один великий человек сказал: «Счастливой может быть только та женщина, у которой есть дети; ведь мало любить, нужно, чтобы любовь была освящена». Так давайте дарить женщинам счастье! Вот за это и выпьем.',\n",
              " 'Пью, чтоб для всех, кто нынче с нами не был, Не мог на свадьбе выпить и поесть, Мы сохранили добрый запах хлеба, Который мы разламывали здесь. За то, чтоб каждый за столом сидящий, На долгий срок сберег в своей крови И озорство, и этот ток бодрящий Вина, веселья, дружбы и любви.',\n",
              " 'Чихнул как-то почтенный грузинский князь, а слуга и говорит поспешно: – Тысячу лет здоровья! – Цыц! – закричал господин. – Зачем ты мне невозможного желаешь? – Тогда живите сто двадцать лет. – Цыц! – опять рассердился князь. – Тогда хоть сто! Опять не угодил! – Восемьдесят? Все не так! Вышел слуга из терпения и говорит: – Да если бы была моя воля, так уж сейчас помирай! Предлагаю поднять бокалы за то, чтобы мы жили столько, сколько сами себе пожелаем!',\n",
              " 'В джунглях жила стая волков. Вожак стаи был очень старый. И когда стае пришлось идти на охоту, вожак сказал, что не в состоянии вести стаю. Тогда молодой, крепкий волк подошел к вожаку и попросил, чтобы тот разрешил вести стаю ему. Старый волк согласился, и стая отправилась на поиски пропитания. Через сутки стая пришла с охоты с добычей. Молодой волк рассказал вожаку, что они напали на семерых охотников и без труда задрали их. Пришло время стае снова идти на охоту, и повел ее молодой волк. Стаи долго не было. И вот старый волк увидел молодого, залитого кровью. Он рассказал вожаку, что стая напала на троих человек, и в живых остался только он один. Старый волк удивленно спросил: – Но ведь в первую охоту стая задрала семерых вооруженных охотников, и все вернулись целыми и с добычей? На это молодой волк ответил: – Тогда было просто семь охотников, а в этот раз были три лучших друга. Так выпьем же за дружбу!',\n",
              " 'Узык-мар-Нар сказал однажды: – Ты надоела мне, жена! Отныне быть свободным жажду, Уйди, ты больше не нужна! Ему ответила Шатанна: – Всегда я слушалась тебя, Уйду из дома утром рано. Но жили столько лет любя, И нам негоже, друг мой мудрый, На пир прощальный не позвать Соседей наших, чтобы утром Никто из них не смог сказать: «Без пира отпустил жену, Нарушив горный наш адат». – Согласен, литься ночь вину, Прощальному я пиру рад. Всю ночь вино текло рекой И шашлыки на углях зрели: Прощался старый Нар с женой. И он, и гости захмелели. Проснулся утром Узык-Нар От тряски и от боли в теле. Открыв глаза, жену узнал, Она везла его в телеге. – Постой, куда меня везешь? Иль ты с ума сошла, о, Боже? – Ведь ты сказал: «С собой возьмешь, Что более тебе дороже!». Я поднимаю свой бокал За женщин тех, кто в час негожий Мужчину ценят как алмаз И золото – всего дороже!',\n",
              " 'Однажды вечером на телеграф зашла молодая женщина и дрожащим голосам попросила бланк. Она написала телеграмму на одном бланке, разорвала его, потом на втором – и опять разорвала. Затем она написала третью телеграмму и подала ее в окошечко, попросив побыстрее отправить. Когда телеграмма была послана и отправительница ушла домой, телеграфист поинтересовался двумя первыми. Вот что было написано в первой: «Все кончено. Не желаю тебя больше видеть». На второй был такой текст: «Не пытайся больше писать и видеть меня». А в третьей женщина написала: «Немедленно приезжай ближайшим поездом. Жду ответа». Так выпьем за постоянство женского характера!',\n",
              " 'Существует старая-старая легенда, она рассказывает об истории виноделия. Сын Зевса Вакх был красивым, сильным и смелым. Однажды он отправился в дальний путь. Шел он легко. Высокое солнце сияло так ярко, что дорожная пыль казалась золотой россыпью. Почувствовав усталость, юноша присел на камень. И вдруг у своих ног он заметил маленькую веточку, едва-едва выбивающуюся из земли. Было что-то трогательное в тоненьком беззащитном стебельке. Вакх решил взять его с собой. Осторожно выкопал его с корнем и, держа в руке, тронулся в путь. Пройдя несколько шагов, он заметил, что растение стало засыхать от жары. Как же его спасти? Он поднял с дороги птичью косточку и вложил в нее веточку. Но прямо на глазах веточка росла, и птичья косточка ей стала вскоре мала. Юный бог нашел львиную кость, которая вместила растение вместе с птичьей косточкой. Но веточка продолжала расти, а путь еще был долог. И тут, на обочине дороги, он увидел большую кость осла… Когда же он добрался до места, веточка так причудливо переплела кости и птицы, и льва, и осла, что разъединить их не было никакой возможности. Юноша решил, что это проделки злых сил. Закопал растение в землю вместе с костями. А вскоре здесь вырос куст небывалой высоты. Под осень на нем повисли огромные гроздья сочных сладких ягод. Это был виноград. Вакх собрал урожай, надавил сока и приготовил из него волшебный напиток, который потом прозвали вином. Секрет приготовления он никому не открыл, но щедро угощал всех, кто к нему приходил. И тут произошло что-то странное: когда люди выпили по одному бокалу, они развеселились и запели как птицы, еще по бокалу – стали сильными как львы, выпили еще больше – и головы гостей опустились низко, как головы у ослов. Поэтому слушайте меня, джигиты: пить вина надо ровно столько, сколько требуется для того, чтобы развеселиться и петь подобно птицам или работать с силой льва. И никогда не пить больше, чтобы головы не склонялись подобно головам ослов!',\n",
              " 'Шли три путника по скалистой горной дороге. День идут, два. Вода давно кончилась, жажда измучила, а поблизости нет ни одного источника. Но вдруг путники увидели на своем пути апельсиновое деревце, чудом выросшее среди неприступных голых скал. Теряя силы, измученные путники добрались до деревца, на котором оказалось три плода. Первый путник, не желая тратить последние силы на чистку сочного плода, попытался выжать сок из апельсина, но толстая кожура пропустила совсем мало спасительной влаги, которой не хватило, чтобы спастись от жажды. Второй, видя участь первого, попытался съесть апельсин целиком, не очищая. Однако горькая и жесткая кожура застряла в пересохшем горле. Третий учел ошибки первых двух. Потратив последние силы на то, чтобы снять кожуру, он очистил плод, и живительная мякоть спасла ему жизнь. Так выпьем за то, чтобы мы всегда снимали горькую кожуру ссор, обид и невзгод и упивались сочными плодами любви!',\n",
              " 'Как-то женился грузин на украинке. Когда отгуляли свадьбу, и молодые остались одни, грузин сел на скамеечку и нравоучительно с акцентом сказал: – Теперь ты моя жена, и я тебе вот что скажу. Если я приду домой, и папаха у меня вот тут, – он сдвинул свою папаху на лоб, то ты меня покорми, напои, приласкай, но ни с чем ко мне не приставай!.. А если я приду домой и папаха у меня вот тут, – он сдвинул папаху на затылок, – то ты меня накорми, напои, приласкай, и тогда можешь просить о чем хочешь!.. – А теперь слухай сюды! – прервала его молодая жена. – Если ты придешь домой, а руки у меня вот тут, – она уперлась руками в свои крутые бока, – то плевать я хотела, где у тебя папаха!.. Так давайте выпьем за женскую убедительность!',\n",
              " 'Некий царь был кривым. При нем находился искусный живописец. Монарх почему-то невзлюбил его и искал повод, чтобы придраться. – Напиши мой портрет, но такой, чтобы он был точь-в-точь похож на меня, – приказал он однажды художнику. – Вот и пришел мой конец, – сокрушенно подумал художник. – Если я нарисую его кривым, он меня казнит. Если изображу его зрячим, скажет: «Непохоже!», – и тоже отрубит голову. Острая ситуация рождает находчивость. Живописец нарисовал оленя, а рядом царя с ружьем в руках, один глаз, незрячий, прикрыл, будто царь целится. В таком виде и поднес портрет повелителю. Тот никак не мог придраться к живописцу, и жизнь его была спасена. Этот тост – за талантливых и находчивых.',\n",
              " 'Жил один старик на берегу синего моря и было ему уже лет сто. Как-то раз кто-то постучался к нему в дверь. – Кто там? – спросил старик. – Это я, твое Богатство, открой мне, – ответили из-за двери. – Я уже был богат, но деньги давно ушли от меня. Нет, не открою я тебе дверь, даже не проси», – сказал старик. И Богатство ушло. Прошло некоторое время, и опять раздался стук в дверь. Старик вновь спросил, кто его беспокоит. – Это я, твоя Любовь, открой мне», – ответили ему. – У меня уже была любовь, я был женат. Но моя жена давно умерла – зачем мне любовь? Нет, не впущу тебя. И Любовь ушла несолоно хлебавши. И в третий раз раздался стук в дверь. И снова старик подошел к двери, чтобы узнать, кому он понадобился. За дверью стояло Счастье и просилось в дом. – Что ж, – сказал старик, – и счастье у меня было. Но и это прошло. Уходи, мне не нужно счастья. Счастье удалилось восвояси. Не успел старик отойти от двери, как вновь раздался стук. – Кто же снова беспокоит меня? – Это мы, твои друзья! Старик ответил: – Друзьям я всегда рад! Заходите! Он открыл дверь, и вместе с друзьями в его дом вошла и Любовь, и Богатство, и Счастье. Я предлагаю поднять наши бокалы за то, чтобы двери этого дома всегда были открыты для друзей, а с ними к хозяину придет все остальное!',\n",
              " 'По длинной, пустынной, утомительной дороге шел человек с собакой. Шел он себе, шел, ужасно устал, собака тоже устала. Вдруг перед ним – оазис! Прекрасные ворота, за оградой – музыка, цветы, журчание ручья… – Что это такое? – спросил путешественник у привратника. – Это рай, ты уже умер, и теперь можешь войти и отдохнуть по-настоящему. – А есть там вода? – Сколько угодно: чистые фонтаны, прохладные бассейны… – А поесть дадут? – Все, что захочешь. – Но со мной собака. – Сожалею, но с собаками нельзя. Ее придется оставить здесь. И путешественник пошел мимо… Через некоторое время дорога привела его на ферму. У ворот тоже сидел привратник. – Я хочу пить, – попросил путешественник. – Заходи, во дворе есть колодец. – А моя собака? – Возле колодца увидишь поилку. – А поесть? – Могу угостить тебя ужином. – А собаке? – Найдется косточка. – А что это за место? – Это рай. – Как так? Привратник у дворца неподалеку сказал мне, что рай – там. – Врет он все. Там ад. – Как же вы, в раю, это терпите? – Это нам очень полезно. До рая доходят только те, кто не бросает своих друзей… Я поднимаю свой бокал, за настоящих и верных друзей!',\n",
              " 'Пусть простят меня мужчины, ибо речь пойдет о женщинах. В старинном предании давнем С тех пор нам узнать довелось, Что верность любимой во многом Зависит от цвета волос. Шли юноши, споря, Вдоль берега моря. И спору не видно конца, Но вдруг повстречали у моря Седого они мудреца. – Ты старый, ты мудрый, Мы спорим все утро. – В чем спор ваш? Никак не пойму. – Шатенкам не верить, Брюнеткам не верить, Иль верить нельзя никому? – Я лично боюсь и белых, и рыжих, Но знаю, клянусь бородой, Что женщине можно тогда лишь поверить, Когда она станет седой. Мужчины, смотрю, улыбаются снова, Смеются, на женщин глядя. А вашему брату, наверно, на слово И лысому верить нельзя. Друзья, давайте выпьем за нас – кудрявых, седых, черных, лысых, но преданных!',\n",
              " 'У одного грузинского князя был единственный сын. Захотел князь воспитать его наилучшим образом. Стал советоваться с умными людьми. Посоветовался и решил, что только добродетель почитаема. А к добродетели ведет воздержание, которое охраняет человека от порока. И решил князь, что его юный сын станет добродетельным человеком. Князь собрал своих слуг и сказал: – Объявляю вам всем: если какая-нибудь женщина осмелится показаться возле моего дома или в саду, или даже вблизи моего сада, ее следует жестоко наказать. Речь идет о красивых женщинах, которые рождают порочные мысли у мужчин. Так вот, помните мой наказ. Воцарились в саду и в доме князя добродетель и мудрость. Но прошел год. Однажды, гуляя по саду ночью, князь услышал в зарослях цветов страстный шепот. Объявил князь тревогу, окружили воины сад и вскоре привели к князю его сына в сопровождении женщины, закутанной в чадру. Закричал князь, увидев женщину: – Сорвать с нее покрывало! Пусть все видят оружие порока! Пред всеми предстала женщина, кривая на один глаз. Это была судомойка, оставленная во дворце только за ее безобразие. – Объясни мне, сын мой, где же были твои глаза? Сын князя выступил с поклоном вперед и ответил: – Отец, эта женщина вовсе не так плоха, как тебе кажется! Правда, у нее один глаз. Но разве не одно солнце светит на небе, отец? И мы находим его прекрасным. И мы считаем, что этого достаточно. Оно дает нам довольно света. Князь, схватившись за голову, закричал: – Довольно, я отменяю свое распоряжение! Так давайте же поднимем наши бокалы за любовь, которая всегда возникает там, где есть хотя бы одна женщина и хотя бы один мужчина!',\n",
              " 'Когда один уважаемый аксакал отмечал свое восьмидесятилетие и пятидесятилетие своей совместной жизни с супругой, его спросили: – Как вам удалось сохранить семейную жизнь и в то же время такое крепкое здоровье? – В этом нет никакого секрета, просто когда мы с женой поженились, мы заключили с ней договор: как только мы повздорим, я надеваю бурку и ухожу в горы. Так вот именно ежедневные прогулки в горы и принесли такую пользу и моему здоровью, и моей семейной жизни. Так выпьем же за жен, с которыми мы становимся долгожителями!',\n",
              " 'Побратались человек и медведь. Человек позвал Топтыгина в гости и задал в его честь пир. А прощаясь, поцеловал косолапого и попросил жену сделать то же самое. Но жена плюнула и сказала сердито: – Не терплю вонючих гостей! Вскоре человек навестил медведя. Решив на обратном пути нарубить дров, он взял с собой топор. Мишка ласково встретил гостя, а потом стал настойчиво просить его: – Ударь меня топором по голове! Человек долго отказывался: разве можно?! Но хозяин берлоги настоял на своем. Что делать? Гость хватил косолапого обухом по голове и изрядно поранил его. Месяц спустя друзья встретились снова. Голова у медведя успела зажить, и он сказал человеку: – Вот видишь, братец: рана от топора зажила, но не зажило сердце, раненое языком твоей жены. Языком можно не только поранить, но и убить. Будем же осторожно обращаться с этим опасным оружием!',\n",
              " 'Собрались за столом почтенные люди. И возник у женщин вопрос: «Что же такое любовь?» Одна женщина говорит: – Любовь – это, наверное, болезнь. Встает врач: – Нет, это не болезнь. Скорее всего, это – работа, потому как выделяется очень большое количество энергии. Встает архитектор: – Ну какая же это работа? Ведь все так совершенно. Скорее, это искусство. Встает искусствовед: – Да нет же. Искусству нужен зритель. А это происходит один на один. Скорее, это процесс. Встает юрист: – Какой же это процесс, когда две стороны удовлетворены. Скорее, это наука. Встает старенький профессор: – Какая же это наука, когда всякий молодой студент может, а я, старый профессор, не могу! Так выпьем за вечных студентов! В любви!',\n",
              " 'Был у родителей единственный сын. Он весело жил, счастливо рос. Были у него друзья, как он их называл. И вот однажды встретил он прекрасную девушку и решил жениться на ней. В предсвадебных хлопотах отец подошел к сыну и предложил: – Давай, сынок, я позову твоих друзей. И сын согласился. И вот настал торжественный день – день свадьбы. Собрались все соседи и родственники, пришли сослуживцы, просто знакомые и малознакомые люди. Но друзей не было – ни один друг не появился на свадьбе. И когда сын обратился с вопросом к отцу, тот ответил: – Сынок, я хотел проверить твоих друзей, и вместо приглашения на свадьбу послал им просьбу о помощи. Как видишь, никто не пришел. Так выпьем же за настоящих друзей! За нас и нашу дружбу!',\n",
              " 'Отдыхающие на пляже в воде выловили бутылку. Открыли ее, и оттуда выпала записка: «Я живу на необитаемом острове. Здесь нет ни бандитов, ни кредитов, ни дебиторов, ни кредиторов, ни ментов, ни налоговых инспекторов, ни коммерсантов, ни банкиров, ни терок, ни разборок… Чтоб вы все там лопнули от зависти!» И подпись: «Новый грузин». Выпьем за то, чтобы вам, мои друзья, тоже повезло в жизни!',\n",
              " 'Будит жена утром своего мужа после застолья в честь получки. – Вахтанг, вставай, уже поздно! – Женщина, ты мой пиджак вычистила? – Вычистила, Вахтанг, вставай! – Женщина, а ты мои ботинки вычистила? – А что, Вахтанг, там тоже есть карманы? Так поднимем же бокалы за наших нежных и заботливых жен!',\n",
              " 'Надумал как-то один джигит жениться и пришел к своему отцу. Отец в это время в задумчивости сидел под сенью старого дерева и что-то чертил прутиком на песке. Джигит, приблизившись к нему, сказал: – Отец, мне нужен твой совет. Я встретил изумительно красивую девушку и хочу, чтобы она стала моей женой. Отец, не отрываясь от своих дум, начертил на песке нолик. – Отец, я уверен, что она будет прекрасной хозяйкой. Отец, все так же не отрываясь от своих дум, начертил еще один нолик. Джигит продолжал перечислять достоинства девушки, но старик-отец все это время чертил одни только нолики. Парень наконец отчаялся и воскликнул: – Отец, мы любим друг друга! После этого отец уважительно посмотрел на сына и впереди всех нулей начертил единицу. Так выпьем же за любовь, которая способна увеличить все достоинства в тысячи раз!',\n",
              " 'Восточный владыка однажды посетил тюрьму, в которой отбывали наказание двадцать арестантов. – За что сидите? – спросил владыка. Девятнадцать из двадцати тут же поклялись, что сидят безвинно, исключительно по судебной ошибке. И только двадцатый признался, что сидит за кражу. – Немедленно выпустить его на свободу, – приказал владыка, – он может оказать дурное влияние на всех остальных честных людей, которые здесь находятся. Так выпьем же за людей, честность которых помогает им быть свободными!',\n",
              " 'Два леопарда кружили в лесу и набрели на хижину. В ней на полу была постелена шкура леопарда. – Ты знаешь, что это такое? – спросил один леопард другого. Тот взглянул на шкуру и задрожал, прошептав с ужасом: – Бежим! Это моя теща! Давайте сдвинем бокалы в честь хороших тещ, которых бы мы не страшились!',\n",
              " 'Жили-были два друга. Влюбились они в одну девушку, а та им и говорит: – Я люблю вас обоих, но вы разожгите костер на двух сторонах реки. У кого костер будет гореть дольше, за того я и выйду. Они так и сделали: жгут-жгут-жгут… и один засыпает. Второй видит, что его друг заснул, переплывает реку, подбрасывает ему дров, переплывает обратно и… засыпает. Первый, проснувшись, видит, что у друга гаснет костер, – переплывает реку, смотрит, а у того нет дров, и кидается в костер сам… Так давайте выпьем за то, чтоб у каждого из нас был такой друг.',\n",
              " 'Один настоятель мечети обратился к своим прихожанам после праздника: – Несчастные, знайте же, что вы пали ниже животных. Ну, поставьте перед ослом два ведра: одно с водой, другое с вином. Что он будет пить? – Конечно, воду! – ответили многие слушатели. – Вот именно, воду. А почему? – Потому что он осел! – послышался дружный ответ. Друзья мои, не уподобимся же мы ослам неразумным, разольем по бокалам вино и выпьем, тем более в такой приятной компании!',\n",
              " 'На Кавказе есть прекрасная легенда. У старого хана был один-единственный сын и звали его Сандро. Всем он был хорош – и красив, и силен, и ловок, и умен, да вот беда: не было у него памяти. Старый хан хотел, чтобы у него было много внуков, чтобы веселые детские голоса звучали в доме. Только никак не мог его сын жениться. С какой бы девушкой Сандро ни знакомится, через пять минут уже не может вспомнить ни кто она такая, ни как ее зовут. И вот решил Сандро отправиться за невестой в далекие края. Дал ему хан на прощанье амулет и сказал: – Сын мой, когда ты встретишь девушку, которая придется тебе по душе, отдай ей этот амулет. Она наденет его на шею, и ты всегда сможешь вспомнить ее по этому амулету. Уехал Сандро и долго путешествовал по высоким горам, долинам и селениям, но не встретил ни одной девушки, которая пришлась бы ему по сердцу. И вот однажды, уставший, голодный и мучающийся от жажды, он забрел в одну деревню. В центре деревни был глубокий колодец с чистой холодной водой, а у колодца стояла девушка и набирала воду. – Красавица, – обратился к ней Сандро, – дай мне напиться, я умираю от жажды. Девушка же налила ему не воды, а вкусного вина, и он напился. – Милая девушка, дай мне кусок хлеба, я умираю от голода. Девушка испекла пышный пирог и накормила его. И понял он, что не встретит на своем пути девушки лучше, отдал ей амулет, и сказал, что если она пожелает стать его женой, то пусть приезжает к нему на родину, он узнает ее по амулету. И уехал. Подумала девушка и поняла, что полюбила она молодого путешественника. Поехала она к Сандро в город, но потеряла по дороге амулет. Поэтому Сандро не узнал своей невесты, когда увидел ее. Девушка же привезла с собой своего вкусного вина и пышного пирога. Сандро попробовал их, вспомнил ее и никогда больше не забывал. Выпьем же за золотые ручки хозяйки, сотворившие сегодня такие блюда, от божественного вкуса которых можно забыть все на свете!',\n",
              " 'Один аксакал рассказывал мне старинное предание. Давным-давно жил в горах человек. Чем-то прогневил он судьбу – и был жестоко наказан за свой грех. Этот человек постоянно испытывал жажду, но утолить ее не мог. Пил он из колодцев, пил из быстрых горных рек, но жажда преследовала его. И даже лучшее вино не могло помочь ему. Однажды зашел он в незнакомый дом и попросил напиться. Девушка неземной красоты вынесла ему кувшин с обычной водой. Полюбил ее человек с первого взгляда, и забыл обо всем на свете, кроме этой девушки. Даже о своей жажде. Так поднимем же тост за такую любовь, которая способна утолить даже самую сильную жажду!',\n",
              " 'У одного мудреца была дочь. К ней пришли свататься двое: богатый и бедный. Мудрец сказал богатому: – Я не отдам за тебя свою дочь, – и выдал ее за бедняка. Когда его спросили, почему он так поступил, он ответил: – Богач глуп, и я уверен, что он обеднеет. Бедняк же умен, и я предвижу, что он достигнет счастья и благополучия. Если бы с нами был сегодня тот мудрец, он поднял бы чашу вина за то, чтобы при выборе жениха ценились мозги, а не кошелек.',\n",
              " 'Один князь пригласил к себе музыканта и попросил его, чтобы он развлек его. Музыкант играл очень хорошо. – Да будь благословенна твоя рука! – похвалил князь музыканта. – За прекрасную игру я подарю тебе золотой портсигар. Музыкант поблагодарил князя и на следующий день пришел за обещанным. – Какой портсигар? Ты вчера услаждал меня хорошей игрой, а я тебя – своим обещанием. Что осталось от твоей игры – то же самое осталось и от моих обещаний. Выпьем за то, чтобы обещания мужчин не развеивались, как ветер!',\n",
              " 'У одного торговца был сын. Дал ему торговец как-то монету и сказал: – Возьми, сынок, и старайся копить деньги. Сын выбросил монету в воду. Отец узнал об этом, но ничего не сказал. Сын же ничем не занимался, не работал, а только ел и пил в доме отца. Позвал тогда отец сына и сказал: – Иди, сынок, и сам заработай деньги. Пошел сын и нанялся на работу. С утра до позднего вечера он месил голыми ногами глину и, получив деньги, принес их домой. – Смотри, отец, – сказал юноша. – Я заработал деньги Отец ответил: – Ну вот, сынок, а теперь пойди и брось их в воду. Понял сын, что был прежде несправедлив к доброте отца и опустил голову. Так выпьем же не за ремень и розги, а за мудрость наших отцов и дедов.',\n",
              " 'Встретились в битве два полководца. Один победил другого, взял его в плен и посадил в яму. Выручить попавшего в беду решил корыстолюбивый человек. Он подошел к яме и крикнул узнику: – Пленник, хорошо ли я сделаю, если помогу тебе бежать? Полководец поблагодарил его. Опустив в яму веревку, человек вытащил его. И первым делом спросил: – А хорошо ли я сделал, что спас тебя? Спасенный снова поблагодарил его. Но спустя короткое время «благодетель» опять спросил, хорошо ли он сделал, что выручил генерала из беды. Надоело это генералу, и он крикнул во весь голос: – Эй, кто тут? Этот человек хочет помочь мне бежать! Явилась стража и схватила их обоих. Когда спросили полководца, почему он выдал себя, не желая скрыться, тот ответил: – Этот тип надоел мне, напрашиваясь на благодарности. Пока мы добрались бы до безопасного места, он уморил бы меня. Уж лучше я останусь в яме. Поэтому я поднимаю тост за моих друзей, которые всегда помогают мне, не требуя никакой благодарности!',\n",
              " 'Есть старинная кавказская легенда. Высоко в небе, под самыми облаками, летела молодая орлица. Бежал внизу олень, увидел ее и крикнул: – Орлица-орлица, посмотри, как я хорош: и бегаю быстро, и опытом умудрен, и глаза у меня большие и яркие. Спускайся с неба, будешь моей женой. – Нет, олень. Ты действительно хорош, бегаешь быстро, да низко, и опытом ты умудрен, да на самом деле глуп, и глаза у тебя красивые, да не зоркие – не видишь, что не подхожу я тебе. Беги дальше, не быть тебе моим мужем. Давайте поднимем бокалы за красавицу-хозяйку, чей муж и летал высоко, и умен был, и глаза имел зоркие, потому что высоко в небе разглядел такую орлицу и смог взять ее в жены!',\n",
              " 'Однажды по горному ущелью шел путник. Вдруг он увидел: древний старец сажает плодовое дерево в саду. Удивился путник и спросил: – Отец, скажи, сколько лет пройдет, прежде чем дерево, выросшее из посаженной тобой косточки, начнет плодоносить? Старик ему ответил: – Ты прав, конечно. Плоды появятся не ранее, чем через добрых двадцать лет. Я, скорее всего, до этого не доживу, но пускай другие их съедят, как я питаюсь ныне тем, что посадил еще мой предок. Предлагаю тост за старика я, Чтоб его завет в веках не гас, Чтобы щедрость именно такая Отличала каждого из нас.',\n",
              " 'Слепил Бог из глины человека, и остался у него небольшой кусочек глины. – Что тебе еще слепить, человек? – спросил Бог. Человек подумал: вроде бы все есть – руки, ноги, голова, – и сказал: – Слепи мне счастье. Но Бог не знал, что такое счастье. Он дал глину человеку и сказал: – Слепи сам свое счастье! За наши успехи в этом деле!',\n",
              " 'На небесах сидел дед и горько плакал. К нему подошел мальчик и спросил, почему он горюет. Старик отвечает: – На земле есть обычай – пить за упокой наших душ. Пока наши дети помнят о нас, мы всегда сыты и с полным кувшином вина. А теперь у меня пустой кувшин, значит, меня на земле забыли. Так помянем тех, кого с нами нет.',\n",
              " 'Подарил виноградарь садовнику двух петухов и говорит: – Будешь породистых кур разводить. Обрадовался садовник, да рано: петухи то и дело друг с другом дрались и ходили окровавленные. Рассказал садовник виноградарю об этом, а тот посоветовал: – Поймай петухов и ощипай их. – Они не подохнут? – испугался садовник. – Не беспокойся. Ощипал садовник петухов и отпустил. Холодно стало петухам, прижались они друг к другу, чтоб согреться, и помирились. Выпьем же, друзья, за то, чтобы наша дружба согревала нас всегда!',\n",
              " 'Идет суд. Молодая красивая грузинка, недавно вышедшая замуж, разводится со своим мужем, маленьким и щупленьким мужчиной. – Почему вы разводитесь со своим мужем? – спрашивает ее судья. – Да вся деревня надо мной смеется – слабый, хилый, на коня вскочить не может. Разве это джигит? Грузин вскакивает и возмущенно кричит: – Вах-вах, неправду говоришь, женщина! Не кормит меня она! Дайте мне одну тарелку супа, и вся деревня ей будет завидовать! Вот за нашу хозяйку, заботящуюся о своем милом и о нас с вами, мы и выпьем!',\n",
              " 'Встретились два кавказца. После обычных бурных кавказских приветствий один спрашивает другого: – Слушай, Вахтанг, дорогой, мне говорили, что ты женился? Это правда? – Да. – Когда я видел тебя в последний раз, ты был убежденным холостяком. Почему же ты женился? – Знаешь, не мог я есть то, что подают в столовых. – Ну, а теперь? – О, теперь я ем в столовой с удовольствием! Так выпьем же за любовь, которая способна в корне изменить наш взгляд на мир!',\n",
              " 'Однажды молодой джигит, спустившись с гор, оказался в незнакомом городе. Он бродил по улицам в надежде найти ночлег. Уже поздней ночью ему посчастливилось найти приют у молодой вдовы. Она положила его в своей единственной комнате на соседней кровати. Ночью женщина стала жаловаться, что ей холодно. Джигит одолжил ей свое одеяло. Через некоторое время женщина снова пожаловалась на то, что ей холодно. На что гость сказал, что ему больше нечего предложить ей. Тогда женщина сказала, что раньше, когда был жив ее муж, он согревал ее своим телом. Тут скромный юноша опешил и промолвил: – Простите, но где же я в три часа ночи в незнакомом городе могу найти тело вашего покойного мужа? Так выпьем же за способность женщин давать тонкие намеки!',\n",
              " 'Жили-были один очень богатый человек и один бедный человек. И оба хотели счастья. Богатому подали счастье на большом блюде, но скоро оно ему приелось, и он заплакал, потому что не знал, чего еще желать. А у бедного счастье было на высокой скале, и он карабкался, карабкался на нее, но, не зная правил скалолазания, каждый раз срывался. Так выпьем за то, чтобы не искать обманного счастья на широком блюде, а поступить в секцию альпинизма и скалолазания, и тем самым приобрести себе надежную жизненную сноровку.',\n",
              " 'Было это в одной тропической стране. Дочь пожаловалась матери, что муж изменяет ей. И мать сказала: – Это дело поправимое. Принеси мне два-три волоска, но не обычных, а вырви их из тигриных усов! – Что ты, мама! – испугалась дочка. – А ты попробуй, ты – женщина, все должна уметь! Задумалась дочка. Потом зарезала барана и с куском мяса ушла в лес. Села в засаду – ждет. Появился тигр и, разъяренный, кинулся к ней. Она бросила мясо и убежала. На другой день она снова пришла, и снова тигр метнулся к ней. Она бросила мясо, но не убежала, а смотрела, как он ест. На третий день, увидев ее с мясом, тигр радостно забил хвостом, похоже, что он ждал женщину. И она прямо с ладони стала кормить его. На четвертый день тигр радостный подбежал к женщине и, съев кусок баранины, положил голову ей на колени. Блаженно задремал тигр. И в эту минуту женщина выдернула три волоска и принесла матери домой. – Ну вот, – сказала та, – ты укротила такого хищного зверя, как тигр. Теперь иди и укроти мужа или лаской, или хитростью – как сумеешь. Запомни: в каждом мужчине живет тигр. Итак, предлагаю тост за женщин, в которых есть и нежность, и терпение, и мужество, и чтоб на милость им сдавались тигры, дремлющие в нас – мужчинах!',\n",
              " 'Возвращается Гиви после долгой службы в чужих краях к себе домой, к красавице-жене. Заходит он в свой дом, а его встречает не только жена, но еще и трое детей! Радуются, смеются, папой называют. Удивился Гиви и спрашивает у жены: – Сулико, разве это наши дети? Ведь когда я уходил служить, их не было! – Вай, Гиви, разве ты не помнишь? Когда ты на службу уходил, я беременная была – родился наш старшенький. А потом, помнишь, я к тебе приезжала – после нашего свидания родилась дочурка! – Ну ладно, а третий-то откуда? – спрашивает изумленный Гиви. – Да что ты к нему пристал? Сидит он тихонько, да и пусть себе сидит! Так выпьем же за наших милосердных мам, благодаря стараниям которых у нас всех много веселых братьев и красивых сестер!',\n",
              " 'Высоко в горах жил седой и мудрый аксакал. Он рассказывал старую легенду о молодом неудачливом грузине по имени Гиви. Захотел Гиви жениться, да не отдавали за него, такого неудачливого, ни одну девушку в деревне. Его мать пошла в деревню и просватала за него самую красивую девушку. Женился Гиви, родились у него дети, да такие непослушные, что жена не могла с ними справиться. Мать Гиви стала сидеть с внуками, играть с ними, воспитывать их. Было у Гиви стадо баранов, да повадились волки таскать из него молодых барашков. Хотел он попросить совета у матери, да не успел. Она умерла. Но после смерти превратилась в ястреба и стала отгонять волков от стада своего сына. И не было у Гиви больше бед, и прожил он долгую и счастливую жизнь. Так выпьем же, (имя хозяина), за наших матерей, самых мудрых и самых добрых, готовых помочь нам в любой трудной ситуации!',\n",
              " 'Один джигит пошел на рынок. Смотрит – продают трех попугаев. Он подошел, стал расспрашивать продавца, что за птицы. Продавец говорит: – Один из них ничего не знает, другой знает несколько грузинских слов, а третий – самый дорогой – знает, где клад зарыт. Выбрал грузин самого дорогого, купил его. Спрашивает: – Попугай, ты правда знаешь, где клад искать? – Канэшна. Идет мимо старого, заброшенного двора: – Ну что, попугай, есть здесь клад? – Канэшна. Заходит во двор: – Здесь искать, попугай? – Канэшна. Зашел грузин во двор, видит там прекрасную девушку… – Вот это клад! – Генацвали, ты и правда клад нашел? – спрашивает попугай. – Канэшна! Предлагаю выпить за любовь, которая помогает нам отличить истинные ценности!',\n",
              " 'В нашем роду из поколения в поколение передается одна притча. Когда мой прапрапрапрадед женился на девушке из соседнего аула, он повез ее в свой на коне. Но по дороге конь оступился – и мой предок сказал: «Раз»; когда конь споткнулся, он сказал: «Два»; но когда конь оступился в третий раз – он зарубил его. Тогда его жена воскликнула: «Зачем ты убил бедное животное?» В ответ она услышала одно лишь слово: «Раз». С тех пор всем женщинам в нашем роду рассказывают эту притчу, перед тем как они выйдут замуж. Так выпьем же за женщин, которые умеют вовремя замолчать!',\n",
              " 'Умер мужчина и попал на небо. На небе его встречает его ангел-хранитель и говорит ему: – Пойдем со мной, я покажу тебе весь твой жизненный путь. Смотрят они вниз, а внизу дорога, местами ровная, местами в буграх, и на дороге две пары следов. Мужчина спрашивает у ангела: – А что это за вторая пара следов вслед за моими? – Это мои следы. Смотрит мужчина дальше и вдруг видит, что в некоторых местах есть только одни следы, а вторых нет. Тогда он спрашивает ангела: – А почему в некоторых местах только одни следы? Ангел ему отвечает: – Это особо трудные моменты твоей жизни! – А где же ты был? Почему нет твоих следов? Как ты мог бросить меня в такой тяжелый период моей жизни? – Это не твои следы, это мои следы. А твоих здесь нет, потому что я нес тебя на руках. Так выпьем за то, чтобы во все сложные периоды нашей жизни наши ангелы несли нас на руках. В общем, выпьем за наших ангелов!',\n",
              " 'Жила-была девушка несравненной красоты, но у нее не было ни мужа, ни жениха. Дело в том, что рядом с ней жил мудрец, и он сказал: – Тот, кто решится поцеловать красавицу, умрет! Все знали, что мудрец никогда не ошибался, поэтому сотни отважных джигитов глядели на девушку издалека, не решаясь даже подойти к ней. И вдруг однажды появился юноша, который с первого взгляда, как и все остальные, влюбился в красавицу. Но он мгновенно перелез через ограду, подошел и поцеловал девушку. – Ах! – вскричали джигиты. – Сейчас он умрет! Но юноша поцеловал девушку еще раз, и еще. И она тут же согласилась выйти за него замуж. – Но как же так?! – воскликнули остальные джигиты. – Ты, мудрец, предрекал, что поцеловавший красавицу – умрет?! – Так и будет, – ответил мудрец. – Но я никогда не говорил, что это случится тотчас. Он умрет когда-нибудь потом, когда после многих лет счастливой жизни придет его срок. Так выпьем за тех, кто умеет внимательно слушать. Даже такие длинные тосты!',\n",
              " 'В одном высокогорном селении умирает один очень старый и очень богатый аксакал. У его смертного одра собрались все родственники, дабы выслушать его последнюю волю. Умирающий шепчет: – Своей любимой жене я оставляю дом, сыновьям – мои бесчисленные отары овец, дочерям и их мужьям – мои бесценные вина, внукам – мои обширные виноградники, а старшему правнуку Гиви, который мне все время повторял, что главное – не деньги и имущество, а здоровье, я оставляю свои новые чувяки, бурку и посох – ходи, дорогой, по горам, дыши воздухом, набирайся здоровья, вай, вай, вай! Так выпьем же за здоровье – главную ценность настоящего джигита!',\n",
              " 'Слышали ли вы самую прекрасную кавказскую легенду? Когда-то давно в горах Кавказа была небольшая деревушка. Все люди в той деревушке были веселые и гостеприимные. А самым большим любителем застолий был один седой старик. У него не было денег, чтобы закатывать богатые пиры, однако у него была молоденькая дочка такой красоты, что к нему собиралась вся деревня и даже приезжали жители других селений. Старик гордился своей дочерью и мечтал выдать ее замуж за своего соседа, чтобы она всегда была рядом. Приехали к нему однажды гости из далеких мест, привезли ему крепкого и вкусного вина. Устроил старик праздник, и присутствовала на нем его дочка. Был среди далеких гостей молодой джигит, которому так понравилась дочь старика, что он решил жениться на ней и увезти ее с собой. Он налил старику крепкого вина, тот выпил его – и заснул. И увез джигит девушку в далекие края, и женился на ней, и стал устраивать веселые пиры, на которые приходило множество людей, чтобы попробовать его крепкого вина и посмотреть на его красавицу-жену. А старик жил с тех пор в одиночестве и не устраивал больше застолий, потому что ничто его без дочки не веселило. Выпьем же за хозяйку, дочку нашего (именинника и т. п.), умницу и красавицу, и пожелаем ей как можно дольше украшать наши праздники и радовать наши сердца!',\n",
              " 'Жил-был в одной из кавказских стран справедливый и мудрый царь. И было у него три сына. Царь этот состарился и пожелал передать бразды правления тому из своих сыновей, кто окажется более способен к этому нелегкому делу. Позвал царь своих сыновей и говорит: – Дорогие мои сыновья! Вы видите, что отец ваш уже не может править страной, потому что стал стар. Кому из вас по силам будет исполнить мою мечту, тот и унаследует трон, станет царем. – Что же это за мечта, отец? – спросили сыновья. – На царском дворе есть огромное хранилище. Я хочу, чтобы вы заполнили его чем-нибудь таким, что было бы самым нужным на этом свете. Поэтому отправляйтесь на поиски, отыщите самое нужное и заполните мое хранилище. Сыновья пустились в путь. Через тридцать три дня вернулись они домой и пришли к отцу. – Ну что же, нашли вы самую нужную вещь? – Да, нашли, дорогой отец! Царь повел сыновей к дверям хранилища, отворил двери и подозвал старшего сына. – Чем ты заполнишь это хранилище, дорогой сын? Старший сын вынул из кармана горсть зерна и сказал: – Я заполню это хранилище хлебом, дорогой отец! Ничего нет нужнее, чем хлеб, никто не сможет без него прожить. Подозвал царь среднего сына: – А чем ты заполнишь это хранилище? Средний сын вынул из кармана горсть земли и сказал: – Землей я заполню это хранилище. Без земли нет и хлеба. Позвал царь младшего сына: – Ну, а ты чем заполнишь это хранилище? При этих словах подвел младший сын к отцу прекрасную девушку и сказал: – Светом любви заполню я это хранилище, отец. Много я постранствовал, многое повидал, но нет ничего на свете нужнее, чем любовь. Без любви не было бы жизни на земле. Любовь – самая нужная вещь! Только свет любви дает человеку жизнь! – Ты заслуживаешь права на трон! – воскликнул обрадованный отец. – Ты хочешь самого прекрасного, хочешь наполнить сердца светом любви! Так давайте же прислушаемся к мнению мудрого царя и поднимем наши бокалы за самую прекрасную вещь на свете – за любовь!',\n",
              " 'На Кавказе есть одна старая притча. Приползла как-то к Аллаху змея и говорит: – Преврати меня в прекрасную женщину, надоело мне в чешуе ползать. Аллах исполнил ее просьбу и, превратив ее в прекрасную женщину, сказал: – Иди и жаль людей. Затем прилетела к Аллаху белая голубка и попросила: – Преврати меня в прекрасную женщину! Аллах превратил ее и молвил: – Иди и неси людям добро. С тех пор по земле ходят две прекрасные женщины – с черной и белой душой. Так выпьем же за женщин с белой душой, которых, несомненно, больше!',\n",
              " 'Плыли на корабле купец и ученый. Купец был богатый и вез собой много товаров, а ученый человек ничего не имел. Поднялась на море буря, и корабль потерпел крушение. Спаслись только купец и ученый. Они уцепились за бревно, и волна вынесла их на берег. Видит купец, что ученый пригорюнился, и говорит ему: – А что тебе грустить? Это я свое богатство потерял, а твое – все с тобой. Поднимем бокалы за то богатство, которое нельзя потерять – за разум!',\n",
              " 'Прежде чем выйти замуж, выторговала невеста у жениха всего лишь одно условие: один раз в год он будет отпускать ее на три дня, ни о чем не спрашивая. Год прожили они в любви и согласии. К концу года только почувствовал муж какое-то внутреннее напряжение в жене. Забеспокоился, спросил, в чем дело. Вместо ответа жена напомнила ему о своем условии и тут же исчезла из дома на три дня. Вернулась в срок радостная, счастливая, и вновь они зажили слаженной жизнью. Однако через год жена снова исчезла на три дня, а явилась еще более нежной и внимательной. На третий год не выдержал муж и украдкой направился вслед за женою. Жена, зайдя в глубину леса, вышла на большую поляну и остановилась возле столетнего дуба. Оглядевшись по сторонам, она торопливо залезла на сук и… обратилась гадюкой. Три дня муж не сводил глаз с жены-гадюки, три дня змея висела вниз головой, шипела, а с ее языка все капал и капал яд. Ровно через трое суток яд перестал капать, змея соскользнула с дуба и вновь обратилась женщиной. Хлопнула в ладоши, засмеялась счастливым смехом и бегом кинулась к дому. Муж едва успел опередить ее. Выпьем за женщин, изливающих годовой запас яда за каких-нибудь три дня! И не на мужа…',\n",
              " 'Некогда жил на свете мудрый человек, и был у него сын Дато. Жили они дружно, но бедно: не было у них ни родни, ни денег, а было только одно поле, которое они засевали каждую весну. Но и урожай с этого поля у них выклевывали птицы. И вот пришло время, умер старик, но перед смертью сказал своему сыну: – Когда придет весна, трижды вспаши наше поле и засей его самыми лучшими зернами. Не жалей труда, пропалывай и поливай ростки, и у тебя будут богатые всходы. Но прилетит большая прекрасная птица и уничтожит весь твой урожай. Если ты будешь добр к ней, она сделает тебя счастливым. Пришла весна, трижды вспахал Дато поле, засеял его самыми лучшими зернами, не жалея времени и сил, полол и поливал всходы. И вот пришло время убирать урожай, но прилетела большая прекрасная птица с золотыми сверкающими перьями, и склевала все зерна. Огорчился Дато, хотел прогнать птицу, но вспомнил, что ему сказал отец, и ничего ей не сделал. Птица же подлетела к нему и сказала: – Дато, ты был добр ко мне, дал мне вдоволь наесться твоих зерен, подарю я тебе за это счастье. Махнула птица крылом и улетела, а на ее месте осталась стоять девушка. «Вот так счастье!» – подумал Дато. – «Она хороша, как цветок, и ясна, как солнечный день, но мне и самому есть нечего, а теперь надо кормить и ее». Смотрит Дато, а девушка уже подошла к дому. Махнула она рукой – и его старый покосившийся дом вновь стал как новый. Она зашла в дом, махнула другой рукой, и куда-то исчезли вся пыль и рухлядь, а посреди комнаты появился новый стол, весь уставленный вкусными яствами. Вышла она в поле, взмахнула руками – и вновь оно зазеленело молодыми всходами. Поднимем же бокалы за нашу хозяйку, настоящую волшебницу, которая одним взмахом своей нежной ручки смогла накрыть этот сказочный стол!',\n",
              " 'Разговаривают два грузина: – Сосо, ты почему такой грустный? – Да жена на месяц уезжает к маме в соседний аул. – Так, значит, ты от этого так расстроился? – Да нет. Если у меня будет радостное лицо, она никуда не поедет! Так выпьем же за таких жен, как наши, которых мы всегда рады видеть! А мама пусть приезжает в гости сама!',\n",
              " 'Ехал пастух по полю, искал отбившуюся от стада овцу. Подъехал к обширному винограднику. Видит – там работает какой-то седой аксакал. Поздоровался с ним пастух и говорит: – Не видел ли ты моей овцы, добрый человек? – Нет, не видел, но, может быть, тебе поможет в этом мой старший брат. Он работает вон на том краю виноградника. Спроси у него. Подъехал пастух к старшему брату седого человека. У этого голова и борода с одной стороны были черные, а с другой – седые. Поздоровался с ним пастух. Спросил о своей овце. Полуседой человек говорит ему: – Я твоей овцы не видел, но мой старший брат поймал сегодня утром чью-то овцу. Он работает на противоположном краю. Подъехал пастух к старшему из братьев и видит перед собой молодого человека без единого седого волоса на голове. Поздоровался с ним пастух, рассказал о своей беде. Молодой человек отдал пастуху его овцу. Поблагодарил его пастух и спрашивает: – Скажи мне, добрый человек, почему твои младшие братья выглядят старше тебя? – Наш младший брат поседел оттого, что женился не по любви, взял себе жену богатую, но злую. Средний брат наполовину седой потому, что до сих пор не женился. А я молод потому, что женился на любимой девушке – и каждый день, прожитый с любимой, продлевает мне жизнь. Так выпьем же за любовь, которая делает влюбленных вечно молодыми!',\n",
              " 'У грузин была царица по имени Тамара. Она была храброй, и ее любил народ. С большим войском в Грузию явился персидский царь. Поначалу ему сопутствовала победа. Тамара вынуждена была отступать. Впереди ее войска гнали арбы, затем шли сами воины. Так Тамара углублялась в горы по Дарьяльскому ущелью. Здесь она засела в своей большой башне. Персидский царь послал сказать Тамаре: – Сдавайся. У меня огромное войско – и ты не победишь меня. Сдашься, я возьму тебя в жены. – Хотя и огромно твое войско, но любой из моих воинов сможет противостоять твоим десяти воинам. А чем стать твоей женой, я бы предпочла выйти замуж за самого никчемного своего воина. Тамара сплотила грузин и разные горные народы. С их помощью она разгромила и изгнала из своего края персидского царя. Так выпьем же за непокорных женщин, умеющих добиваться своего!',\n",
              " 'В одном грузинском селе проводилось собрание. Вначале выступил первый секретарь райкома: – Генацвале, вы хорошо потрудились для нашей Советской родины, и партия вас не забыла – вы все видите знамя передовиков, которое вам вручено по заслугам. Hо меня беспокоит одна штука – у вас нет клуба… Где вы встречаете праздники под сладкие речи тамады? Где вы слушаете умные рассказы нашего уважаемого лектора? Куда вы, наконец, приходите на собрания, чтобы поговорить о славных делах партии? В этом хлеву можно только мычать… Я предлагаю собрать деньги и построить клуб… Согласны? – Hет! Hет! – дружно отвечали жители. Секретарь пожал плечами и обиженно сел на место. Продолжил собрание председатель райисполкома: – Я понимаю вас – от славы у кого не закружится голова, мне это известно… Hо не забывайтесь! Партия предлагает вам выход, как поднять культуру в вашем селе… А как отвечаете вы? И уже с угрозой в голосе: – Так вы будете собирать деньги на строительство клуба? – Hет! Hет! – дружно отвечали все. Hаконец встал секретарь местной парторганизации и поднял руку, требуя внимания: – Вы помните, что сказала своей внучке перед свадьбой бабушка Анико? – Помним! Помним! – так же дружно отвечали собравшиеся. – Так будете собирать для клуба деньги? – Будем! Будем! – с готовностью отвечали все и стали расходиться. После собрания, как водится, организовали застолье и первый, дружески похлопав по плечу колхозного секретаря, похвалил его: – Пора тебя повышать, дорогой! Так что же там старая Анико сказала внучке? – Да это все у нас знают… Внучка перед свадьбой пришла к бабушке за советом: каким боком лечь ей рядом с мужем, чтобы было удобно… – Hу и что же? – А мудрая Анико ей и говорит: «Как, внученька, ни крутись, он свое возьмет!» Так выпьем же за мудрость стариков.']"
            ]
          },
          "metadata": {},
          "execution_count": 274
        }
      ]
    },
    {
      "cell_type": "code",
      "source": [
        "train_dataset = TextDataset(tokenizer=tokenizer, file_path=texts_path, block_size=64, overwrite_cache=True) \n",
        "data_collator = DataCollatorForLanguageModeling(tokenizer=tokenizer, mlm=False)"
      ],
      "metadata": {
        "colab": {
          "base_uri": "https://localhost:8080/"
        },
        "id": "RFtXCxIKXUUQ",
        "outputId": "b3cc55f4-29a4-4a86-9159-4669c5e663c6"
      },
      "execution_count": 5,
      "outputs": [
        {
          "output_type": "stream",
          "name": "stderr",
          "text": [
            "/usr/local/lib/python3.7/dist-packages/transformers/data/datasets/language_modeling.py:58: FutureWarning: This dataset will be removed from the library soon, preprocessing should be handled with the 🤗 Datasets library. You can have a look at this example script for pointers: https://github.com/huggingface/transformers/blob/main/examples/pytorch/language-modeling/run_mlm.py\n",
            "  FutureWarning,\n"
          ]
        }
      ]
    },
    {
      "cell_type": "code",
      "source": [
        "training_args = TrainingArguments( \n",
        "    output_dir= \"./finetuned\",\n",
        "    overwrite_output_dir=True,\n",
        "    num_train_epochs=200, \n",
        "    per_device_train_batch_size=32, \n",
        "    per_device_eval_batch_size=32,  \n",
        "    gradient_accumulation_steps=16, \n",
        "    )\n",
        "\n",
        "\n",
        "trainer = Trainer(\n",
        "    model=model,\n",
        "    args=training_args,\n",
        "    data_collator=data_collator,\n",
        "    train_dataset=train_dataset,\n",
        "    optimizers = (torch.optim.AdamW(model.parameters(),lr=1e-5),None) # Optimizer and lr scheduler\n",
        ")"
      ],
      "metadata": {
        "colab": {
          "base_uri": "https://localhost:8080/"
        },
        "id": "vmTVJFX7YYoo",
        "outputId": "08f1d6cc-d52b-467e-9e5f-48c4fadc51c5"
      },
      "execution_count": 28,
      "outputs": [
        {
          "output_type": "stream",
          "name": "stderr",
          "text": [
            "PyTorch: setting up devices\n",
            "The default value for the training argument `--report_to` will change in v5 (from all installed integrations to none). In v5, you will need to use `--report_to all` to get the same behavior as now. You should start updating your code and make this info disappear :-).\n"
          ]
        }
      ]
    },
    {
      "cell_type": "code",
      "source": [
        "trainer.train()"
      ],
      "metadata": {
        "colab": {
          "base_uri": "https://localhost:8080/",
          "height": 379
        },
        "id": "cNK8kJyAYlcw",
        "outputId": "8b6b457a-7195-4118-ea7e-41a1c4ce54b2"
      },
      "execution_count": 29,
      "outputs": [
        {
          "metadata": {
            "tags": null
          },
          "name": "stderr",
          "output_type": "stream",
          "text": [
            "***** Running training *****\n",
            "  Num examples = 345\n",
            "  Num Epochs = 200\n",
            "  Instantaneous batch size per device = 32\n",
            "  Total train batch size (w. parallel, distributed & accumulation) = 512\n",
            "  Gradient Accumulation steps = 16\n",
            "  Total optimization steps = 200\n"
          ]
        },
        {
          "data": {
            "text/html": [
              "\n",
              "    <div>\n",
              "      \n",
              "      <progress value='76' max='200' style='width:300px; height:20px; vertical-align: middle;'></progress>\n",
              "      [ 76/200 06:50 < 11:28, 0.18 it/s, Epoch 75/200]\n",
              "    </div>\n",
              "    <table border=\"1\" class=\"dataframe\">\n",
              "  <thead>\n",
              " <tr style=\"text-align: left;\">\n",
              "      <th>Step</th>\n",
              "      <th>Training Loss</th>\n",
              "    </tr>\n",
              "  </thead>\n",
              "  <tbody>\n",
              "  </tbody>\n",
              "</table><p>"
            ],
            "text/plain": [
              "<IPython.core.display.HTML object>"
            ]
          },
          "metadata": {},
          "output_type": "display_data"
        },
        {
          "output_type": "display_data",
          "data": {
            "text/plain": [
              "<IPython.core.display.HTML object>"
            ],
            "text/html": [
              "\n",
              "    <div>\n",
              "      \n",
              "      <progress value='200' max='200' style='width:300px; height:20px; vertical-align: middle;'></progress>\n",
              "      [200/200 18:23, Epoch 200/200]\n",
              "    </div>\n",
              "    <table border=\"1\" class=\"dataframe\">\n",
              "  <thead>\n",
              " <tr style=\"text-align: left;\">\n",
              "      <th>Step</th>\n",
              "      <th>Training Loss</th>\n",
              "    </tr>\n",
              "  </thead>\n",
              "  <tbody>\n",
              "  </tbody>\n",
              "</table><p>"
            ]
          },
          "metadata": {}
        },
        {
          "output_type": "stream",
          "name": "stderr",
          "text": [
            "\n",
            "\n",
            "Training completed. Do not forget to share your model on huggingface.co/models =)\n",
            "\n",
            "\n"
          ]
        },
        {
          "output_type": "execute_result",
          "data": {
            "text/plain": [
              "TrainOutput(global_step=200, training_loss=1.0742225646972656, metrics={'train_runtime': 1108.9433, 'train_samples_per_second': 62.221, 'train_steps_per_second': 0.18, 'total_flos': 2253643776000000.0, 'train_loss': 1.0742225646972656, 'epoch': 200.0})"
            ]
          },
          "metadata": {},
          "execution_count": 29
        }
      ]
    },
    {
      "cell_type": "code",
      "source": [
        "model.eval()"
      ],
      "metadata": {
        "id": "u4B0WEOBnHfP"
      },
      "execution_count": null,
      "outputs": []
    },
    {
      "cell_type": "code",
      "source": [
        "text = \"Однажды\"\n",
        "input_ids = tokenizer.encode(text, return_tensors=\"pt\").to(DEVICE)\n",
        "with torch.no_grad():\n",
        "    out = model.generate(input_ids, do_sample=True, temperature=0.8, max_length=100)\n",
        "generated_text = list(map(tokenizer.decode, out))[0]\n",
        "print()\n",
        "print(generated_text)"
      ],
      "metadata": {
        "colab": {
          "base_uri": "https://localhost:8080/"
        },
        "id": "lwVSiN39hJ-p",
        "outputId": "f1184a5a-5689-4d10-c9a0-a25316fca8c0"
      },
      "execution_count": 31,
      "outputs": [
        {
          "output_type": "stream",
          "name": "stderr",
          "text": [
            "Setting `pad_token_id` to `eos_token_id`:50256 for open-end generation.\n"
          ]
        },
        {
          "output_type": "stream",
          "name": "stdout",
          "text": [
            "\n",
            "Однажды он женился, и у него родился сын. Так выпьем же за то, чтобы женщины никогда не забывали о своем любимом деле!\n",
            "Одна молодая грузинка приходит домой после праздника и видит перед собой молодую и красивую женщину. Она спрашивает: – Как тебе понравилась моя работа? – Это моя любовь, – отвечает молодая грузинка. – Почему ты так понравилась мне? – Это моя жена, которая всегда со мной. Так выпьем же за женскую любовь!\n",
            "Молодая грузинка приходит домой\n"
          ]
        }
      ]
    },
    {
      "cell_type": "code",
      "source": [
        "text = \"Однажды в студеную\"\n",
        "input_ids = tokenizer.encode(text, return_tensors=\"pt\").to(DEVICE)\n",
        "with torch.no_grad():\n",
        "    out = model.generate(input_ids, do_sample=True, temperature=0.8, max_length=150)\n",
        "generated_text = list(map(tokenizer.decode, out))[0]\n",
        "print()\n",
        "print(generated_text)"
      ],
      "metadata": {
        "colab": {
          "base_uri": "https://localhost:8080/"
        },
        "id": "P55pPhAsnxRf",
        "outputId": "d6db319e-3782-4376-e420-25fdd48f144d"
      },
      "execution_count": 48,
      "outputs": [
        {
          "output_type": "stream",
          "name": "stderr",
          "text": [
            "Setting `pad_token_id` to `eos_token_id`:50256 for open-end generation.\n"
          ]
        },
        {
          "output_type": "stream",
          "name": "stdout",
          "text": [
            "\n",
            "Однажды в студеную заснеженную ночь к нему в гости пришел друг и предложил напиться. Студент согласился, но только одну бутылку. Расставаясь с друзьями, друг сказал: – Если бы мы жили сейчас в такой дали, я бы дал тебе напиться. Студент подумал и ответил: – Если бы я жил сейчас в такой дали, я бы подарил тебе бутылку коньяка. – А если бы я хотела вернуться домой только завтра, – сказала жена, – ты бы меня отпустил? – Не отпустил бы, – ответил друг, – но зато сейчас ты можешь меня отвезти в далекие края на своей машине. Так выпьем же за то, чтобы ни одна поездка в далекие края не была для нас стóлькими перелетами!\n",
            "Встре\n"
          ]
        }
      ]
    },
    {
      "cell_type": "code",
      "source": [
        "text = \"В Москве\"\n",
        "input_ids = tokenizer.encode(text, return_tensors=\"pt\").to(DEVICE)\n",
        "with torch.no_grad():\n",
        "    out = model.generate(input_ids, do_sample=True, temperature=0.5, max_length=200)\n",
        "generated_text = list(map(tokenizer.decode, out))[0]\n",
        "print()\n",
        "print(generated_text)"
      ],
      "metadata": {
        "colab": {
          "base_uri": "https://localhost:8080/"
        },
        "id": "dxckn6fBxGkS",
        "outputId": "6d14b135-b86b-49f9-ad40-7023fc4fa755"
      },
      "execution_count": 214,
      "outputs": [
        {
          "output_type": "stream",
          "name": "stderr",
          "text": [
            "Setting `pad_token_id` to `eos_token_id`:50256 for open-end generation.\n"
          ]
        },
        {
          "output_type": "stream",
          "name": "stdout",
          "text": [
            "\n",
            "В Москве проходит учредительная конференция Ассоциации. В ней принимают участие более 100 известных московских компаний. В этом году на торжественной церемонии открытия конференции генеральный директор «АВТОВАЗа» подвел итоги работы своей компании за прошедший год. – За последние три года мы сумели увеличить свой штат, – говорит он. – И мы гордимся тем, что являемся одной из крупнейших в стране компаний-лидеров в производстве грузовых автомобилей. Так давайте выпьем за успех нашей совместной работы!\n",
            "В одном из деловых разговоров один из собеседников заметил: – Я бы хотел, чтобы наша встреча стала настоящим праздником!\n",
            "Однажды в поезде Вано Мато посетил ресторан. Заведение было расположено в старинном здании, окна которого были завешаны картинами. Заведение было переполнено, и в одном углу зала Вано Мато увидел объявление: «Шаббат». – Что это значит? – спросил Вано. – Это значит, что ты можешь исполнить любое желание хозяина, – ответил администратор. – А что это\n"
          ]
        }
      ]
    },
    {
      "cell_type": "code",
      "source": [
        "text = \"Недвижимость снова\"\n",
        "input_ids = tokenizer.encode(text, return_tensors=\"pt\").to(DEVICE)\n",
        "with torch.no_grad():\n",
        "    out = model.generate(input_ids, do_sample=True, temperature=1, top_k=30, max_length=200)\n",
        "generated_text = list(map(tokenizer.decode, out))[0]\n",
        "print()\n",
        "print(generated_text)"
      ],
      "metadata": {
        "colab": {
          "base_uri": "https://localhost:8080/"
        },
        "id": "HYBujxQEzqJv",
        "outputId": "426d9771-391e-41a2-b5b0-63c828b26994"
      },
      "execution_count": 272,
      "outputs": [
        {
          "output_type": "stream",
          "name": "stderr",
          "text": [
            "Setting `pad_token_id` to `eos_token_id`:50256 for open-end generation.\n"
          ]
        },
        {
          "output_type": "stream",
          "name": "stdout",
          "text": [
            "\n",
            "Недвижимость снова подорожала – теперь ее стоимость может возрасти до нескольких тысяч рублей! И это вполне естественно – рынок загородной недвижимости активно развивается, а значит, и цены на недвижимость тоже должны быть не ниже, чем у конкурентов! Предлагаю поднять наш бокал за то, чтобы загородная недвижимость всегда была доступна каждому!\n",
            "Жилища вилл и домов на берегу моря всегда вызывали у гостей особенную историю. Если вы любите спокойный и размеренный отдых, то вам точно понравятся виллы на Средиземном море, в которых вы сможете насладиться прекрасным видом на море. Конечно, это не Египет, но все же. Вилла на Средиземном море, где вы в спокойной обстановке можете отдохнуть от городской суеты и забыть обо всех проблемах, является отличным решением для тех, кто живет в городе. Вилла на Средиземном море – это, пожалуй, самое большое и самое красивое на земле чудо природы! И если ваш первый отдых на море был просто сказкой, то сейчас вы можете окунуться в царящую в\n"
          ]
        }
      ]
    },
    {
      "cell_type": "code",
      "source": [
        "text = \"Вчера внезапно\"\n",
        "input_ids = tokenizer.encode(text, return_tensors=\"pt\").to(DEVICE)\n",
        "with torch.no_grad():\n",
        "    out = model.generate(input_ids, do_sample=True, temperature=0.6, top_k=20, max_length=150)\n",
        "generated_text = list(map(tokenizer.decode, out))[0]\n",
        "print()\n",
        "print(generated_text)"
      ],
      "metadata": {
        "colab": {
          "base_uri": "https://localhost:8080/"
        },
        "id": "I8MOFHcZpdBu",
        "outputId": "280b3c09-4509-488b-af0f-e14266074b01"
      },
      "execution_count": 100,
      "outputs": [
        {
          "output_type": "stream",
          "name": "stderr",
          "text": [
            "Setting `pad_token_id` to `eos_token_id`:50256 for open-end generation.\n"
          ]
        },
        {
          "output_type": "stream",
          "name": "stdout",
          "text": [
            "\n",
            "Вчера внезапно узнала, что мой муж изменяет моей жене. И что я должна его пристыдить. Позвала я тогда свою жену и сказала: – Ну ладно, я его понимаю, он не ангел. Но скажи мне, жена, сколько ты должна заплатить за его измену? – Ну, это уже другой вопрос. Если бы ты знала, как я его люблю! – Ну что же, хорошо, я его понимаю. Но скажи мне, жена, сколько ты должна заплатить за его измену? – Ну, это уже другой вопрос. Если бы я знала, сколько ты должна заплатить за его измену, то сказала бы тебе сразу. Так выпьем же за женскую логику!\n",
            "Встретились два кавказца. Один другому говорит: – Я понимаю\n"
          ]
        }
      ]
    },
    {
      "cell_type": "code",
      "source": [
        "text = \"На следующий день\"\n",
        "input_ids = tokenizer.encode(text, return_tensors=\"pt\").to(DEVICE)\n",
        "with torch.no_grad():\n",
        "    out = model.generate(input_ids, do_sample=True, temperature=0.5, top_k=15, max_length=200)\n",
        "generated_text = list(map(tokenizer.decode, out))[0]\n",
        "print()\n",
        "print(generated_text)"
      ],
      "metadata": {
        "colab": {
          "base_uri": "https://localhost:8080/"
        },
        "id": "jJOSdHCTstgV",
        "outputId": "6a224d1f-05f8-4d37-873c-aef2f134b56b"
      },
      "execution_count": 188,
      "outputs": [
        {
          "output_type": "stream",
          "name": "stderr",
          "text": [
            "Setting `pad_token_id` to `eos_token_id`:50256 for open-end generation.\n"
          ]
        },
        {
          "output_type": "stream",
          "name": "stdout",
          "text": [
            "\n",
            "На следующий день после свадьбы муж приходит домой и говорит своей жене: – Я развожусь со своей женой. – Почему ты так говоришь? – Да так, просто жена у меня умница. А ты знаешь, что я умный? Так выпьем же за то, чтобы женщины не спорили из-за каких-нибудь пустяков!\n",
            "На Кавказе есть обычай: если жена изменяет мужу, она должна выйти замуж за своего соседа. Так вот, когда я женился, у меня не было ни единой ссоры, и у меня не было повода для ревности. Так выпьем же за то, чтобы женщины никогда не спорили из-за пустяков!\n",
            "Однажды в горных ущельях Кавказа шли двое: молодой и старый. Молодой шел впереди, а девушка шла позади. Когда они оказались в одной горной деревушке, старик сказал юноше: – Пойдем со мной, я покажу тебе твои ущелья. – Но у меня нет ни деревца, ни дороги, – испугался юноша. – Я стар, мне не по\n"
          ]
        }
      ]
    },
    {
      "cell_type": "markdown",
      "source": [
        "# Задание 2"
      ],
      "metadata": {
        "id": "MHzonXME8mSZ"
      }
    },
    {
      "cell_type": "markdown",
      "source": [
        "1) GPT-1 была описана в работе \"Improving Language Understanding\n",
        "by Generative Pre-Training\" (Radford, et al., 2018)\n",
        "\n",
        "GPT-2 -  в работе \"Language Models are Unsupervised Multitask Learners\" (Radford, et al., 2019)\n",
        "\n",
        "GPT-3 - в статье \"Language Models are Few-Shot Learners\" (Brown, et al., 2020)\n",
        "\n",
        "2) Обучающий корпус для GPT-3 состоял из 5 частей: Common Crawl, WebText2, 2 книжных корпуса и Википедия. Особенностью обучения являлось то, что более качественные части корпусов имели больший вес при обучении, и отрывки из них использовались чаще. Так, например, корпус Common Crawl имел вес 60%, WebText2 - 22%, все остальные - менее 10%. Таким образом создатели пытались улучшить общее качество модели."
      ],
      "metadata": {
        "id": "Xi4bcngD8oW3"
      }
    }
  ]
}