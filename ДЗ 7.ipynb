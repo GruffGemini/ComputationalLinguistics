{
 "cells": [
  {
   "cell_type": "markdown",
   "id": "fd3a1065",
   "metadata": {},
   "source": [
    "# Домашнее задание № 7"
   ]
  },
  {
   "cell_type": "markdown",
   "id": "8a182106",
   "metadata": {},
   "source": [
    "## Задание 1 Реализовать алгоритм Леска и проверить его на реальном датасете"
   ]
  },
  {
   "cell_type": "code",
   "execution_count": 24,
   "id": "54c6fa87",
   "metadata": {},
   "outputs": [],
   "source": [
    "from string import punctuation\n",
    "from nltk.corpus import wordnet as wn\n",
    "from tqdm.auto import tqdm"
   ]
  },
  {
   "cell_type": "code",
   "execution_count": 25,
   "id": "dbd5ddef",
   "metadata": {},
   "outputs": [],
   "source": [
    "def normalize(sentence: str) -> list:\n",
    "    return [word.lower() for word in sentence.split() if word not in punctuation]"
   ]
  },
  {
   "cell_type": "code",
   "execution_count": 26,
   "id": "fd59d8f8",
   "metadata": {},
   "outputs": [],
   "source": [
    "def lesk(word: str, sentence: str) -> int:\n",
    "    bestsense = 0\n",
    "    maxoverlap = 0\n",
    "    normalized_sent = normalize(sentence)\n",
    "    for i, syns in enumerate(wn.synsets(word)):\n",
    "        definition = normalize(syns.definition())\n",
    "        overlaps = sum(1 for word in definition if word in normalized_sent)\n",
    "        if overlaps > maxoverlap:\n",
    "            maxoverlap = overlaps\n",
    "            bestsense = i\n",
    "    return bestsense"
   ]
  },
  {
   "cell_type": "code",
   "execution_count": 27,
   "id": "91ad33f6",
   "metadata": {},
   "outputs": [],
   "source": [
    "def run_experiment():\n",
    "    corpus_wsd = []\n",
    "    corpus = open('corpus_wsd_50k.txt').read().split('\\n\\n')\n",
    "    for sent in corpus:\n",
    "        corpus_wsd.append([s.split('\\t') for s in sent.split('\\n')])\n",
    "    results = []\n",
    "    for item in tqdm(corpus_wsd):\n",
    "        try:\n",
    "            orig_sentence = ' '.join([i[2] for i in item])\n",
    "        except IndexError:\n",
    "            continue\n",
    "        for token in [i for i in item if i[0]]:\n",
    "            target_word = token[1]\n",
    "            ground_truth = wn.lemma_from_key(token[0]).synset()\n",
    "            lesk_prediction = wn.synsets(target_word)[lesk(target_word, orig_sentence)]\n",
    "            if ground_truth == lesk_prediction:\n",
    "                results.append(True)\n",
    "            else:\n",
    "                results.append(False)\n",
    "    print(f'Accuracy = {sum(1 for i in results if i) / len(results)}')"
   ]
  },
  {
   "cell_type": "code",
   "execution_count": 28,
   "id": "43bd6f1b",
   "metadata": {},
   "outputs": [
    {
     "data": {
      "application/vnd.jupyter.widget-view+json": {
       "model_id": "70d669625ef043148aba72d91986b319",
       "version_major": 2,
       "version_minor": 0
      },
      "text/plain": [
       "  0%|          | 0/49453 [00:00<?, ?it/s]"
      ]
     },
     "metadata": {},
     "output_type": "display_data"
    },
    {
     "name": "stdout",
     "output_type": "stream",
     "text": [
      "Accuracy = 0.3239424291305598\n"
     ]
    }
   ],
   "source": [
    "run_experiment()"
   ]
  },
  {
   "cell_type": "markdown",
   "id": "7f036d49",
   "metadata": {},
   "source": [
    "Результат не очень хороший. Можно попробовать внести коррективы: исключать из списка сравнений стоп-слова."
   ]
  },
  {
   "cell_type": "code",
   "execution_count": 29,
   "id": "db31dd24",
   "metadata": {},
   "outputs": [],
   "source": [
    "from nltk.corpus import stopwords\n",
    "stop_words = stopwords.words('english')\n",
    "def normalize(sentence: str) -> list:\n",
    "    return [word.lower() for word in sentence.split() if word not in punctuation and word not in stop_words]"
   ]
  },
  {
   "cell_type": "code",
   "execution_count": 30,
   "id": "aab7ddfb",
   "metadata": {},
   "outputs": [
    {
     "data": {
      "application/vnd.jupyter.widget-view+json": {
       "model_id": "5918db088a364be08089b9c19eed8c1b",
       "version_major": 2,
       "version_minor": 0
      },
      "text/plain": [
       "  0%|          | 0/49453 [00:00<?, ?it/s]"
      ]
     },
     "metadata": {},
     "output_type": "display_data"
    },
    {
     "name": "stdout",
     "output_type": "stream",
     "text": [
      "Accuracy = 0.4042298666599976\n"
     ]
    }
   ],
   "source": [
    "run_experiment()"
   ]
  },
  {
   "cell_type": "markdown",
   "id": "b7d230e6",
   "metadata": {},
   "source": [
    "Результат несколько улучшился. Теперь попробуем при сравнении учитывать только уникальные слова без учета повторений."
   ]
  },
  {
   "cell_type": "code",
   "execution_count": 31,
   "id": "fcb19894",
   "metadata": {},
   "outputs": [],
   "source": [
    "def normalize(sentence: str) -> list:\n",
    "    return {word.lower() for word in sentence.split() if word not in punctuation and word not in stop_words}"
   ]
  },
  {
   "cell_type": "code",
   "execution_count": 32,
   "id": "d93f37e8",
   "metadata": {},
   "outputs": [
    {
     "data": {
      "application/vnd.jupyter.widget-view+json": {
       "model_id": "90efbe15eb434ec48619b4b5828be534",
       "version_major": 2,
       "version_minor": 0
      },
      "text/plain": [
       "  0%|          | 0/49453 [00:00<?, ?it/s]"
      ]
     },
     "metadata": {},
     "output_type": "display_data"
    },
    {
     "name": "stdout",
     "output_type": "stream",
     "text": [
      "Accuracy = 0.40645984169261357\n"
     ]
    }
   ],
   "source": [
    "run_experiment()"
   ]
  },
  {
   "cell_type": "markdown",
   "id": "dea0cd7d",
   "metadata": {},
   "source": [
    "Улучшение незначительно, но тем не менее, это лучший показатель accuracy среди всех вариантов."
   ]
  }
 ],
 "metadata": {
  "kernelspec": {
   "display_name": "Python 3 (ipykernel)",
   "language": "python",
   "name": "python3"
  },
  "language_info": {
   "codemirror_mode": {
    "name": "ipython",
    "version": 3
   },
   "file_extension": ".py",
   "mimetype": "text/x-python",
   "name": "python",
   "nbconvert_exporter": "python",
   "pygments_lexer": "ipython3",
   "version": "3.9.6"
  }
 },
 "nbformat": 4,
 "nbformat_minor": 5
}
