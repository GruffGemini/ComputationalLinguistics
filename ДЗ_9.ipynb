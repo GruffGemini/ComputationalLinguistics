{
  "cells": [
    {
      "cell_type": "markdown",
      "metadata": {
        "id": "view-in-github",
        "colab_type": "text"
      },
      "source": [
        "<a href=\"https://colab.research.google.com/github/GruffGemini/ComputationalLinguistics/blob/main/%D0%94%D0%97_9.ipynb\" target=\"_parent\"><img src=\"https://colab.research.google.com/assets/colab-badge.svg\" alt=\"Open In Colab\"/></a>"
      ]
    },
    {
      "cell_type": "markdown",
      "metadata": {
        "id": "li3eEwn6fXGu"
      },
      "source": [
        "# Задание 1"
      ]
    },
    {
      "cell_type": "code",
      "execution_count": null,
      "metadata": {
        "colab": {
          "base_uri": "https://localhost:8080/"
        },
        "id": "e7J2zwy7OnAm",
        "outputId": "d7b0a854-6310-4b50-c1d6-cc41470bc533"
      },
      "outputs": [
        {
          "output_type": "stream",
          "name": "stdout",
          "text": [
            "Collecting transformers\n",
            "  Downloading transformers-4.18.0-py3-none-any.whl (4.0 MB)\n",
            "\u001b[K     |████████████████████████████████| 4.0 MB 4.4 MB/s \n",
            "\u001b[?25hRequirement already satisfied: tqdm>=4.27 in /usr/local/lib/python3.7/dist-packages (from transformers) (4.64.0)\n",
            "Requirement already satisfied: importlib-metadata in /usr/local/lib/python3.7/dist-packages (from transformers) (4.11.3)\n",
            "Requirement already satisfied: regex!=2019.12.17 in /usr/local/lib/python3.7/dist-packages (from transformers) (2019.12.20)\n",
            "Collecting huggingface-hub<1.0,>=0.1.0\n",
            "  Downloading huggingface_hub-0.5.1-py3-none-any.whl (77 kB)\n",
            "\u001b[K     |████████████████████████████████| 77 kB 5.6 MB/s \n",
            "\u001b[?25hCollecting tokenizers!=0.11.3,<0.13,>=0.11.1\n",
            "  Downloading tokenizers-0.12.1-cp37-cp37m-manylinux_2_12_x86_64.manylinux2010_x86_64.whl (6.6 MB)\n",
            "\u001b[K     |████████████████████████████████| 6.6 MB 33.5 MB/s \n",
            "\u001b[?25hCollecting pyyaml>=5.1\n",
            "  Downloading PyYAML-6.0-cp37-cp37m-manylinux_2_5_x86_64.manylinux1_x86_64.manylinux_2_12_x86_64.manylinux2010_x86_64.whl (596 kB)\n",
            "\u001b[K     |████████████████████████████████| 596 kB 32.5 MB/s \n",
            "\u001b[?25hRequirement already satisfied: filelock in /usr/local/lib/python3.7/dist-packages (from transformers) (3.6.0)\n",
            "Requirement already satisfied: numpy>=1.17 in /usr/local/lib/python3.7/dist-packages (from transformers) (1.21.6)\n",
            "Requirement already satisfied: packaging>=20.0 in /usr/local/lib/python3.7/dist-packages (from transformers) (21.3)\n",
            "Requirement already satisfied: requests in /usr/local/lib/python3.7/dist-packages (from transformers) (2.23.0)\n",
            "Collecting sacremoses\n",
            "  Downloading sacremoses-0.0.53.tar.gz (880 kB)\n",
            "\u001b[K     |████████████████████████████████| 880 kB 38.2 MB/s \n",
            "\u001b[?25hRequirement already satisfied: typing-extensions>=3.7.4.3 in /usr/local/lib/python3.7/dist-packages (from huggingface-hub<1.0,>=0.1.0->transformers) (4.2.0)\n",
            "Requirement already satisfied: pyparsing!=3.0.5,>=2.0.2 in /usr/local/lib/python3.7/dist-packages (from packaging>=20.0->transformers) (3.0.8)\n",
            "Requirement already satisfied: zipp>=0.5 in /usr/local/lib/python3.7/dist-packages (from importlib-metadata->transformers) (3.8.0)\n",
            "Requirement already satisfied: chardet<4,>=3.0.2 in /usr/local/lib/python3.7/dist-packages (from requests->transformers) (3.0.4)\n",
            "Requirement already satisfied: certifi>=2017.4.17 in /usr/local/lib/python3.7/dist-packages (from requests->transformers) (2021.10.8)\n",
            "Requirement already satisfied: idna<3,>=2.5 in /usr/local/lib/python3.7/dist-packages (from requests->transformers) (2.10)\n",
            "Requirement already satisfied: urllib3!=1.25.0,!=1.25.1,<1.26,>=1.21.1 in /usr/local/lib/python3.7/dist-packages (from requests->transformers) (1.24.3)\n",
            "Requirement already satisfied: six in /usr/local/lib/python3.7/dist-packages (from sacremoses->transformers) (1.15.0)\n",
            "Requirement already satisfied: click in /usr/local/lib/python3.7/dist-packages (from sacremoses->transformers) (7.1.2)\n",
            "Requirement already satisfied: joblib in /usr/local/lib/python3.7/dist-packages (from sacremoses->transformers) (1.1.0)\n",
            "Building wheels for collected packages: sacremoses\n",
            "  Building wheel for sacremoses (setup.py) ... \u001b[?25l\u001b[?25hdone\n",
            "  Created wheel for sacremoses: filename=sacremoses-0.0.53-py3-none-any.whl size=895260 sha256=758cb45549dc26f7306d32b9d3d56a7fd9e2e083ee83234bc017025a9b20ea51\n",
            "  Stored in directory: /root/.cache/pip/wheels/87/39/dd/a83eeef36d0bf98e7a4d1933a4ad2d660295a40613079bafc9\n",
            "Successfully built sacremoses\n",
            "Installing collected packages: pyyaml, tokenizers, sacremoses, huggingface-hub, transformers\n",
            "  Attempting uninstall: pyyaml\n",
            "    Found existing installation: PyYAML 3.13\n",
            "    Uninstalling PyYAML-3.13:\n",
            "      Successfully uninstalled PyYAML-3.13\n",
            "Successfully installed huggingface-hub-0.5.1 pyyaml-6.0 sacremoses-0.0.53 tokenizers-0.12.1 transformers-4.18.0\n"
          ]
        }
      ],
      "source": [
        "!pip install transformers"
      ]
    },
    {
      "cell_type": "code",
      "execution_count": null,
      "metadata": {
        "id": "ir5RxI6nLSVn"
      },
      "outputs": [],
      "source": [
        "import pandas as pd\n",
        "import tensorflow as tf\n",
        "\n",
        "from matplotlib import pyplot as plt\n",
        "from sklearn.model_selection import train_test_split\n",
        "from sklearn.linear_model import LogisticRegression\n",
        "from sklearn.metrics import classification_report\n",
        "from transformers import TFAutoModel\n",
        "from transformers import AutoTokenizer\n",
        "from tqdm.auto import tqdm"
      ]
    },
    {
      "cell_type": "code",
      "execution_count": null,
      "metadata": {
        "id": "Bmmxs-uY4R9m"
      },
      "outputs": [],
      "source": [
        "data = pd.read_csv('drive/MyDrive/CompLing FTLM/lenta_sample.csv')\n",
        "data.dropna(subset=['topic', 'text'], inplace=True)"
      ]
    },
    {
      "cell_type": "markdown",
      "metadata": {
        "id": "ObNiERcROUk_"
      },
      "source": [
        "# Baseline"
      ]
    },
    {
      "cell_type": "code",
      "execution_count": null,
      "metadata": {
        "colab": {
          "base_uri": "https://localhost:8080/",
          "height": 136,
          "referenced_widgets": [
            "2903aca3c23e41cea129fe92a8e5866b",
            "9f312c623c8c466abb7c89b51ec62186",
            "caeda1be7a2741a38dea17f4cb67b6a5",
            "632f4ee5edc148d6949a2b6be8404b12",
            "4b3b7d75ca4442f294c90f9b41b96e07",
            "1575f6b9d45a40b0b6627086225c2546",
            "6fba738baa744a9b9f057ab86d63f3ea",
            "30d393785d4548169f16cac16f395aa8",
            "c5a93366a76946879872cbe70ba6da67",
            "e57846cb1eb442498537f661c96dbe60",
            "411feacdc8934e94946f20a322d4e57a"
          ]
        },
        "id": "bVJk9zfLOXEf",
        "outputId": "5bcbb509-39b8-45c7-8da2-301dc8c7b797"
      },
      "outputs": [
        {
          "data": {
            "application/vnd.jupyter.widget-view+json": {
              "model_id": "2903aca3c23e41cea129fe92a8e5866b",
              "version_major": 2,
              "version_minor": 0
            },
            "text/plain": [
              "Downloading:   0%|          | 0.00/953M [00:00<?, ?B/s]"
            ]
          },
          "metadata": {},
          "output_type": "display_data"
        },
        {
          "name": "stderr",
          "output_type": "stream",
          "text": [
            "Some layers from the model checkpoint at bert-base-multilingual-uncased were not used when initializing TFBertModel: ['mlm___cls', 'nsp___cls']\n",
            "- This IS expected if you are initializing TFBertModel from the checkpoint of a model trained on another task or with another architecture (e.g. initializing a BertForSequenceClassification model from a BertForPreTraining model).\n",
            "- This IS NOT expected if you are initializing TFBertModel from the checkpoint of a model that you expect to be exactly identical (initializing a BertForSequenceClassification model from a BertForSequenceClassification model).\n",
            "All the layers of TFBertModel were initialized from the model checkpoint at bert-base-multilingual-uncased.\n",
            "If your task is similar to the task the model of the checkpoint was trained on, you can already use TFBertModel for predictions without further training.\n"
          ]
        }
      ],
      "source": [
        "tokenizer = AutoTokenizer.from_pretrained('bert-base-multilingual-uncased')\n",
        "model_baseline = TFAutoModel.from_pretrained('bert-base-multilingual-uncased')"
      ]
    },
    {
      "cell_type": "code",
      "execution_count": null,
      "metadata": {
        "colab": {
          "base_uri": "https://localhost:8080/",
          "height": 49,
          "referenced_widgets": [
            "b356ae2de0084274b232f786a7bb50d3",
            "c6d1aabc44dc4f09af37d24af6a31598",
            "7e690f5e2496492f8ce873ace34d5022",
            "49c3d203155748ed83aa2bcd0015fca6",
            "31b97d3c91874ec9bb4d42bfe4d3e074",
            "d0754690cf2543b8af08f93161d2f121",
            "151c327811424b599ada0e0f6e216932",
            "0aedd5d617ce46fcb150668d5a497782",
            "afa60b0dd9c6434b91b9d10c0dadccb5",
            "ebfb5ef48cf84edbb3dc9d463039f0a4",
            "6a0ee3859ea246cfb14014c4a7cb726c"
          ]
        },
        "id": "tF1144Whaugn",
        "outputId": "f0b23093-ca83-4aa9-a2df-773aca15912e"
      },
      "outputs": [
        {
          "data": {
            "application/vnd.jupyter.widget-view+json": {
              "model_id": "b356ae2de0084274b232f786a7bb50d3",
              "version_major": 2,
              "version_minor": 0
            },
            "text/plain": [
              "  0%|          | 0/607 [00:00<?, ?it/s]"
            ]
          },
          "metadata": {},
          "output_type": "display_data"
        }
      ],
      "source": [
        "X = []\n",
        "\n",
        "for text in tqdm(data.title):\n",
        "    ids = tf.constant([tokenizer.encode(text, add_special_tokens=True)])\n",
        "    output = model_baseline(ids, output_attentions=False)\n",
        "    X.append(tf.math.reduce_mean(output[0], axis=1)[0])"
      ]
    },
    {
      "cell_type": "code",
      "execution_count": null,
      "metadata": {
        "id": "xvKh-dYwfx68"
      },
      "outputs": [],
      "source": [
        "id2label = {i:label for i, label in enumerate(set(data.topic.values))}\n",
        "label2id = {l:i for i, l in id2label.items()}\n",
        "y = [label2id[label] for label in data.topic.values]"
      ]
    },
    {
      "cell_type": "code",
      "execution_count": null,
      "metadata": {
        "id": "LmzPbeAEbmte"
      },
      "outputs": [],
      "source": [
        "X_train, X_val, y_train, y_val = train_test_split(X, y, test_size=0.05, stratify=y, random_state=0)"
      ]
    },
    {
      "cell_type": "code",
      "execution_count": null,
      "metadata": {
        "colab": {
          "base_uri": "https://localhost:8080/"
        },
        "id": "cce6bagKgc8r",
        "outputId": "91fb30dd-0ed1-404c-8612-e93d0e0b5df1"
      },
      "outputs": [
        {
          "data": {
            "text/plain": [
              "LogisticRegression(max_iter=1000)"
            ]
          },
          "execution_count": 116,
          "metadata": {},
          "output_type": "execute_result"
        }
      ],
      "source": [
        "model = LogisticRegression(max_iter=1000)\n",
        "model.fit(X_train, y_train)"
      ]
    },
    {
      "cell_type": "code",
      "execution_count": null,
      "metadata": {
        "colab": {
          "base_uri": "https://localhost:8080/"
        },
        "id": "g5dOPc5xgnEk",
        "outputId": "effa4998-4b9a-468f-ba72-4f375b15d98a"
      },
      "outputs": [
        {
          "name": "stdout",
          "output_type": "stream",
          "text": [
            "                   precision    recall  f1-score   support\n",
            "\n",
            "           Бизнес       0.00      0.00      0.00         2\n",
            "            Спорт       0.00      0.00      0.00         2\n",
            "        Экономика       0.67      1.00      0.80         2\n",
            "   Интернет и СМИ       0.50      0.50      0.50         2\n",
            "              Мир       0.00      0.00      0.00         1\n",
            "       Библиотека       0.00      0.00      0.00         0\n",
            "              Дом       1.00      1.00      1.00         2\n",
            "Силовые структуры       0.50      1.00      0.67         2\n",
            "             Крым       0.00      0.00      0.00         0\n",
            "         Из жизни       0.50      0.67      0.57         3\n",
            "          Легпром       0.00      0.00      0.00         1\n",
            "   69-я параллель       0.00      0.00      0.00         1\n",
            "         Ценности       0.00      0.00      0.00         2\n",
            "           Россия       0.00      0.00      0.00         2\n",
            "  Наука и техника       0.75      1.00      0.86         3\n",
            "      Бывший СССР       0.40      0.67      0.50         3\n",
            "         Культура       0.67      0.67      0.67         3\n",
            "\n",
            "        micro avg       0.52      0.52      0.52        31\n",
            "        macro avg       0.29      0.38      0.33        31\n",
            "     weighted avg       0.40      0.52      0.44        31\n",
            "\n"
          ]
        }
      ],
      "source": [
        "preds = model.predict(X_val)\n",
        "print(classification_report(y_val, preds, labels=list(range(len(label2id))),\n",
        "                            target_names=list(label2id), zero_division=0))"
      ]
    },
    {
      "cell_type": "markdown",
      "metadata": {
        "id": "pmiJNoEOWKnc"
      },
      "source": [
        "F-мера для бейзлайна без дообучения - 0.44"
      ]
    },
    {
      "cell_type": "markdown",
      "metadata": {
        "id": "2s54OTTvhNB0"
      },
      "source": [
        "#Дообучение"
      ]
    },
    {
      "cell_type": "code",
      "execution_count": null,
      "metadata": {
        "id": "qZgX2FRDQ32g"
      },
      "outputs": [],
      "source": [
        "X = []\n",
        "\n",
        "for text in data.title:\n",
        "    ids = tokenizer.encode(text)\n",
        "    \n",
        "    X.append(ids[:512])\n",
        "  \n",
        "X = tf.keras.preprocessing.sequence.pad_sequences(X, padding='post', maxlen=512)\n",
        "\n",
        "id2label = {i:label for i, label in enumerate(set(data.topic.values))}\n",
        "label2id = {l:i for i, l in id2label.items()}\n",
        "\n",
        "y = tf.keras.utils.to_categorical([label2id[label] for label in data.topic.values])"
      ]
    },
    {
      "cell_type": "code",
      "execution_count": null,
      "metadata": {
        "id": "Zk7gzaNkQFJ5"
      },
      "outputs": [],
      "source": [
        "train_index, valid_index = train_test_split(list(range(len(X))), test_size=0.05, stratify=data.topic, random_state=0)\n",
        "X_train, y_train = X[train_index], y[train_index]\n",
        "X_valid, y_valid = X[valid_index], y[valid_index]"
      ]
    },
    {
      "cell_type": "code",
      "execution_count": null,
      "metadata": {
        "colab": {
          "base_uri": "https://localhost:8080/"
        },
        "id": "6s_vZqtoAeMQ",
        "outputId": "ffec475d-d74c-45b7-f743-615b76fe56f1"
      },
      "outputs": [
        {
          "name": "stderr",
          "output_type": "stream",
          "text": [
            "Some layers from the model checkpoint at bert-base-multilingual-uncased were not used when initializing TFBertModel: ['mlm___cls', 'nsp___cls']\n",
            "- This IS expected if you are initializing TFBertModel from the checkpoint of a model trained on another task or with another architecture (e.g. initializing a BertForSequenceClassification model from a BertForPreTraining model).\n",
            "- This IS NOT expected if you are initializing TFBertModel from the checkpoint of a model that you expect to be exactly identical (initializing a BertForSequenceClassification model from a BertForSequenceClassification model).\n",
            "All the layers of TFBertModel were initialized from the model checkpoint at bert-base-multilingual-uncased.\n",
            "If your task is similar to the task the model of the checkpoint was trained on, you can already use TFBertModel for predictions without further training.\n"
          ]
        }
      ],
      "source": [
        "tokenizer = AutoTokenizer.from_pretrained('bert-base-multilingual-uncased')\n",
        "model_bert_base_multi = TFAutoModel.from_pretrained('bert-base-multilingual-uncased', trainable=True)"
      ]
    },
    {
      "cell_type": "code",
      "execution_count": null,
      "metadata": {
        "id": "Ztjnew9QUAqq"
      },
      "outputs": [],
      "source": [
        "input_word_ids = tf.keras.layers.Input(shape=(512,), dtype=tf.int32,\n",
        "                                     name=\"input_ids\")\n",
        "\n",
        "output = model_bert_base_multi({\"input_ids\":input_word_ids})\n",
        "drop = tf.keras.layers.Dropout(0.3)(output[0][:, 0]) \n",
        "dense = tf.keras.layers.Dense(y.shape[1], activation='softmax')(drop)\n",
        "\n",
        "model_clf = tf.keras.Model(inputs=input_word_ids, outputs=dense)\n",
        "\n",
        "\n",
        "model_clf.compile(tf.optimizers.Adam(learning_rate=2e-6,\n",
        "                                    ), \n",
        "                  loss='categorical_crossentropy', \n",
        "                  metrics=['accuracy', \n",
        "                           tf.keras.metrics.RecallAtPrecision(0.80, name='rec_prec')])"
      ]
    },
    {
      "cell_type": "code",
      "execution_count": null,
      "metadata": {
        "colab": {
          "base_uri": "https://localhost:8080/",
          "height": 783
        },
        "id": "2Ew20kEHAv-1",
        "outputId": "492131b6-7fa7-438c-e727-89ceb7c60a14"
      },
      "outputs": [
        {
          "name": "stdout",
          "output_type": "stream",
          "text": [
            "Epoch 1/20\n",
            "WARNING:tensorflow:Gradients do not exist for variables ['tf_bert_model_2/bert/pooler/dense/kernel:0', 'tf_bert_model_2/bert/pooler/dense/bias:0'] when minimizing the loss. If you're using `model.compile()`, did you forget to provide a `loss`argument?\n",
            "WARNING:tensorflow:Gradients do not exist for variables ['tf_bert_model_2/bert/pooler/dense/kernel:0', 'tf_bert_model_2/bert/pooler/dense/bias:0'] when minimizing the loss. If you're using `model.compile()`, did you forget to provide a `loss`argument?\n",
            "288/288 [==============================] - 247s 779ms/step - loss: 2.8733 - accuracy: 0.0573 - rec_prec: 0.0000e+00 - val_loss: 2.7502 - val_accuracy: 0.0968 - val_rec_prec: 0.0000e+00\n",
            "Epoch 2/20\n",
            "288/288 [==============================] - 221s 767ms/step - loss: 2.7873 - accuracy: 0.0781 - rec_prec: 0.0000e+00 - val_loss: 2.7169 - val_accuracy: 0.0968 - val_rec_prec: 0.0000e+00\n",
            "Epoch 3/20\n",
            "288/288 [==============================] - 221s 767ms/step - loss: 2.7748 - accuracy: 0.0625 - rec_prec: 0.0000e+00 - val_loss: 2.7113 - val_accuracy: 0.0968 - val_rec_prec: 0.0000e+00\n",
            "Epoch 4/20\n",
            "288/288 [==============================] - 221s 767ms/step - loss: 2.7637 - accuracy: 0.0747 - rec_prec: 0.0000e+00 - val_loss: 2.7078 - val_accuracy: 0.0645 - val_rec_prec: 0.0000e+00\n",
            "Epoch 5/20\n",
            "288/288 [==============================] - 221s 767ms/step - loss: 2.7419 - accuracy: 0.0781 - rec_prec: 0.0000e+00 - val_loss: 2.6921 - val_accuracy: 0.0968 - val_rec_prec: 0.0000e+00\n",
            "Epoch 6/20\n",
            "288/288 [==============================] - 221s 767ms/step - loss: 2.7422 - accuracy: 0.0990 - rec_prec: 0.0000e+00 - val_loss: 2.6835 - val_accuracy: 0.0968 - val_rec_prec: 0.0000e+00\n",
            "Epoch 7/20\n",
            "288/288 [==============================] - 221s 767ms/step - loss: 2.7041 - accuracy: 0.1215 - rec_prec: 0.0000e+00 - val_loss: 2.5919 - val_accuracy: 0.2258 - val_rec_prec: 0.0000e+00\n",
            "Epoch 8/20\n",
            "288/288 [==============================] - 221s 767ms/step - loss: 2.5564 - accuracy: 0.1927 - rec_prec: 0.0000e+00 - val_loss: 2.3406 - val_accuracy: 0.3548 - val_rec_prec: 0.0000e+00\n",
            "Epoch 9/20\n",
            "288/288 [==============================] - 221s 767ms/step - loss: 2.2273 - accuracy: 0.3299 - rec_prec: 0.0347 - val_loss: 1.8396 - val_accuracy: 0.4194 - val_rec_prec: 0.1935\n",
            "Epoch 10/20\n",
            "288/288 [==============================] - 221s 767ms/step - loss: 1.7745 - accuracy: 0.4618 - rec_prec: 0.0347 - val_loss: 1.6325 - val_accuracy: 0.5484 - val_rec_prec: 0.3548\n",
            "Epoch 11/20\n",
            "288/288 [==============================] - 221s 767ms/step - loss: 1.4467 - accuracy: 0.5451 - rec_prec: 0.3385 - val_loss: 1.4277 - val_accuracy: 0.5484 - val_rec_prec: 0.4194\n",
            "Epoch 12/20\n",
            "288/288 [==============================] - 221s 767ms/step - loss: 1.1963 - accuracy: 0.6250 - rec_prec: 0.4531 - val_loss: 1.2765 - val_accuracy: 0.6452 - val_rec_prec: 0.5484\n",
            "Epoch 13/20\n",
            "288/288 [==============================] - 221s 766ms/step - loss: 0.9210 - accuracy: 0.6944 - rec_prec: 0.6233 - val_loss: 1.4033 - val_accuracy: 0.6129 - val_rec_prec: 0.3548\n",
            "Epoch 14/20\n",
            "288/288 [==============================] - 221s 767ms/step - loss: 0.8129 - accuracy: 0.7431 - rec_prec: 0.6927 - val_loss: 1.3503 - val_accuracy: 0.6452 - val_rec_prec: 0.3871\n",
            "Epoch 15/20\n",
            "288/288 [==============================] - 221s 767ms/step - loss: 0.7110 - accuracy: 0.7882 - rec_prec: 0.7726 - val_loss: 1.3850 - val_accuracy: 0.6129 - val_rec_prec: 0.4516\n",
            "Epoch 16/20\n",
            "288/288 [==============================] - 221s 768ms/step - loss: 0.6141 - accuracy: 0.7830 - rec_prec: 0.7760 - val_loss: 1.3569 - val_accuracy: 0.5484 - val_rec_prec: 0.3548\n",
            "Epoch 17/20\n",
            "288/288 [==============================] - 221s 769ms/step - loss: 0.4886 - accuracy: 0.8438 - rec_prec: 0.8958 - val_loss: 1.4851 - val_accuracy: 0.5806 - val_rec_prec: 0.4194\n",
            "Epoch 18/20\n",
            "288/288 [==============================] - 221s 769ms/step - loss: 0.3747 - accuracy: 0.9062 - rec_prec: 0.9514 - val_loss: 1.4898 - val_accuracy: 0.5484 - val_rec_prec: 0.4194\n",
            "Epoch 19/20\n",
            "288/288 [==============================] - 221s 769ms/step - loss: 0.3527 - accuracy: 0.9132 - rec_prec: 0.9635 - val_loss: 1.4568 - val_accuracy: 0.5806 - val_rec_prec: 0.3871\n",
            "Epoch 20/20\n",
            "288/288 [==============================] - 221s 768ms/step - loss: 0.2699 - accuracy: 0.9375 - rec_prec: 0.9757 - val_loss: 1.5721 - val_accuracy: 0.5806 - val_rec_prec: 0.4194\n"
          ]
        },
        {
          "data": {
            "text/plain": [
              "<keras.callbacks.History at 0x7f003949f790>"
            ]
          },
          "execution_count": 16,
          "metadata": {},
          "output_type": "execute_result"
        }
      ],
      "source": [
        "model_clf.fit(X_train, y_train, \n",
        "          validation_data=(X_valid, y_valid),\n",
        "          batch_size=2,\n",
        "         epochs=20)"
      ]
    },
    {
      "cell_type": "code",
      "execution_count": null,
      "metadata": {
        "colab": {
          "base_uri": "https://localhost:8080/",
          "height": 312
        },
        "id": "BPX4PG_4AyiN",
        "outputId": "8cf5c868-ef9b-4af0-ba8b-5f4a3b9102c5"
      },
      "outputs": [
        {
          "name": "stdout",
          "output_type": "stream",
          "text": [
            "dict_keys(['loss', 'accuracy', 'rec_prec', 'val_loss', 'val_accuracy', 'val_rec_prec'])\n"
          ]
        },
        {
          "data": {
            "image/png": "[encoded data removed]",
            "text/plain": [
              "<Figure size 432x288 with 1 Axes>"
            ]
          },
          "metadata": {},
          "output_type": "display_data"
        }
      ],
      "source": [
        "print(model_clf.history.history.keys())\n",
        "plt.plot(model_clf.history.history['accuracy'])\n",
        "plt.plot(model_clf.history.history['val_accuracy'])\n",
        "plt.title('model rec_prec')\n",
        "plt.ylabel('rec_prec')\n",
        "plt.xlabel('epoch')\n",
        "plt.legend(['train', 'val'], loc='upper left')\n",
        "plt.show()"
      ]
    },
    {
      "cell_type": "code",
      "execution_count": null,
      "metadata": {
        "colab": {
          "base_uri": "https://localhost:8080/"
        },
        "id": "maOsXtfiR6Mg",
        "outputId": "4a132f3d-78b4-430d-edc3-1064246f359b"
      },
      "outputs": [
        {
          "name": "stdout",
          "output_type": "stream",
          "text": [
            "                   precision    recall  f1-score   support\n",
            "\n",
            "  Наука и техника       1.00      0.67      0.80         3\n",
            "         Культура       1.00      0.67      0.80         3\n",
            "         Из жизни       0.50      0.33      0.40         3\n",
            "Силовые структуры       0.50      0.50      0.50         2\n",
            "          Легпром       0.00      0.00      0.00         1\n",
            "        Экономика       0.00      0.00      0.00         2\n",
            "             Крым       0.00      0.00      0.00         0\n",
            "           Россия       0.00      0.00      0.00         2\n",
            "         Ценности       0.50      0.50      0.50         2\n",
            "              Мир       0.25      1.00      0.40         1\n",
            "   Интернет и СМИ       0.50      0.50      0.50         2\n",
            "           Бизнес       0.40      1.00      0.57         2\n",
            "   69-я параллель       1.00      1.00      1.00         1\n",
            "       Библиотека       0.00      0.00      0.00         0\n",
            "              Дом       1.00      1.00      1.00         2\n",
            "      Бывший СССР       0.67      0.67      0.67         3\n",
            "            Спорт       1.00      1.00      1.00         2\n",
            "\n",
            "        micro avg       0.58      0.58      0.58        31\n",
            "        macro avg       0.49      0.52      0.48        31\n",
            "     weighted avg       0.60      0.58      0.57        31\n",
            "\n"
          ]
        }
      ],
      "source": [
        "pred = model_clf.predict(X_valid, batch_size=5).argmax(1)\n",
        "print(classification_report(y_valid.argmax(1), pred, labels=list(range(len(label2id))),\n",
        "                            target_names=list(label2id), zero_division=0))"
      ]
    },
    {
      "cell_type": "markdown",
      "metadata": {
        "id": "d1Lox-a8eaRv"
      },
      "source": [
        "F-мера для модели bert-base-multilingual-uncased - 0.57 (бейзлайн 0.44).\n",
        "Теперь сравним ее с русскоязычной моделью Distilbert от Geotrend. Это легковесная модель, и она должна обучиться быстрее."
      ]
    },
    {
      "cell_type": "code",
      "execution_count": null,
      "metadata": {
        "colab": {
          "base_uri": "https://localhost:8080/"
        },
        "id": "NH-bnD3qWPk7",
        "outputId": "a9c59558-a2c3-4278-decd-a4748510aa90"
      },
      "outputs": [
        {
          "name": "stderr",
          "output_type": "stream",
          "text": [
            "Some weights of the PyTorch model were not used when initializing the TF 2.0 model TFDistilBertModel: ['vocab_projector.weight', 'vocab_projector.bias', 'vocab_transform.bias', 'vocab_transform.weight', 'vocab_layer_norm.weight', 'vocab_layer_norm.bias']\n",
            "- This IS expected if you are initializing TFDistilBertModel from a PyTorch model trained on another task or with another architecture (e.g. initializing a TFBertForSequenceClassification model from a BertForPreTraining model).\n",
            "- This IS NOT expected if you are initializing TFDistilBertModel from a PyTorch model that you expect to be exactly identical (e.g. initializing a TFBertForSequenceClassification model from a BertForSequenceClassification model).\n",
            "All the weights of TFDistilBertModel were initialized from the PyTorch model.\n",
            "If your task is similar to the task the model of the checkpoint was trained on, you can already use TFDistilBertModel for predictions without further training.\n"
          ]
        }
      ],
      "source": [
        "tokenizer = AutoTokenizer.from_pretrained('Geotrend/distilbert-base-ru-cased')\n",
        "model_distilbert_ru = TFAutoModel.from_pretrained('Geotrend/distilbert-base-ru-cased', trainable=True, from_pt=True)"
      ]
    },
    {
      "cell_type": "code",
      "execution_count": null,
      "metadata": {
        "id": "pK1kw2frhcBI"
      },
      "outputs": [],
      "source": [
        "X = []\n",
        "\n",
        "for text in data.title:\n",
        "    ids = tokenizer.encode(text)\n",
        "    \n",
        "    X.append(ids[:512])\n",
        "  \n",
        "X = tf.keras.preprocessing.sequence.pad_sequences(X, padding='post', maxlen=512)\n",
        "\n",
        "id2label = {i:label for i, label in enumerate(set(data.topic.values))}\n",
        "label2id = {l:i for i, l in id2label.items()}\n",
        "\n",
        "y = tf.keras.utils.to_categorical([label2id[label] for label in data.topic.values])"
      ]
    },
    {
      "cell_type": "code",
      "execution_count": null,
      "metadata": {
        "id": "4dwb5m6PhkLt"
      },
      "outputs": [],
      "source": [
        "train_index, valid_index = train_test_split(list(range(len(X))), test_size=0.05, stratify=data.topic, random_state=0)\n",
        "X_train, y_train = X[train_index], y[train_index]\n",
        "X_valid, y_valid = X[valid_index], y[valid_index]"
      ]
    },
    {
      "cell_type": "code",
      "execution_count": null,
      "metadata": {
        "id": "IBjb8v7KgvQH"
      },
      "outputs": [],
      "source": [
        "input_word_ids = tf.keras.layers.Input(shape=(512,), dtype=tf.int32,\n",
        "                                     name=\"input_ids\")\n",
        "\n",
        "output = model_distilbert_ru({\"input_ids\":input_word_ids})\n",
        "drop = tf.keras.layers.Dropout(0.3)(output[0][:, 0]) \n",
        "dense = tf.keras.layers.Dense(y.shape[1], activation='softmax')(drop)\n",
        "\n",
        "model_clf = tf.keras.Model(inputs=input_word_ids, outputs=dense)\n",
        "\n",
        "\n",
        "model_clf.compile(tf.optimizers.Adam(learning_rate=2e-6,\n",
        "                                    ), \n",
        "                  loss='categorical_crossentropy', \n",
        "                  metrics=['accuracy', \n",
        "                           tf.keras.metrics.RecallAtPrecision(0.80, name='rec_prec')])"
      ]
    },
    {
      "cell_type": "code",
      "execution_count": null,
      "metadata": {
        "colab": {
          "base_uri": "https://localhost:8080/"
        },
        "id": "8geJUSTEg1Yu",
        "outputId": "19657f16-5b09-4f24-a62b-f03a0b5055d7"
      },
      "outputs": [
        {
          "name": "stdout",
          "output_type": "stream",
          "text": [
            "Epoch 1/20\n",
            "288/288 [==============================] - 84s 270ms/step - loss: 2.8281 - accuracy: 0.0556 - rec_prec: 0.0000e+00 - val_loss: 2.7272 - val_accuracy: 0.0968 - val_rec_prec: 0.0000e+00\n",
            "Epoch 2/20\n",
            "288/288 [==============================] - 76s 265ms/step - loss: 2.7834 - accuracy: 0.0764 - rec_prec: 0.0000e+00 - val_loss: 2.7068 - val_accuracy: 0.0968 - val_rec_prec: 0.0000e+00\n",
            "Epoch 3/20\n",
            "288/288 [==============================] - 76s 265ms/step - loss: 2.7611 - accuracy: 0.0885 - rec_prec: 0.0000e+00 - val_loss: 2.6814 - val_accuracy: 0.1290 - val_rec_prec: 0.0000e+00\n",
            "Epoch 4/20\n",
            "288/288 [==============================] - 76s 265ms/step - loss: 2.7553 - accuracy: 0.0608 - rec_prec: 0.0000e+00 - val_loss: 2.6678 - val_accuracy: 0.0968 - val_rec_prec: 0.0323\n",
            "Epoch 5/20\n",
            "288/288 [==============================] - 76s 264ms/step - loss: 2.7018 - accuracy: 0.1094 - rec_prec: 0.0000e+00 - val_loss: 2.6286 - val_accuracy: 0.1935 - val_rec_prec: 0.0000e+00\n",
            "Epoch 6/20\n",
            "288/288 [==============================] - 76s 265ms/step - loss: 2.5731 - accuracy: 0.1562 - rec_prec: 0.0052 - val_loss: 2.3923 - val_accuracy: 0.3226 - val_rec_prec: 0.0968\n",
            "Epoch 7/20\n",
            "288/288 [==============================] - 76s 264ms/step - loss: 2.2998 - accuracy: 0.2899 - rec_prec: 0.0278 - val_loss: 2.0222 - val_accuracy: 0.4839 - val_rec_prec: 0.2258\n",
            "Epoch 8/20\n",
            "288/288 [==============================] - 76s 265ms/step - loss: 1.9411 - accuracy: 0.4010 - rec_prec: 0.0833 - val_loss: 1.8703 - val_accuracy: 0.4194 - val_rec_prec: 0.1613\n",
            "Epoch 9/20\n",
            "288/288 [==============================] - 76s 264ms/step - loss: 1.6936 - accuracy: 0.4479 - rec_prec: 0.1962 - val_loss: 1.6889 - val_accuracy: 0.4194 - val_rec_prec: 0.2581\n",
            "Epoch 10/20\n",
            "288/288 [==============================] - 76s 264ms/step - loss: 1.4532 - accuracy: 0.5590 - rec_prec: 0.3177 - val_loss: 1.6650 - val_accuracy: 0.5161 - val_rec_prec: 0.1613\n",
            "Epoch 11/20\n",
            "288/288 [==============================] - 76s 265ms/step - loss: 1.2886 - accuracy: 0.5851 - rec_prec: 0.3715 - val_loss: 1.6638 - val_accuracy: 0.4839 - val_rec_prec: 0.1935\n",
            "Epoch 12/20\n",
            "288/288 [==============================] - 76s 264ms/step - loss: 1.0901 - accuracy: 0.6771 - rec_prec: 0.5451 - val_loss: 1.6105 - val_accuracy: 0.4516 - val_rec_prec: 0.2581\n",
            "Epoch 13/20\n",
            "288/288 [==============================] - 76s 265ms/step - loss: 0.9593 - accuracy: 0.7118 - rec_prec: 0.6319 - val_loss: 1.6789 - val_accuracy: 0.5161 - val_rec_prec: 0.1613\n",
            "Epoch 14/20\n",
            "288/288 [==============================] - 76s 264ms/step - loss: 0.8483 - accuracy: 0.7274 - rec_prec: 0.6493 - val_loss: 1.6502 - val_accuracy: 0.4839 - val_rec_prec: 0.1613\n",
            "Epoch 15/20\n",
            "288/288 [==============================] - 76s 265ms/step - loss: 0.7156 - accuracy: 0.7847 - rec_prec: 0.7986 - val_loss: 1.6695 - val_accuracy: 0.4194 - val_rec_prec: 0.1935\n",
            "Epoch 16/20\n",
            "288/288 [==============================] - 76s 264ms/step - loss: 0.6767 - accuracy: 0.7969 - rec_prec: 0.8038 - val_loss: 1.6872 - val_accuracy: 0.4516 - val_rec_prec: 0.2581\n",
            "Epoch 17/20\n",
            "288/288 [==============================] - 76s 264ms/step - loss: 0.5351 - accuracy: 0.8542 - rec_prec: 0.8906 - val_loss: 1.6968 - val_accuracy: 0.4516 - val_rec_prec: 0.2581\n",
            "Epoch 18/20\n",
            "288/288 [==============================] - 76s 264ms/step - loss: 0.4826 - accuracy: 0.8715 - rec_prec: 0.9097 - val_loss: 1.8046 - val_accuracy: 0.5161 - val_rec_prec: 0.2903\n",
            "Epoch 19/20\n",
            "288/288 [==============================] - 76s 264ms/step - loss: 0.4178 - accuracy: 0.8872 - rec_prec: 0.9375 - val_loss: 1.7255 - val_accuracy: 0.4839 - val_rec_prec: 0.2581\n",
            "Epoch 20/20\n",
            "288/288 [==============================] - 76s 264ms/step - loss: 0.3570 - accuracy: 0.9236 - rec_prec: 0.9653 - val_loss: 1.8437 - val_accuracy: 0.4516 - val_rec_prec: 0.3226\n"
          ]
        },
        {
          "data": {
            "text/plain": [
              "<keras.callbacks.History at 0x7f79584a8390>"
            ]
          },
          "execution_count": 26,
          "metadata": {},
          "output_type": "execute_result"
        }
      ],
      "source": [
        "model_clf.fit(X_train, y_train, \n",
        "          validation_data=(X_valid, y_valid),\n",
        "          batch_size=2,\n",
        "         epochs=20)"
      ]
    },
    {
      "cell_type": "code",
      "execution_count": null,
      "metadata": {
        "colab": {
          "base_uri": "https://localhost:8080/",
          "height": 312
        },
        "id": "azm3x_KD5MMW",
        "outputId": "5b9dc3b4-8593-42ed-c8c6-690dc22dca7b"
      },
      "outputs": [
        {
          "name": "stdout",
          "output_type": "stream",
          "text": [
            "dict_keys(['loss', 'accuracy', 'rec_prec', 'val_loss', 'val_accuracy', 'val_rec_prec'])\n"
          ]
        },
        {
          "data": {
            "image/png": "[encoded data removed]",
            "text/plain": [
              "<Figure size 432x288 with 1 Axes>"
            ]
          },
          "metadata": {},
          "output_type": "display_data"
        }
      ],
      "source": [
        "print(model_clf.history.history.keys())\n",
        "plt.plot(model_clf.history.history['accuracy'])\n",
        "plt.plot(model_clf.history.history['val_accuracy'])\n",
        "plt.title('model rec_prec')\n",
        "plt.ylabel('rec_prec')\n",
        "plt.xlabel('epoch')\n",
        "plt.legend(['train', 'val'], loc='upper left')\n",
        "plt.show()"
      ]
    },
    {
      "cell_type": "code",
      "execution_count": null,
      "metadata": {
        "colab": {
          "base_uri": "https://localhost:8080/"
        },
        "id": "vOzWnnihwNM_",
        "outputId": "c6b9dd1b-0093-4ad1-8147-c9ea0785c5b3"
      },
      "outputs": [
        {
          "name": "stdout",
          "output_type": "stream",
          "text": [
            "                   precision    recall  f1-score   support\n",
            "\n",
            "         Ценности       0.33      0.50      0.40         2\n",
            "         Культура       0.67      0.67      0.67         3\n",
            "   Интернет и СМИ       0.00      0.00      0.00         2\n",
            "Силовые структуры       0.33      0.50      0.40         2\n",
            "  Наука и техника       0.67      0.67      0.67         3\n",
            "           Россия       0.00      0.00      0.00         2\n",
            "              Дом       0.50      1.00      0.67         2\n",
            "          Легпром       0.00      0.00      0.00         1\n",
            "        Экономика       1.00      1.00      1.00         2\n",
            "       Библиотека       0.00      0.00      0.00         0\n",
            "   69-я параллель       0.00      0.00      0.00         1\n",
            "      Бывший СССР       0.50      0.67      0.57         3\n",
            "             Крым       0.00      0.00      0.00         0\n",
            "           Бизнес       0.50      1.00      0.67         2\n",
            "              Мир       0.00      0.00      0.00         1\n",
            "         Из жизни       0.00      0.00      0.00         3\n",
            "            Спорт       1.00      1.00      1.00         2\n",
            "\n",
            "        micro avg       0.52      0.52      0.52        31\n",
            "        macro avg       0.32      0.41      0.36        31\n",
            "     weighted avg       0.41      0.52      0.45        31\n",
            "\n"
          ]
        }
      ],
      "source": [
        "pred = model_clf.predict(X_valid, batch_size=5).argmax(1)\n",
        "print(classification_report(y_valid.argmax(1), pred, labels=list(range(len(label2id))),\n",
        "                            target_names=list(label2id), zero_division=0))"
      ]
    },
    {
      "cell_type": "markdown",
      "metadata": {
        "id": "3Zfz3xkIMqa6"
      },
      "source": [
        "Результат лишь немного превосходит бейзлайн и сильно уступает мультиязычному Берту. Попробуем теперь мультиязычную cased модель, снизив при этом dropout"
      ]
    },
    {
      "cell_type": "code",
      "execution_count": null,
      "metadata": {
        "colab": {
          "base_uri": "https://localhost:8080/",
          "height": 284,
          "referenced_widgets": [
            "cc06d53409cb461cbe176c0a4a36eeaf",
            "fddb88b454fb496d93ff3571dc2b9ec8",
            "d82d5eeb0b7f45efa5b569901f1103b9",
            "f3ca6653ca914ff0a0e1363c317401f7",
            "da0afa168b8f4758b430aa90f7e98546",
            "a36ace120c0743ea80187ccdc26237e4",
            "7066c70cfd3b443992c99d8eac593e6e",
            "b8b83a9c07b045babc69c085ce80ee83",
            "02e2f8908a2b4d54985c07dacd253288",
            "5adc45b21fc343128b73d02d697ff5df",
            "510defd8fea848d2ace8da829171f26a",
            "75fae1ddfcfe40ab9f96046691f9c8f5",
            "0bb5b9ce085d45ffa484876d41502460",
            "46bda2f712744796bc54e4063ad346a0",
            "3a54f90a8b3c471c81ccc68ebe4102db",
            "1cc9e6a2ddc34a3b90f760fe372c6abf",
            "5fbcba29f791417a9648ae1c3eca4305",
            "ef5ecdd13b344682b12b401da7da3658",
            "f8cec60ff993419aa6a0fe3552806b74",
            "49a0c08f791349d98db1a23ee6bf50f7",
            "51b1ab3ec7a1423ea2c76093bdcb85dd",
            "c4f281c958954cd7874ba0edeb764174",
            "162eaec46561454bb117c8882cc706c1",
            "42ac6e1129da492db2b5176bf230db8a",
            "66e5117e5f10480ead1013e044c4c85a",
            "f34a5f600dae40308ff8f0d654d69519",
            "8d438c7e32364ff496aa677ee428ecc1",
            "8987e9810cd941bb9bb32614f9979679",
            "ed45ddac4da1454e89a3ce6fc4c2ea7d",
            "4d4f33e22b654042a2b6fb6437874ead",
            "8e23e6131aa94029ae041c867c68866d",
            "c512421d3ef7443dbae2571a753b8be0",
            "559a61f466f142749911f0a091afe5fa",
            "873f4e9be29248a2a74049b8cd82e57c",
            "2e0838a26266438d94158ea5f956d673",
            "5f5f6a0e826546d7a1827f7f6542e934",
            "d7e962fa2d6745ed8fe78322cdd00f81",
            "56ded65d238b4dac8f3d845637504fb4",
            "a35626b4853248769607d88b10cdc313",
            "b807cc731a504b89b113c24d99f85fd4",
            "801fe580c061467bb6e852ff98ea0064",
            "e3d9ab3ca04747db846a9d230cf83473",
            "469e3dc73df34587a26459fc7d37b35f",
            "35423129a168412797a998f44e7605c7",
            "8a0ca5af057742558d604b1b53565ade",
            "a39b15be744a4a2082a5ae0201d9c49b",
            "2848e3fcc3314f8488b52a376a8ec130",
            "8587cecade164e588d1ac0693fce7431",
            "0e511de13326421ca8b819f7e16734cf",
            "742d37feda3c436182f9bab1199d4f5d",
            "672ae5b0930d4ad4a4ee2bf5a66d0752",
            "afaed9d4ec9f47fa9057e9b88d040d92",
            "9d2cbac1143a441b9d881771a5e36267",
            "04f31ca3741b4ac5b28bc1fee84c212b",
            "f707123e3d0e4c829ad9ec1791768356"
          ]
        },
        "id": "-V5chzr9MxR4",
        "outputId": "4d197274-0b93-41f2-de3a-4aa6d7620b8a"
      },
      "outputs": [
        {
          "output_type": "display_data",
          "data": {
            "text/plain": [
              "Downloading:   0%|          | 0.00/29.0 [00:00<?, ?B/s]"
            ],
            "application/vnd.jupyter.widget-view+json": {
              "version_major": 2,
              "version_minor": 0,
              "model_id": "cc06d53409cb461cbe176c0a4a36eeaf"
            }
          },
          "metadata": {}
        },
        {
          "output_type": "display_data",
          "data": {
            "text/plain": [
              "Downloading:   0%|          | 0.00/625 [00:00<?, ?B/s]"
            ],
            "application/vnd.jupyter.widget-view+json": {
              "version_major": 2,
              "version_minor": 0,
              "model_id": "75fae1ddfcfe40ab9f96046691f9c8f5"
            }
          },
          "metadata": {}
        },
        {
          "output_type": "display_data",
          "data": {
            "text/plain": [
              "Downloading:   0%|          | 0.00/972k [00:00<?, ?B/s]"
            ],
            "application/vnd.jupyter.widget-view+json": {
              "version_major": 2,
              "version_minor": 0,
              "model_id": "162eaec46561454bb117c8882cc706c1"
            }
          },
          "metadata": {}
        },
        {
          "output_type": "display_data",
          "data": {
            "text/plain": [
              "Downloading:   0%|          | 0.00/1.87M [00:00<?, ?B/s]"
            ],
            "application/vnd.jupyter.widget-view+json": {
              "version_major": 2,
              "version_minor": 0,
              "model_id": "873f4e9be29248a2a74049b8cd82e57c"
            }
          },
          "metadata": {}
        },
        {
          "output_type": "display_data",
          "data": {
            "text/plain": [
              "Downloading:   0%|          | 0.00/681M [00:00<?, ?B/s]"
            ],
            "application/vnd.jupyter.widget-view+json": {
              "version_major": 2,
              "version_minor": 0,
              "model_id": "8a0ca5af057742558d604b1b53565ade"
            }
          },
          "metadata": {}
        },
        {
          "output_type": "stream",
          "name": "stderr",
          "text": [
            "Some weights of the PyTorch model were not used when initializing the TF 2.0 model TFBertModel: ['cls.predictions.bias', 'cls.seq_relationship.weight', 'cls.predictions.transform.dense.bias', 'cls.predictions.transform.dense.weight', 'cls.predictions.transform.LayerNorm.bias', 'cls.seq_relationship.bias', 'cls.predictions.decoder.weight', 'cls.predictions.transform.LayerNorm.weight']\n",
            "- This IS expected if you are initializing TFBertModel from a PyTorch model trained on another task or with another architecture (e.g. initializing a TFBertForSequenceClassification model from a BertForPreTraining model).\n",
            "- This IS NOT expected if you are initializing TFBertModel from a PyTorch model that you expect to be exactly identical (e.g. initializing a TFBertForSequenceClassification model from a BertForSequenceClassification model).\n",
            "All the weights of TFBertModel were initialized from the PyTorch model.\n",
            "If your task is similar to the task the model of the checkpoint was trained on, you can already use TFBertModel for predictions without further training.\n"
          ]
        }
      ],
      "source": [
        "tokenizer = AutoTokenizer.from_pretrained('bert-base-multilingual-cased')\n",
        "model_cased = TFAutoModel.from_pretrained('bert-base-multilingual-cased', trainable=True, from_pt=True)"
      ]
    },
    {
      "cell_type": "code",
      "execution_count": null,
      "metadata": {
        "id": "Qt0fEGuKOPiJ"
      },
      "outputs": [],
      "source": [
        "X = []\n",
        "\n",
        "for text in data.title:\n",
        "    ids = tokenizer.encode(text)\n",
        "    \n",
        "    X.append(ids[:512])\n",
        "  \n",
        "X = tf.keras.preprocessing.sequence.pad_sequences(X, padding='post', maxlen=512)\n",
        "\n",
        "id2label = {i:label for i, label in enumerate(set(data.topic.values))}\n",
        "label2id = {l:i for i, l in id2label.items()}\n",
        "\n",
        "y = tf.keras.utils.to_categorical([label2id[label] for label in data.topic.values])"
      ]
    },
    {
      "cell_type": "code",
      "execution_count": null,
      "metadata": {
        "id": "Tol3UbsOOTNW"
      },
      "outputs": [],
      "source": [
        "train_index, valid_index = train_test_split(list(range(len(X))), test_size=0.05, stratify=data.topic, random_state=0)\n",
        "X_train, y_train = X[train_index], y[train_index]\n",
        "X_valid, y_valid = X[valid_index], y[valid_index]"
      ]
    },
    {
      "cell_type": "code",
      "execution_count": null,
      "metadata": {
        "id": "3jqgrZ2tOV6q"
      },
      "outputs": [],
      "source": [
        "input_word_ids = tf.keras.layers.Input(shape=(512,), dtype=tf.int32,\n",
        "                                     name=\"input_ids\")\n",
        "\n",
        "output = model_cased({\"input_ids\":input_word_ids})\n",
        "drop = tf.keras.layers.Dropout(0.2)(output[0][:, 0]) \n",
        "dense = tf.keras.layers.Dense(y.shape[1], activation='softmax')(drop)\n",
        "\n",
        "model_clf = tf.keras.Model(inputs=input_word_ids, outputs=dense)\n",
        "\n",
        "\n",
        "model_clf.compile(tf.optimizers.Adam(learning_rate=2e-6,\n",
        "                                    ), \n",
        "                  loss='categorical_crossentropy', \n",
        "                  metrics=['accuracy', \n",
        "                           tf.keras.metrics.RecallAtPrecision(0.80, name='rec_prec')])"
      ]
    },
    {
      "cell_type": "code",
      "execution_count": null,
      "metadata": {
        "colab": {
          "base_uri": "https://localhost:8080/"
        },
        "id": "2sp26CkNOa1W",
        "outputId": "9f4d282f-7dfe-4d8a-8ff6-1e6db3c52652"
      },
      "outputs": [
        {
          "output_type": "stream",
          "name": "stdout",
          "text": [
            "Epoch 1/20\n",
            "WARNING:tensorflow:Gradients do not exist for variables ['tf_bert_model/bert/pooler/dense/kernel:0', 'tf_bert_model/bert/pooler/dense/bias:0'] when minimizing the loss. If you're using `model.compile()`, did you forget to provide a `loss`argument?\n",
            "WARNING:tensorflow:Gradients do not exist for variables ['tf_bert_model/bert/pooler/dense/kernel:0', 'tf_bert_model/bert/pooler/dense/bias:0'] when minimizing the loss. If you're using `model.compile()`, did you forget to provide a `loss`argument?\n",
            "288/288 [==============================] - 190s 612ms/step - loss: 2.8782 - accuracy: 0.0816 - rec_prec: 0.0000e+00 - val_loss: 2.7341 - val_accuracy: 0.0968 - val_rec_prec: 0.0000e+00\n",
            "Epoch 2/20\n",
            "288/288 [==============================] - 171s 594ms/step - loss: 2.7884 - accuracy: 0.1007 - rec_prec: 0.0017 - val_loss: 2.7333 - val_accuracy: 0.0968 - val_rec_prec: 0.0000e+00\n",
            "Epoch 3/20\n",
            "288/288 [==============================] - 171s 595ms/step - loss: 2.7903 - accuracy: 0.0747 - rec_prec: 0.0000e+00 - val_loss: 2.7023 - val_accuracy: 0.0968 - val_rec_prec: 0.0000e+00\n",
            "Epoch 4/20\n",
            "288/288 [==============================] - 173s 602ms/step - loss: 2.7816 - accuracy: 0.0764 - rec_prec: 0.0000e+00 - val_loss: 2.6610 - val_accuracy: 0.1290 - val_rec_prec: 0.0000e+00\n",
            "Epoch 5/20\n",
            "288/288 [==============================] - 173s 602ms/step - loss: 2.7447 - accuracy: 0.0990 - rec_prec: 0.0000e+00 - val_loss: 2.5042 - val_accuracy: 0.2581 - val_rec_prec: 0.0000e+00\n",
            "Epoch 6/20\n",
            "288/288 [==============================] - 173s 602ms/step - loss: 2.5754 - accuracy: 0.1892 - rec_prec: 0.0069 - val_loss: 2.2345 - val_accuracy: 0.4194 - val_rec_prec: 0.1613\n",
            "Epoch 7/20\n",
            "288/288 [==============================] - 173s 601ms/step - loss: 2.2866 - accuracy: 0.2969 - rec_prec: 0.0365 - val_loss: 1.8401 - val_accuracy: 0.4839 - val_rec_prec: 0.1290\n",
            "Epoch 8/20\n",
            "288/288 [==============================] - 173s 601ms/step - loss: 2.0146 - accuracy: 0.4045 - rec_prec: 0.0260 - val_loss: 1.4526 - val_accuracy: 0.6129 - val_rec_prec: 0.4839\n",
            "Epoch 9/20\n",
            "288/288 [==============================] - 172s 599ms/step - loss: 1.7769 - accuracy: 0.4583 - rec_prec: 0.1389 - val_loss: 1.3686 - val_accuracy: 0.6774 - val_rec_prec: 0.3548\n",
            "Epoch 10/20\n",
            "288/288 [==============================] - 173s 600ms/step - loss: 1.4355 - accuracy: 0.5747 - rec_prec: 0.3837 - val_loss: 1.2806 - val_accuracy: 0.5806 - val_rec_prec: 0.5161\n",
            "Epoch 11/20\n",
            "288/288 [==============================] - 173s 601ms/step - loss: 1.2405 - accuracy: 0.6181 - rec_prec: 0.4427 - val_loss: 1.3229 - val_accuracy: 0.5484 - val_rec_prec: 0.4194\n",
            "Epoch 12/20\n",
            "288/288 [==============================] - 173s 600ms/step - loss: 1.1317 - accuracy: 0.6545 - rec_prec: 0.5451 - val_loss: 1.0945 - val_accuracy: 0.6129 - val_rec_prec: 0.5161\n",
            "Epoch 13/20\n",
            "288/288 [==============================] - 173s 600ms/step - loss: 0.9466 - accuracy: 0.7031 - rec_prec: 0.6302 - val_loss: 1.1950 - val_accuracy: 0.5484 - val_rec_prec: 0.4194\n",
            "Epoch 14/20\n",
            "288/288 [==============================] - 173s 601ms/step - loss: 0.8238 - accuracy: 0.7535 - rec_prec: 0.7257 - val_loss: 1.2962 - val_accuracy: 0.5806 - val_rec_prec: 0.5484\n",
            "Epoch 15/20\n",
            "288/288 [==============================] - 173s 601ms/step - loss: 0.7022 - accuracy: 0.8003 - rec_prec: 0.7986 - val_loss: 1.2846 - val_accuracy: 0.5161 - val_rec_prec: 0.4516\n",
            "Epoch 16/20\n",
            "288/288 [==============================] - 173s 600ms/step - loss: 0.5650 - accuracy: 0.8403 - rec_prec: 0.8733 - val_loss: 1.3083 - val_accuracy: 0.6129 - val_rec_prec: 0.5484\n",
            "Epoch 17/20\n",
            "288/288 [==============================] - 173s 600ms/step - loss: 0.4649 - accuracy: 0.8750 - rec_prec: 0.9184 - val_loss: 1.3315 - val_accuracy: 0.5806 - val_rec_prec: 0.5484\n",
            "Epoch 18/20\n",
            "288/288 [==============================] - 173s 600ms/step - loss: 0.4400 - accuracy: 0.8906 - rec_prec: 0.9253 - val_loss: 1.4076 - val_accuracy: 0.5806 - val_rec_prec: 0.3871\n",
            "Epoch 19/20\n",
            "288/288 [==============================] - 173s 602ms/step - loss: 0.3624 - accuracy: 0.9080 - rec_prec: 0.9566 - val_loss: 1.3571 - val_accuracy: 0.6129 - val_rec_prec: 0.5484\n",
            "Epoch 20/20\n",
            "288/288 [==============================] - 173s 601ms/step - loss: 0.2546 - accuracy: 0.9479 - rec_prec: 0.9844 - val_loss: 1.4044 - val_accuracy: 0.6129 - val_rec_prec: 0.5484\n"
          ]
        },
        {
          "output_type": "execute_result",
          "data": {
            "text/plain": [
              "<keras.callbacks.History at 0x7f3abe925810>"
            ]
          },
          "metadata": {},
          "execution_count": 8
        }
      ],
      "source": [
        "model_clf.fit(X_train, y_train, \n",
        "          validation_data=(X_valid, y_valid),\n",
        "          batch_size=2,\n",
        "         epochs=20)"
      ]
    },
    {
      "cell_type": "code",
      "execution_count": null,
      "metadata": {
        "id": "ld2KY2mUOduQ",
        "colab": {
          "base_uri": "https://localhost:8080/",
          "height": 312
        },
        "outputId": "84818416-5b78-45cd-8634-580f1bb2575a"
      },
      "outputs": [
        {
          "output_type": "stream",
          "name": "stdout",
          "text": [
            "dict_keys(['loss', 'accuracy', 'rec_prec', 'val_loss', 'val_accuracy', 'val_rec_prec'])\n"
          ]
        },
        {
          "output_type": "display_data",
          "data": {
            "text/plain": [
              "<Figure size 432x288 with 1 Axes>"
            ],
            "image/png": "[encoded data removed]"
          },
          "metadata": {
            "needs_background": "light"
          }
        }
      ],
      "source": [
        "print(model_clf.history.history.keys())\n",
        "plt.plot(model_clf.history.history['accuracy'])\n",
        "plt.plot(model_clf.history.history['val_accuracy'])\n",
        "plt.title('model rec_prec')\n",
        "plt.ylabel('rec_prec')\n",
        "plt.xlabel('epoch')\n",
        "plt.legend(['train', 'val'], loc='upper left')\n",
        "plt.show()"
      ]
    },
    {
      "cell_type": "code",
      "execution_count": null,
      "metadata": {
        "id": "o7_5WrsgOfdN",
        "colab": {
          "base_uri": "https://localhost:8080/"
        },
        "outputId": "b81cf54a-e22b-4693-f720-17a950572aa3"
      },
      "outputs": [
        {
          "output_type": "stream",
          "name": "stdout",
          "text": [
            "                   precision    recall  f1-score   support\n",
            "\n",
            "        Экономика       1.00      0.50      0.67         2\n",
            "              Дом       0.67      1.00      0.80         2\n",
            "           Бизнес       0.50      1.00      0.67         2\n",
            "             Крым       0.00      0.00      0.00         0\n",
            "         Из жизни       1.00      0.33      0.50         3\n",
            "           Россия       0.00      0.00      0.00         2\n",
            "Силовые структуры       0.67      1.00      0.80         2\n",
            "   69-я параллель       0.00      0.00      0.00         1\n",
            "         Ценности       1.00      0.50      0.67         2\n",
            "            Спорт       0.67      1.00      0.80         2\n",
            "      Бывший СССР       0.67      0.67      0.67         3\n",
            "       Библиотека       0.00      0.00      0.00         0\n",
            "  Наука и техника       0.67      0.67      0.67         3\n",
            "              Мир       0.00      0.00      0.00         1\n",
            "   Интернет и СМИ       0.67      1.00      0.80         2\n",
            "         Культура       0.50      0.67      0.57         3\n",
            "          Легпром       0.00      0.00      0.00         1\n",
            "\n",
            "        micro avg       0.61      0.61      0.61        31\n",
            "        macro avg       0.47      0.49      0.45        31\n",
            "     weighted avg       0.61      0.61      0.57        31\n",
            "\n"
          ]
        }
      ],
      "source": [
        "pred = model_clf.predict(X_valid, batch_size=5).argmax(1)\n",
        "print(classification_report(y_valid.argmax(1), pred, labels=list(range(len(label2id))),\n",
        "                            target_names=list(label2id), zero_division=0))"
      ]
    },
    {
      "cell_type": "markdown",
      "source": [
        "Результат такой же, как и у uncased-модели, несмотря на сниженный dropout.\n",
        "\n",
        "В общем, получается, что мультиязычный BERT справляется с задачей классификации тесктов лучше"
      ],
      "metadata": {
        "id": "905LsJRGbK5A"
      }
    },
    {
      "cell_type": "markdown",
      "source": [
        "# Задание 2"
      ],
      "metadata": {
        "id": "wVwLcvWdbhdW"
      }
    },
    {
      "cell_type": "markdown",
      "source": [
        "1) Модель RoBERTa была предложена в статье \"RoBERTa: A Robustly Optimized BERT Pretraining Approach\" 2019 года сотрудниками подразделения Facebook AI. RoBERTa отличается от BERT по нескольким параметрам:\n",
        "  - RoBERTa обучается дольше, на большем количестве данных с использованием более объемных батчей.\n",
        "  - при обучении RoBERTa не решается задача предсказания следующего предложения, которая была в BERT\n",
        "  - [MASK] токены, которые должна предсказывать модель, меняются динамически в процессе обучения\n",
        "\n",
        "  В результате этих модификаций RoBERTa несколько превосходит по эффективности BERT.\n",
        "\n",
        "2) BERT/RoBERTa решают задачу \"понимания текста\", их можно использовать, например, чтобы заполнить пропуски в текстах или представить текст в виде эмбеддингов, с которыми позже можно работать. T5 может решать, как задачу \"понимания\", так и задачу генерации текстов. Например, T5 можно попросить перефразировать текст на естественном языке, перевести текст с одного языка на другой или выделить из текста главное."
      ],
      "metadata": {
        "id": "J6UZo0Qsbjk9"
      }
    }
  ],
  "metadata": {
    "accelerator": "GPU",
    "colab": {
      "collapsed_sections": [],
      "name": "ДЗ 9.ipynb",
      "provenance": [],
      "mount_file_id": "1Q9DzGb-MBqMCT3EBrnvKMLbfcqhte_i8",
      "authorship_tag": "ABX9TyPPuofc7HQj/KvgvsLtmvB4",
      "include_colab_link": true
    },
    "kernelspec": {
      "display_name": "Python 3",
      "name": "python3"
    },
    "language_info": {
      "name": "python"
    },
    "widgets": {
      "application/vnd.jupyter.widget-state+json": {
        "0aedd5d617ce46fcb150668d5a497782": {
          "model_module": "@jupyter-widgets/base",
          "model_module_version": "1.2.0",
          "model_name": "LayoutModel",
          "state": {
            "_model_module": "@jupyter-widgets/base",
            "_model_module_version": "1.2.0",
            "_model_name": "LayoutModel",
            "_view_count": null,
            "_view_module": "@jupyter-widgets/base",
            "_view_module_version": "1.2.0",
            "_view_name": "LayoutView",
            "align_content": null,
            "align_items": null,
            "align_self": null,
            "border": null,
            "bottom": null,
            "display": null,
            "flex": null,
            "flex_flow": null,
            "grid_area": null,
            "grid_auto_columns": null,
            "grid_auto_flow": null,
            "grid_auto_rows": null,
            "grid_column": null,
            "grid_gap": null,
            "grid_row": null,
            "grid_template_areas": null,
            "grid_template_columns": null,
            "grid_template_rows": null,
            "height": null,
            "justify_content": null,
            "justify_items": null,
            "left": null,
            "margin": null,
            "max_height": null,
            "max_width": null,
            "min_height": null,
            "min_width": null,
            "object_fit": null,
            "object_position": null,
            "order": null,
            "overflow": null,
            "overflow_x": null,
            "overflow_y": null,
            "padding": null,
            "right": null,
            "top": null,
            "visibility": null,
            "width": null
          }
        },
        "151c327811424b599ada0e0f6e216932": {
          "model_module": "@jupyter-widgets/controls",
          "model_module_version": "1.5.0",
          "model_name": "DescriptionStyleModel",
          "state": {
            "_model_module": "@jupyter-widgets/controls",
            "_model_module_version": "1.5.0",
            "_model_name": "DescriptionStyleModel",
            "_view_count": null,
            "_view_module": "@jupyter-widgets/base",
            "_view_module_version": "1.2.0",
            "_view_name": "StyleView",
            "description_width": ""
          }
        },
        "1575f6b9d45a40b0b6627086225c2546": {
          "model_module": "@jupyter-widgets/base",
          "model_module_version": "1.2.0",
          "model_name": "LayoutModel",
          "state": {
            "_model_module": "@jupyter-widgets/base",
            "_model_module_version": "1.2.0",
            "_model_name": "LayoutModel",
            "_view_count": null,
            "_view_module": "@jupyter-widgets/base",
            "_view_module_version": "1.2.0",
            "_view_name": "LayoutView",
            "align_content": null,
            "align_items": null,
            "align_self": null,
            "border": null,
            "bottom": null,
            "display": null,
            "flex": null,
            "flex_flow": null,
            "grid_area": null,
            "grid_auto_columns": null,
            "grid_auto_flow": null,
            "grid_auto_rows": null,
            "grid_column": null,
            "grid_gap": null,
            "grid_row": null,
            "grid_template_areas": null,
            "grid_template_columns": null,
            "grid_template_rows": null,
            "height": null,
            "justify_content": null,
            "justify_items": null,
            "left": null,
            "margin": null,
            "max_height": null,
            "max_width": null,
            "min_height": null,
            "min_width": null,
            "object_fit": null,
            "object_position": null,
            "order": null,
            "overflow": null,
            "overflow_x": null,
            "overflow_y": null,
            "padding": null,
            "right": null,
            "top": null,
            "visibility": null,
            "width": null
          }
        },
        "2903aca3c23e41cea129fe92a8e5866b": {
          "model_module": "@jupyter-widgets/controls",
          "model_module_version": "1.5.0",
          "model_name": "HBoxModel",
          "state": {
            "_dom_classes": [],
            "_model_module": "@jupyter-widgets/controls",
            "_model_module_version": "1.5.0",
            "_model_name": "HBoxModel",
            "_view_count": null,
            "_view_module": "@jupyter-widgets/controls",
            "_view_module_version": "1.5.0",
            "_view_name": "HBoxView",
            "box_style": "",
            "children": [
              "IPY_MODEL_9f312c623c8c466abb7c89b51ec62186",
              "IPY_MODEL_caeda1be7a2741a38dea17f4cb67b6a5",
              "IPY_MODEL_632f4ee5edc148d6949a2b6be8404b12"
            ],
            "layout": "IPY_MODEL_4b3b7d75ca4442f294c90f9b41b96e07"
          }
        },
        "30d393785d4548169f16cac16f395aa8": {
          "model_module": "@jupyter-widgets/base",
          "model_module_version": "1.2.0",
          "model_name": "LayoutModel",
          "state": {
            "_model_module": "@jupyter-widgets/base",
            "_model_module_version": "1.2.0",
            "_model_name": "LayoutModel",
            "_view_count": null,
            "_view_module": "@jupyter-widgets/base",
            "_view_module_version": "1.2.0",
            "_view_name": "LayoutView",
            "align_content": null,
            "align_items": null,
            "align_self": null,
            "border": null,
            "bottom": null,
            "display": null,
            "flex": null,
            "flex_flow": null,
            "grid_area": null,
            "grid_auto_columns": null,
            "grid_auto_flow": null,
            "grid_auto_rows": null,
            "grid_column": null,
            "grid_gap": null,
            "grid_row": null,
            "grid_template_areas": null,
            "grid_template_columns": null,
            "grid_template_rows": null,
            "height": null,
            "justify_content": null,
            "justify_items": null,
            "left": null,
            "margin": null,
            "max_height": null,
            "max_width": null,
            "min_height": null,
            "min_width": null,
            "object_fit": null,
            "object_position": null,
            "order": null,
            "overflow": null,
            "overflow_x": null,
            "overflow_y": null,
            "padding": null,
            "right": null,
            "top": null,
            "visibility": null,
            "width": null
          }
        },
        "31b97d3c91874ec9bb4d42bfe4d3e074": {
          "model_module": "@jupyter-widgets/base",
          "model_module_version": "1.2.0",
          "model_name": "LayoutModel",
          "state": {
            "_model_module": "@jupyter-widgets/base",
            "_model_module_version": "1.2.0",
            "_model_name": "LayoutModel",
            "_view_count": null,
            "_view_module": "@jupyter-widgets/base",
            "_view_module_version": "1.2.0",
            "_view_name": "LayoutView",
            "align_content": null,
            "align_items": null,
            "align_self": null,
            "border": null,
            "bottom": null,
            "display": null,
            "flex": null,
            "flex_flow": null,
            "grid_area": null,
            "grid_auto_columns": null,
            "grid_auto_flow": null,
            "grid_auto_rows": null,
            "grid_column": null,
            "grid_gap": null,
            "grid_row": null,
            "grid_template_areas": null,
            "grid_template_columns": null,
            "grid_template_rows": null,
            "height": null,
            "justify_content": null,
            "justify_items": null,
            "left": null,
            "margin": null,
            "max_height": null,
            "max_width": null,
            "min_height": null,
            "min_width": null,
            "object_fit": null,
            "object_position": null,
            "order": null,
            "overflow": null,
            "overflow_x": null,
            "overflow_y": null,
            "padding": null,
            "right": null,
            "top": null,
            "visibility": null,
            "width": null
          }
        },
        "411feacdc8934e94946f20a322d4e57a": {
          "model_module": "@jupyter-widgets/controls",
          "model_module_version": "1.5.0",
          "model_name": "DescriptionStyleModel",
          "state": {
            "_model_module": "@jupyter-widgets/controls",
            "_model_module_version": "1.5.0",
            "_model_name": "DescriptionStyleModel",
            "_view_count": null,
            "_view_module": "@jupyter-widgets/base",
            "_view_module_version": "1.2.0",
            "_view_name": "StyleView",
            "description_width": ""
          }
        },
        "49c3d203155748ed83aa2bcd0015fca6": {
          "model_module": "@jupyter-widgets/controls",
          "model_module_version": "1.5.0",
          "model_name": "HTMLModel",
          "state": {
            "_dom_classes": [],
            "_model_module": "@jupyter-widgets/controls",
            "_model_module_version": "1.5.0",
            "_model_name": "HTMLModel",
            "_view_count": null,
            "_view_module": "@jupyter-widgets/controls",
            "_view_module_version": "1.5.0",
            "_view_name": "HTMLView",
            "description": "",
            "description_tooltip": null,
            "layout": "IPY_MODEL_ebfb5ef48cf84edbb3dc9d463039f0a4",
            "placeholder": "​",
            "style": "IPY_MODEL_6a0ee3859ea246cfb14014c4a7cb726c",
            "value": " 607/607 [03:32&lt;00:00,  3.07it/s]"
          }
        },
        "4b3b7d75ca4442f294c90f9b41b96e07": {
          "model_module": "@jupyter-widgets/base",
          "model_module_version": "1.2.0",
          "model_name": "LayoutModel",
          "state": {
            "_model_module": "@jupyter-widgets/base",
            "_model_module_version": "1.2.0",
            "_model_name": "LayoutModel",
            "_view_count": null,
            "_view_module": "@jupyter-widgets/base",
            "_view_module_version": "1.2.0",
            "_view_name": "LayoutView",
            "align_content": null,
            "align_items": null,
            "align_self": null,
            "border": null,
            "bottom": null,
            "display": null,
            "flex": null,
            "flex_flow": null,
            "grid_area": null,
            "grid_auto_columns": null,
            "grid_auto_flow": null,
            "grid_auto_rows": null,
            "grid_column": null,
            "grid_gap": null,
            "grid_row": null,
            "grid_template_areas": null,
            "grid_template_columns": null,
            "grid_template_rows": null,
            "height": null,
            "justify_content": null,
            "justify_items": null,
            "left": null,
            "margin": null,
            "max_height": null,
            "max_width": null,
            "min_height": null,
            "min_width": null,
            "object_fit": null,
            "object_position": null,
            "order": null,
            "overflow": null,
            "overflow_x": null,
            "overflow_y": null,
            "padding": null,
            "right": null,
            "top": null,
            "visibility": null,
            "width": null
          }
        },
        "632f4ee5edc148d6949a2b6be8404b12": {
          "model_module": "@jupyter-widgets/controls",
          "model_module_version": "1.5.0",
          "model_name": "HTMLModel",
          "state": {
            "_dom_classes": [],
            "_model_module": "@jupyter-widgets/controls",
            "_model_module_version": "1.5.0",
            "_model_name": "HTMLModel",
            "_view_count": null,
            "_view_module": "@jupyter-widgets/controls",
            "_view_module_version": "1.5.0",
            "_view_name": "HTMLView",
            "description": "",
            "description_tooltip": null,
            "layout": "IPY_MODEL_e57846cb1eb442498537f661c96dbe60",
            "placeholder": "​",
            "style": "IPY_MODEL_411feacdc8934e94946f20a322d4e57a",
            "value": " 953M/953M [00:56&lt;00:00, 18.2MB/s]"
          }
        },
        "6a0ee3859ea246cfb14014c4a7cb726c": {
          "model_module": "@jupyter-widgets/controls",
          "model_module_version": "1.5.0",
          "model_name": "DescriptionStyleModel",
          "state": {
            "_model_module": "@jupyter-widgets/controls",
            "_model_module_version": "1.5.0",
            "_model_name": "DescriptionStyleModel",
            "_view_count": null,
            "_view_module": "@jupyter-widgets/base",
            "_view_module_version": "1.2.0",
            "_view_name": "StyleView",
            "description_width": ""
          }
        },
        "6fba738baa744a9b9f057ab86d63f3ea": {
          "model_module": "@jupyter-widgets/controls",
          "model_module_version": "1.5.0",
          "model_name": "DescriptionStyleModel",
          "state": {
            "_model_module": "@jupyter-widgets/controls",
            "_model_module_version": "1.5.0",
            "_model_name": "DescriptionStyleModel",
            "_view_count": null,
            "_view_module": "@jupyter-widgets/base",
            "_view_module_version": "1.2.0",
            "_view_name": "StyleView",
            "description_width": ""
          }
        },
        "7e690f5e2496492f8ce873ace34d5022": {
          "model_module": "@jupyter-widgets/controls",
          "model_module_version": "1.5.0",
          "model_name": "FloatProgressModel",
          "state": {
            "_dom_classes": [],
            "_model_module": "@jupyter-widgets/controls",
            "_model_module_version": "1.5.0",
            "_model_name": "FloatProgressModel",
            "_view_count": null,
            "_view_module": "@jupyter-widgets/controls",
            "_view_module_version": "1.5.0",
            "_view_name": "ProgressView",
            "bar_style": "success",
            "description": "",
            "description_tooltip": null,
            "layout": "IPY_MODEL_0aedd5d617ce46fcb150668d5a497782",
            "max": 607,
            "min": 0,
            "orientation": "horizontal",
            "style": "IPY_MODEL_afa60b0dd9c6434b91b9d10c0dadccb5",
            "value": 607
          }
        },
        "9f312c623c8c466abb7c89b51ec62186": {
          "model_module": "@jupyter-widgets/controls",
          "model_module_version": "1.5.0",
          "model_name": "HTMLModel",
          "state": {
            "_dom_classes": [],
            "_model_module": "@jupyter-widgets/controls",
            "_model_module_version": "1.5.0",
            "_model_name": "HTMLModel",
            "_view_count": null,
            "_view_module": "@jupyter-widgets/controls",
            "_view_module_version": "1.5.0",
            "_view_name": "HTMLView",
            "description": "",
            "description_tooltip": null,
            "layout": "IPY_MODEL_1575f6b9d45a40b0b6627086225c2546",
            "placeholder": "​",
            "style": "IPY_MODEL_6fba738baa744a9b9f057ab86d63f3ea",
            "value": "Downloading: 100%"
          }
        },
        "afa60b0dd9c6434b91b9d10c0dadccb5": {
          "model_module": "@jupyter-widgets/controls",
          "model_module_version": "1.5.0",
          "model_name": "ProgressStyleModel",
          "state": {
            "_model_module": "@jupyter-widgets/controls",
            "_model_module_version": "1.5.0",
            "_model_name": "ProgressStyleModel",
            "_view_count": null,
            "_view_module": "@jupyter-widgets/base",
            "_view_module_version": "1.2.0",
            "_view_name": "StyleView",
            "bar_color": null,
            "description_width": ""
          }
        },
        "b356ae2de0084274b232f786a7bb50d3": {
          "model_module": "@jupyter-widgets/controls",
          "model_module_version": "1.5.0",
          "model_name": "HBoxModel",
          "state": {
            "_dom_classes": [],
            "_model_module": "@jupyter-widgets/controls",
            "_model_module_version": "1.5.0",
            "_model_name": "HBoxModel",
            "_view_count": null,
            "_view_module": "@jupyter-widgets/controls",
            "_view_module_version": "1.5.0",
            "_view_name": "HBoxView",
            "box_style": "",
            "children": [
              "IPY_MODEL_c6d1aabc44dc4f09af37d24af6a31598",
              "IPY_MODEL_7e690f5e2496492f8ce873ace34d5022",
              "IPY_MODEL_49c3d203155748ed83aa2bcd0015fca6"
            ],
            "layout": "IPY_MODEL_31b97d3c91874ec9bb4d42bfe4d3e074"
          }
        },
        "c5a93366a76946879872cbe70ba6da67": {
          "model_module": "@jupyter-widgets/controls",
          "model_module_version": "1.5.0",
          "model_name": "ProgressStyleModel",
          "state": {
            "_model_module": "@jupyter-widgets/controls",
            "_model_module_version": "1.5.0",
            "_model_name": "ProgressStyleModel",
            "_view_count": null,
            "_view_module": "@jupyter-widgets/base",
            "_view_module_version": "1.2.0",
            "_view_name": "StyleView",
            "bar_color": null,
            "description_width": ""
          }
        },
        "c6d1aabc44dc4f09af37d24af6a31598": {
          "model_module": "@jupyter-widgets/controls",
          "model_module_version": "1.5.0",
          "model_name": "HTMLModel",
          "state": {
            "_dom_classes": [],
            "_model_module": "@jupyter-widgets/controls",
            "_model_module_version": "1.5.0",
            "_model_name": "HTMLModel",
            "_view_count": null,
            "_view_module": "@jupyter-widgets/controls",
            "_view_module_version": "1.5.0",
            "_view_name": "HTMLView",
            "description": "",
            "description_tooltip": null,
            "layout": "IPY_MODEL_d0754690cf2543b8af08f93161d2f121",
            "placeholder": "​",
            "style": "IPY_MODEL_151c327811424b599ada0e0f6e216932",
            "value": "100%"
          }
        },
        "caeda1be7a2741a38dea17f4cb67b6a5": {
          "model_module": "@jupyter-widgets/controls",
          "model_module_version": "1.5.0",
          "model_name": "FloatProgressModel",
          "state": {
            "_dom_classes": [],
            "_model_module": "@jupyter-widgets/controls",
            "_model_module_version": "1.5.0",
            "_model_name": "FloatProgressModel",
            "_view_count": null,
            "_view_module": "@jupyter-widgets/controls",
            "_view_module_version": "1.5.0",
            "_view_name": "ProgressView",
            "bar_style": "success",
            "description": "",
            "description_tooltip": null,
            "layout": "IPY_MODEL_30d393785d4548169f16cac16f395aa8",
            "max": 999358484,
            "min": 0,
            "orientation": "horizontal",
            "style": "IPY_MODEL_c5a93366a76946879872cbe70ba6da67",
            "value": 999358484
          }
        },
        "d0754690cf2543b8af08f93161d2f121": {
          "model_module": "@jupyter-widgets/base",
          "model_module_version": "1.2.0",
          "model_name": "LayoutModel",
          "state": {
            "_model_module": "@jupyter-widgets/base",
            "_model_module_version": "1.2.0",
            "_model_name": "LayoutModel",
            "_view_count": null,
            "_view_module": "@jupyter-widgets/base",
            "_view_module_version": "1.2.0",
            "_view_name": "LayoutView",
            "align_content": null,
            "align_items": null,
            "align_self": null,
            "border": null,
            "bottom": null,
            "display": null,
            "flex": null,
            "flex_flow": null,
            "grid_area": null,
            "grid_auto_columns": null,
            "grid_auto_flow": null,
            "grid_auto_rows": null,
            "grid_column": null,
            "grid_gap": null,
            "grid_row": null,
            "grid_template_areas": null,
            "grid_template_columns": null,
            "grid_template_rows": null,
            "height": null,
            "justify_content": null,
            "justify_items": null,
            "left": null,
            "margin": null,
            "max_height": null,
            "max_width": null,
            "min_height": null,
            "min_width": null,
            "object_fit": null,
            "object_position": null,
            "order": null,
            "overflow": null,
            "overflow_x": null,
            "overflow_y": null,
            "padding": null,
            "right": null,
            "top": null,
            "visibility": null,
            "width": null
          }
        },
        "e57846cb1eb442498537f661c96dbe60": {
          "model_module": "@jupyter-widgets/base",
          "model_module_version": "1.2.0",
          "model_name": "LayoutModel",
          "state": {
            "_model_module": "@jupyter-widgets/base",
            "_model_module_version": "1.2.0",
            "_model_name": "LayoutModel",
            "_view_count": null,
            "_view_module": "@jupyter-widgets/base",
            "_view_module_version": "1.2.0",
            "_view_name": "LayoutView",
            "align_content": null,
            "align_items": null,
            "align_self": null,
            "border": null,
            "bottom": null,
            "display": null,
            "flex": null,
            "flex_flow": null,
            "grid_area": null,
            "grid_auto_columns": null,
            "grid_auto_flow": null,
            "grid_auto_rows": null,
            "grid_column": null,
            "grid_gap": null,
            "grid_row": null,
            "grid_template_areas": null,
            "grid_template_columns": null,
            "grid_template_rows": null,
            "height": null,
            "justify_content": null,
            "justify_items": null,
            "left": null,
            "margin": null,
            "max_height": null,
            "max_width": null,
            "min_height": null,
            "min_width": null,
            "object_fit": null,
            "object_position": null,
            "order": null,
            "overflow": null,
            "overflow_x": null,
            "overflow_y": null,
            "padding": null,
            "right": null,
            "top": null,
            "visibility": null,
            "width": null
          }
        },
        "ebfb5ef48cf84edbb3dc9d463039f0a4": {
          "model_module": "@jupyter-widgets/base",
          "model_module_version": "1.2.0",
          "model_name": "LayoutModel",
          "state": {
            "_model_module": "@jupyter-widgets/base",
            "_model_module_version": "1.2.0",
            "_model_name": "LayoutModel",
            "_view_count": null,
            "_view_module": "@jupyter-widgets/base",
            "_view_module_version": "1.2.0",
            "_view_name": "LayoutView",
            "align_content": null,
            "align_items": null,
            "align_self": null,
            "border": null,
            "bottom": null,
            "display": null,
            "flex": null,
            "flex_flow": null,
            "grid_area": null,
            "grid_auto_columns": null,
            "grid_auto_flow": null,
            "grid_auto_rows": null,
            "grid_column": null,
            "grid_gap": null,
            "grid_row": null,
            "grid_template_areas": null,
            "grid_template_columns": null,
            "grid_template_rows": null,
            "height": null,
            "justify_content": null,
            "justify_items": null,
            "left": null,
            "margin": null,
            "max_height": null,
            "max_width": null,
            "min_height": null,
            "min_width": null,
            "object_fit": null,
            "object_position": null,
            "order": null,
            "overflow": null,
            "overflow_x": null,
            "overflow_y": null,
            "padding": null,
            "right": null,
            "top": null,
            "visibility": null,
            "width": null
          }
        },
        "cc06d53409cb461cbe176c0a4a36eeaf": {
          "model_module": "@jupyter-widgets/controls",
          "model_name": "HBoxModel",
          "model_module_version": "1.5.0",
          "state": {
            "_dom_classes": [],
            "_model_module": "@jupyter-widgets/controls",
            "_model_module_version": "1.5.0",
            "_model_name": "HBoxModel",
            "_view_count": null,
            "_view_module": "@jupyter-widgets/controls",
            "_view_module_version": "1.5.0",
            "_view_name": "HBoxView",
            "box_style": "",
            "children": [
              "IPY_MODEL_fddb88b454fb496d93ff3571dc2b9ec8",
              "IPY_MODEL_d82d5eeb0b7f45efa5b569901f1103b9",
              "IPY_MODEL_f3ca6653ca914ff0a0e1363c317401f7"
            ],
            "layout": "IPY_MODEL_da0afa168b8f4758b430aa90f7e98546"
          }
        },
        "fddb88b454fb496d93ff3571dc2b9ec8": {
          "model_module": "@jupyter-widgets/controls",
          "model_name": "HTMLModel",
          "model_module_version": "1.5.0",
          "state": {
            "_dom_classes": [],
            "_model_module": "@jupyter-widgets/controls",
            "_model_module_version": "1.5.0",
            "_model_name": "HTMLModel",
            "_view_count": null,
            "_view_module": "@jupyter-widgets/controls",
            "_view_module_version": "1.5.0",
            "_view_name": "HTMLView",
            "description": "",
            "description_tooltip": null,
            "layout": "IPY_MODEL_a36ace120c0743ea80187ccdc26237e4",
            "placeholder": "​",
            "style": "IPY_MODEL_7066c70cfd3b443992c99d8eac593e6e",
            "value": "Downloading: 100%"
          }
        },
        "d82d5eeb0b7f45efa5b569901f1103b9": {
          "model_module": "@jupyter-widgets/controls",
          "model_name": "FloatProgressModel",
          "model_module_version": "1.5.0",
          "state": {
            "_dom_classes": [],
            "_model_module": "@jupyter-widgets/controls",
            "_model_module_version": "1.5.0",
            "_model_name": "FloatProgressModel",
            "_view_count": null,
            "_view_module": "@jupyter-widgets/controls",
            "_view_module_version": "1.5.0",
            "_view_name": "ProgressView",
            "bar_style": "success",
            "description": "",
            "description_tooltip": null,
            "layout": "IPY_MODEL_b8b83a9c07b045babc69c085ce80ee83",
            "max": 29,
            "min": 0,
            "orientation": "horizontal",
            "style": "IPY_MODEL_02e2f8908a2b4d54985c07dacd253288",
            "value": 29
          }
        },
        "f3ca6653ca914ff0a0e1363c317401f7": {
          "model_module": "@jupyter-widgets/controls",
          "model_name": "HTMLModel",
          "model_module_version": "1.5.0",
          "state": {
            "_dom_classes": [],
            "_model_module": "@jupyter-widgets/controls",
            "_model_module_version": "1.5.0",
            "_model_name": "HTMLModel",
            "_view_count": null,
            "_view_module": "@jupyter-widgets/controls",
            "_view_module_version": "1.5.0",
            "_view_name": "HTMLView",
            "description": "",
            "description_tooltip": null,
            "layout": "IPY_MODEL_5adc45b21fc343128b73d02d697ff5df",
            "placeholder": "​",
            "style": "IPY_MODEL_510defd8fea848d2ace8da829171f26a",
            "value": " 29.0/29.0 [00:00&lt;00:00, 209B/s]"
          }
        },
        "da0afa168b8f4758b430aa90f7e98546": {
          "model_module": "@jupyter-widgets/base",
          "model_name": "LayoutModel",
          "model_module_version": "1.2.0",
          "state": {
            "_model_module": "@jupyter-widgets/base",
            "_model_module_version": "1.2.0",
            "_model_name": "LayoutModel",
            "_view_count": null,
            "_view_module": "@jupyter-widgets/base",
            "_view_module_version": "1.2.0",
            "_view_name": "LayoutView",
            "align_content": null,
            "align_items": null,
            "align_self": null,
            "border": null,
            "bottom": null,
            "display": null,
            "flex": null,
            "flex_flow": null,
            "grid_area": null,
            "grid_auto_columns": null,
            "grid_auto_flow": null,
            "grid_auto_rows": null,
            "grid_column": null,
            "grid_gap": null,
            "grid_row": null,
            "grid_template_areas": null,
            "grid_template_columns": null,
            "grid_template_rows": null,
            "height": null,
            "justify_content": null,
            "justify_items": null,
            "left": null,
            "margin": null,
            "max_height": null,
            "max_width": null,
            "min_height": null,
            "min_width": null,
            "object_fit": null,
            "object_position": null,
            "order": null,
            "overflow": null,
            "overflow_x": null,
            "overflow_y": null,
            "padding": null,
            "right": null,
            "top": null,
            "visibility": null,
            "width": null
          }
        },
        "a36ace120c0743ea80187ccdc26237e4": {
          "model_module": "@jupyter-widgets/base",
          "model_name": "LayoutModel",
          "model_module_version": "1.2.0",
          "state": {
            "_model_module": "@jupyter-widgets/base",
            "_model_module_version": "1.2.0",
            "_model_name": "LayoutModel",
            "_view_count": null,
            "_view_module": "@jupyter-widgets/base",
            "_view_module_version": "1.2.0",
            "_view_name": "LayoutView",
            "align_content": null,
            "align_items": null,
            "align_self": null,
            "border": null,
            "bottom": null,
            "display": null,
            "flex": null,
            "flex_flow": null,
            "grid_area": null,
            "grid_auto_columns": null,
            "grid_auto_flow": null,
            "grid_auto_rows": null,
            "grid_column": null,
            "grid_gap": null,
            "grid_row": null,
            "grid_template_areas": null,
            "grid_template_columns": null,
            "grid_template_rows": null,
            "height": null,
            "justify_content": null,
            "justify_items": null,
            "left": null,
            "margin": null,
            "max_height": null,
            "max_width": null,
            "min_height": null,
            "min_width": null,
            "object_fit": null,
            "object_position": null,
            "order": null,
            "overflow": null,
            "overflow_x": null,
            "overflow_y": null,
            "padding": null,
            "right": null,
            "top": null,
            "visibility": null,
            "width": null
          }
        },
        "7066c70cfd3b443992c99d8eac593e6e": {
          "model_module": "@jupyter-widgets/controls",
          "model_name": "DescriptionStyleModel",
          "model_module_version": "1.5.0",
          "state": {
            "_model_module": "@jupyter-widgets/controls",
            "_model_module_version": "1.5.0",
            "_model_name": "DescriptionStyleModel",
            "_view_count": null,
            "_view_module": "@jupyter-widgets/base",
            "_view_module_version": "1.2.0",
            "_view_name": "StyleView",
            "description_width": ""
          }
        },
        "b8b83a9c07b045babc69c085ce80ee83": {
          "model_module": "@jupyter-widgets/base",
          "model_name": "LayoutModel",
          "model_module_version": "1.2.0",
          "state": {
            "_model_module": "@jupyter-widgets/base",
            "_model_module_version": "1.2.0",
            "_model_name": "LayoutModel",
            "_view_count": null,
            "_view_module": "@jupyter-widgets/base",
            "_view_module_version": "1.2.0",
            "_view_name": "LayoutView",
            "align_content": null,
            "align_items": null,
            "align_self": null,
            "border": null,
            "bottom": null,
            "display": null,
            "flex": null,
            "flex_flow": null,
            "grid_area": null,
            "grid_auto_columns": null,
            "grid_auto_flow": null,
            "grid_auto_rows": null,
            "grid_column": null,
            "grid_gap": null,
            "grid_row": null,
            "grid_template_areas": null,
            "grid_template_columns": null,
            "grid_template_rows": null,
            "height": null,
            "justify_content": null,
            "justify_items": null,
            "left": null,
            "margin": null,
            "max_height": null,
            "max_width": null,
            "min_height": null,
            "min_width": null,
            "object_fit": null,
            "object_position": null,
            "order": null,
            "overflow": null,
            "overflow_x": null,
            "overflow_y": null,
            "padding": null,
            "right": null,
            "top": null,
            "visibility": null,
            "width": null
          }
        },
        "02e2f8908a2b4d54985c07dacd253288": {
          "model_module": "@jupyter-widgets/controls",
          "model_name": "ProgressStyleModel",
          "model_module_version": "1.5.0",
          "state": {
            "_model_module": "@jupyter-widgets/controls",
            "_model_module_version": "1.5.0",
            "_model_name": "ProgressStyleModel",
            "_view_count": null,
            "_view_module": "@jupyter-widgets/base",
            "_view_module_version": "1.2.0",
            "_view_name": "StyleView",
            "bar_color": null,
            "description_width": ""
          }
        },
        "5adc45b21fc343128b73d02d697ff5df": {
          "model_module": "@jupyter-widgets/base",
          "model_name": "LayoutModel",
          "model_module_version": "1.2.0",
          "state": {
            "_model_module": "@jupyter-widgets/base",
            "_model_module_version": "1.2.0",
            "_model_name": "LayoutModel",
            "_view_count": null,
            "_view_module": "@jupyter-widgets/base",
            "_view_module_version": "1.2.0",
            "_view_name": "LayoutView",
            "align_content": null,
            "align_items": null,
            "align_self": null,
            "border": null,
            "bottom": null,
            "display": null,
            "flex": null,
            "flex_flow": null,
            "grid_area": null,
            "grid_auto_columns": null,
            "grid_auto_flow": null,
            "grid_auto_rows": null,
            "grid_column": null,
            "grid_gap": null,
            "grid_row": null,
            "grid_template_areas": null,
            "grid_template_columns": null,
            "grid_template_rows": null,
            "height": null,
            "justify_content": null,
            "justify_items": null,
            "left": null,
            "margin": null,
            "max_height": null,
            "max_width": null,
            "min_height": null,
            "min_width": null,
            "object_fit": null,
            "object_position": null,
            "order": null,
            "overflow": null,
            "overflow_x": null,
            "overflow_y": null,
            "padding": null,
            "right": null,
            "top": null,
            "visibility": null,
            "width": null
          }
        },
        "510defd8fea848d2ace8da829171f26a": {
          "model_module": "@jupyter-widgets/controls",
          "model_name": "DescriptionStyleModel",
          "model_module_version": "1.5.0",
          "state": {
            "_model_module": "@jupyter-widgets/controls",
            "_model_module_version": "1.5.0",
            "_model_name": "DescriptionStyleModel",
            "_view_count": null,
            "_view_module": "@jupyter-widgets/base",
            "_view_module_version": "1.2.0",
            "_view_name": "StyleView",
            "description_width": ""
          }
        },
        "75fae1ddfcfe40ab9f96046691f9c8f5": {
          "model_module": "@jupyter-widgets/controls",
          "model_name": "HBoxModel",
          "model_module_version": "1.5.0",
          "state": {
            "_dom_classes": [],
            "_model_module": "@jupyter-widgets/controls",
            "_model_module_version": "1.5.0",
            "_model_name": "HBoxModel",
            "_view_count": null,
            "_view_module": "@jupyter-widgets/controls",
            "_view_module_version": "1.5.0",
            "_view_name": "HBoxView",
            "box_style": "",
            "children": [
              "IPY_MODEL_0bb5b9ce085d45ffa484876d41502460",
              "IPY_MODEL_46bda2f712744796bc54e4063ad346a0",
              "IPY_MODEL_3a54f90a8b3c471c81ccc68ebe4102db"
            ],
            "layout": "IPY_MODEL_1cc9e6a2ddc34a3b90f760fe372c6abf"
          }
        },
        "0bb5b9ce085d45ffa484876d41502460": {
          "model_module": "@jupyter-widgets/controls",
          "model_name": "HTMLModel",
          "model_module_version": "1.5.0",
          "state": {
            "_dom_classes": [],
            "_model_module": "@jupyter-widgets/controls",
            "_model_module_version": "1.5.0",
            "_model_name": "HTMLModel",
            "_view_count": null,
            "_view_module": "@jupyter-widgets/controls",
            "_view_module_version": "1.5.0",
            "_view_name": "HTMLView",
            "description": "",
            "description_tooltip": null,
            "layout": "IPY_MODEL_5fbcba29f791417a9648ae1c3eca4305",
            "placeholder": "​",
            "style": "IPY_MODEL_ef5ecdd13b344682b12b401da7da3658",
            "value": "Downloading: 100%"
          }
        },
        "46bda2f712744796bc54e4063ad346a0": {
          "model_module": "@jupyter-widgets/controls",
          "model_name": "FloatProgressModel",
          "model_module_version": "1.5.0",
          "state": {
            "_dom_classes": [],
            "_model_module": "@jupyter-widgets/controls",
            "_model_module_version": "1.5.0",
            "_model_name": "FloatProgressModel",
            "_view_count": null,
            "_view_module": "@jupyter-widgets/controls",
            "_view_module_version": "1.5.0",
            "_view_name": "ProgressView",
            "bar_style": "success",
            "description": "",
            "description_tooltip": null,
            "layout": "IPY_MODEL_f8cec60ff993419aa6a0fe3552806b74",
            "max": 625,
            "min": 0,
            "orientation": "horizontal",
            "style": "IPY_MODEL_49a0c08f791349d98db1a23ee6bf50f7",
            "value": 625
          }
        },
        "3a54f90a8b3c471c81ccc68ebe4102db": {
          "model_module": "@jupyter-widgets/controls",
          "model_name": "HTMLModel",
          "model_module_version": "1.5.0",
          "state": {
            "_dom_classes": [],
            "_model_module": "@jupyter-widgets/controls",
            "_model_module_version": "1.5.0",
            "_model_name": "HTMLModel",
            "_view_count": null,
            "_view_module": "@jupyter-widgets/controls",
            "_view_module_version": "1.5.0",
            "_view_name": "HTMLView",
            "description": "",
            "description_tooltip": null,
            "layout": "IPY_MODEL_51b1ab3ec7a1423ea2c76093bdcb85dd",
            "placeholder": "​",
            "style": "IPY_MODEL_c4f281c958954cd7874ba0edeb764174",
            "value": " 625/625 [00:00&lt;00:00, 7.88kB/s]"
          }
        },
        "1cc9e6a2ddc34a3b90f760fe372c6abf": {
          "model_module": "@jupyter-widgets/base",
          "model_name": "LayoutModel",
          "model_module_version": "1.2.0",
          "state": {
            "_model_module": "@jupyter-widgets/base",
            "_model_module_version": "1.2.0",
            "_model_name": "LayoutModel",
            "_view_count": null,
            "_view_module": "@jupyter-widgets/base",
            "_view_module_version": "1.2.0",
            "_view_name": "LayoutView",
            "align_content": null,
            "align_items": null,
            "align_self": null,
            "border": null,
            "bottom": null,
            "display": null,
            "flex": null,
            "flex_flow": null,
            "grid_area": null,
            "grid_auto_columns": null,
            "grid_auto_flow": null,
            "grid_auto_rows": null,
            "grid_column": null,
            "grid_gap": null,
            "grid_row": null,
            "grid_template_areas": null,
            "grid_template_columns": null,
            "grid_template_rows": null,
            "height": null,
            "justify_content": null,
            "justify_items": null,
            "left": null,
            "margin": null,
            "max_height": null,
            "max_width": null,
            "min_height": null,
            "min_width": null,
            "object_fit": null,
            "object_position": null,
            "order": null,
            "overflow": null,
            "overflow_x": null,
            "overflow_y": null,
            "padding": null,
            "right": null,
            "top": null,
            "visibility": null,
            "width": null
          }
        },
        "5fbcba29f791417a9648ae1c3eca4305": {
          "model_module": "@jupyter-widgets/base",
          "model_name": "LayoutModel",
          "model_module_version": "1.2.0",
          "state": {
            "_model_module": "@jupyter-widgets/base",
            "_model_module_version": "1.2.0",
            "_model_name": "LayoutModel",
            "_view_count": null,
            "_view_module": "@jupyter-widgets/base",
            "_view_module_version": "1.2.0",
            "_view_name": "LayoutView",
            "align_content": null,
            "align_items": null,
            "align_self": null,
            "border": null,
            "bottom": null,
            "display": null,
            "flex": null,
            "flex_flow": null,
            "grid_area": null,
            "grid_auto_columns": null,
            "grid_auto_flow": null,
            "grid_auto_rows": null,
            "grid_column": null,
            "grid_gap": null,
            "grid_row": null,
            "grid_template_areas": null,
            "grid_template_columns": null,
            "grid_template_rows": null,
            "height": null,
            "justify_content": null,
            "justify_items": null,
            "left": null,
            "margin": null,
            "max_height": null,
            "max_width": null,
            "min_height": null,
            "min_width": null,
            "object_fit": null,
            "object_position": null,
            "order": null,
            "overflow": null,
            "overflow_x": null,
            "overflow_y": null,
            "padding": null,
            "right": null,
            "top": null,
            "visibility": null,
            "width": null
          }
        },
        "ef5ecdd13b344682b12b401da7da3658": {
          "model_module": "@jupyter-widgets/controls",
          "model_name": "DescriptionStyleModel",
          "model_module_version": "1.5.0",
          "state": {
            "_model_module": "@jupyter-widgets/controls",
            "_model_module_version": "1.5.0",
            "_model_name": "DescriptionStyleModel",
            "_view_count": null,
            "_view_module": "@jupyter-widgets/base",
            "_view_module_version": "1.2.0",
            "_view_name": "StyleView",
            "description_width": ""
          }
        },
        "f8cec60ff993419aa6a0fe3552806b74": {
          "model_module": "@jupyter-widgets/base",
          "model_name": "LayoutModel",
          "model_module_version": "1.2.0",
          "state": {
            "_model_module": "@jupyter-widgets/base",
            "_model_module_version": "1.2.0",
            "_model_name": "LayoutModel",
            "_view_count": null,
            "_view_module": "@jupyter-widgets/base",
            "_view_module_version": "1.2.0",
            "_view_name": "LayoutView",
            "align_content": null,
            "align_items": null,
            "align_self": null,
            "border": null,
            "bottom": null,
            "display": null,
            "flex": null,
            "flex_flow": null,
            "grid_area": null,
            "grid_auto_columns": null,
            "grid_auto_flow": null,
            "grid_auto_rows": null,
            "grid_column": null,
            "grid_gap": null,
            "grid_row": null,
            "grid_template_areas": null,
            "grid_template_columns": null,
            "grid_template_rows": null,
            "height": null,
            "justify_content": null,
            "justify_items": null,
            "left": null,
            "margin": null,
            "max_height": null,
            "max_width": null,
            "min_height": null,
            "min_width": null,
            "object_fit": null,
            "object_position": null,
            "order": null,
            "overflow": null,
            "overflow_x": null,
            "overflow_y": null,
            "padding": null,
            "right": null,
            "top": null,
            "visibility": null,
            "width": null
          }
        },
        "49a0c08f791349d98db1a23ee6bf50f7": {
          "model_module": "@jupyter-widgets/controls",
          "model_name": "ProgressStyleModel",
          "model_module_version": "1.5.0",
          "state": {
            "_model_module": "@jupyter-widgets/controls",
            "_model_module_version": "1.5.0",
            "_model_name": "ProgressStyleModel",
            "_view_count": null,
            "_view_module": "@jupyter-widgets/base",
            "_view_module_version": "1.2.0",
            "_view_name": "StyleView",
            "bar_color": null,
            "description_width": ""
          }
        },
        "51b1ab3ec7a1423ea2c76093bdcb85dd": {
          "model_module": "@jupyter-widgets/base",
          "model_name": "LayoutModel",
          "model_module_version": "1.2.0",
          "state": {
            "_model_module": "@jupyter-widgets/base",
            "_model_module_version": "1.2.0",
            "_model_name": "LayoutModel",
            "_view_count": null,
            "_view_module": "@jupyter-widgets/base",
            "_view_module_version": "1.2.0",
            "_view_name": "LayoutView",
            "align_content": null,
            "align_items": null,
            "align_self": null,
            "border": null,
            "bottom": null,
            "display": null,
            "flex": null,
            "flex_flow": null,
            "grid_area": null,
            "grid_auto_columns": null,
            "grid_auto_flow": null,
            "grid_auto_rows": null,
            "grid_column": null,
            "grid_gap": null,
            "grid_row": null,
            "grid_template_areas": null,
            "grid_template_columns": null,
            "grid_template_rows": null,
            "height": null,
            "justify_content": null,
            "justify_items": null,
            "left": null,
            "margin": null,
            "max_height": null,
            "max_width": null,
            "min_height": null,
            "min_width": null,
            "object_fit": null,
            "object_position": null,
            "order": null,
            "overflow": null,
            "overflow_x": null,
            "overflow_y": null,
            "padding": null,
            "right": null,
            "top": null,
            "visibility": null,
            "width": null
          }
        },
        "c4f281c958954cd7874ba0edeb764174": {
          "model_module": "@jupyter-widgets/controls",
          "model_name": "DescriptionStyleModel",
          "model_module_version": "1.5.0",
          "state": {
            "_model_module": "@jupyter-widgets/controls",
            "_model_module_version": "1.5.0",
            "_model_name": "DescriptionStyleModel",
            "_view_count": null,
            "_view_module": "@jupyter-widgets/base",
            "_view_module_version": "1.2.0",
            "_view_name": "StyleView",
            "description_width": ""
          }
        },
        "162eaec46561454bb117c8882cc706c1": {
          "model_module": "@jupyter-widgets/controls",
          "model_name": "HBoxModel",
          "model_module_version": "1.5.0",
          "state": {
            "_dom_classes": [],
            "_model_module": "@jupyter-widgets/controls",
            "_model_module_version": "1.5.0",
            "_model_name": "HBoxModel",
            "_view_count": null,
            "_view_module": "@jupyter-widgets/controls",
            "_view_module_version": "1.5.0",
            "_view_name": "HBoxView",
            "box_style": "",
            "children": [
              "IPY_MODEL_42ac6e1129da492db2b5176bf230db8a",
              "IPY_MODEL_66e5117e5f10480ead1013e044c4c85a",
              "IPY_MODEL_f34a5f600dae40308ff8f0d654d69519"
            ],
            "layout": "IPY_MODEL_8d438c7e32364ff496aa677ee428ecc1"
          }
        },
        "42ac6e1129da492db2b5176bf230db8a": {
          "model_module": "@jupyter-widgets/controls",
          "model_name": "HTMLModel",
          "model_module_version": "1.5.0",
          "state": {
            "_dom_classes": [],
            "_model_module": "@jupyter-widgets/controls",
            "_model_module_version": "1.5.0",
            "_model_name": "HTMLModel",
            "_view_count": null,
            "_view_module": "@jupyter-widgets/controls",
            "_view_module_version": "1.5.0",
            "_view_name": "HTMLView",
            "description": "",
            "description_tooltip": null,
            "layout": "IPY_MODEL_8987e9810cd941bb9bb32614f9979679",
            "placeholder": "​",
            "style": "IPY_MODEL_ed45ddac4da1454e89a3ce6fc4c2ea7d",
            "value": "Downloading: 100%"
          }
        },
        "66e5117e5f10480ead1013e044c4c85a": {
          "model_module": "@jupyter-widgets/controls",
          "model_name": "FloatProgressModel",
          "model_module_version": "1.5.0",
          "state": {
            "_dom_classes": [],
            "_model_module": "@jupyter-widgets/controls",
            "_model_module_version": "1.5.0",
            "_model_name": "FloatProgressModel",
            "_view_count": null,
            "_view_module": "@jupyter-widgets/controls",
            "_view_module_version": "1.5.0",
            "_view_name": "ProgressView",
            "bar_style": "success",
            "description": "",
            "description_tooltip": null,
            "layout": "IPY_MODEL_4d4f33e22b654042a2b6fb6437874ead",
            "max": 995526,
            "min": 0,
            "orientation": "horizontal",
            "style": "IPY_MODEL_8e23e6131aa94029ae041c867c68866d",
            "value": 995526
          }
        },
        "f34a5f600dae40308ff8f0d654d69519": {
          "model_module": "@jupyter-widgets/controls",
          "model_name": "HTMLModel",
          "model_module_version": "1.5.0",
          "state": {
            "_dom_classes": [],
            "_model_module": "@jupyter-widgets/controls",
            "_model_module_version": "1.5.0",
            "_model_name": "HTMLModel",
            "_view_count": null,
            "_view_module": "@jupyter-widgets/controls",
            "_view_module_version": "1.5.0",
            "_view_name": "HTMLView",
            "description": "",
            "description_tooltip": null,
            "layout": "IPY_MODEL_c512421d3ef7443dbae2571a753b8be0",
            "placeholder": "​",
            "style": "IPY_MODEL_559a61f466f142749911f0a091afe5fa",
            "value": " 972k/972k [00:01&lt;00:00, 1.21MB/s]"
          }
        },
        "8d438c7e32364ff496aa677ee428ecc1": {
          "model_module": "@jupyter-widgets/base",
          "model_name": "LayoutModel",
          "model_module_version": "1.2.0",
          "state": {
            "_model_module": "@jupyter-widgets/base",
            "_model_module_version": "1.2.0",
            "_model_name": "LayoutModel",
            "_view_count": null,
            "_view_module": "@jupyter-widgets/base",
            "_view_module_version": "1.2.0",
            "_view_name": "LayoutView",
            "align_content": null,
            "align_items": null,
            "align_self": null,
            "border": null,
            "bottom": null,
            "display": null,
            "flex": null,
            "flex_flow": null,
            "grid_area": null,
            "grid_auto_columns": null,
            "grid_auto_flow": null,
            "grid_auto_rows": null,
            "grid_column": null,
            "grid_gap": null,
            "grid_row": null,
            "grid_template_areas": null,
            "grid_template_columns": null,
            "grid_template_rows": null,
            "height": null,
            "justify_content": null,
            "justify_items": null,
            "left": null,
            "margin": null,
            "max_height": null,
            "max_width": null,
            "min_height": null,
            "min_width": null,
            "object_fit": null,
            "object_position": null,
            "order": null,
            "overflow": null,
            "overflow_x": null,
            "overflow_y": null,
            "padding": null,
            "right": null,
            "top": null,
            "visibility": null,
            "width": null
          }
        },
        "8987e9810cd941bb9bb32614f9979679": {
          "model_module": "@jupyter-widgets/base",
          "model_name": "LayoutModel",
          "model_module_version": "1.2.0",
          "state": {
            "_model_module": "@jupyter-widgets/base",
            "_model_module_version": "1.2.0",
            "_model_name": "LayoutModel",
            "_view_count": null,
            "_view_module": "@jupyter-widgets/base",
            "_view_module_version": "1.2.0",
            "_view_name": "LayoutView",
            "align_content": null,
            "align_items": null,
            "align_self": null,
            "border": null,
            "bottom": null,
            "display": null,
            "flex": null,
            "flex_flow": null,
            "grid_area": null,
            "grid_auto_columns": null,
            "grid_auto_flow": null,
            "grid_auto_rows": null,
            "grid_column": null,
            "grid_gap": null,
            "grid_row": null,
            "grid_template_areas": null,
            "grid_template_columns": null,
            "grid_template_rows": null,
            "height": null,
            "justify_content": null,
            "justify_items": null,
            "left": null,
            "margin": null,
            "max_height": null,
            "max_width": null,
            "min_height": null,
            "min_width": null,
            "object_fit": null,
            "object_position": null,
            "order": null,
            "overflow": null,
            "overflow_x": null,
            "overflow_y": null,
            "padding": null,
            "right": null,
            "top": null,
            "visibility": null,
            "width": null
          }
        },
        "ed45ddac4da1454e89a3ce6fc4c2ea7d": {
          "model_module": "@jupyter-widgets/controls",
          "model_name": "DescriptionStyleModel",
          "model_module_version": "1.5.0",
          "state": {
            "_model_module": "@jupyter-widgets/controls",
            "_model_module_version": "1.5.0",
            "_model_name": "DescriptionStyleModel",
            "_view_count": null,
            "_view_module": "@jupyter-widgets/base",
            "_view_module_version": "1.2.0",
            "_view_name": "StyleView",
            "description_width": ""
          }
        },
        "4d4f33e22b654042a2b6fb6437874ead": {
          "model_module": "@jupyter-widgets/base",
          "model_name": "LayoutModel",
          "model_module_version": "1.2.0",
          "state": {
            "_model_module": "@jupyter-widgets/base",
            "_model_module_version": "1.2.0",
            "_model_name": "LayoutModel",
            "_view_count": null,
            "_view_module": "@jupyter-widgets/base",
            "_view_module_version": "1.2.0",
            "_view_name": "LayoutView",
            "align_content": null,
            "align_items": null,
            "align_self": null,
            "border": null,
            "bottom": null,
            "display": null,
            "flex": null,
            "flex_flow": null,
            "grid_area": null,
            "grid_auto_columns": null,
            "grid_auto_flow": null,
            "grid_auto_rows": null,
            "grid_column": null,
            "grid_gap": null,
            "grid_row": null,
            "grid_template_areas": null,
            "grid_template_columns": null,
            "grid_template_rows": null,
            "height": null,
            "justify_content": null,
            "justify_items": null,
            "left": null,
            "margin": null,
            "max_height": null,
            "max_width": null,
            "min_height": null,
            "min_width": null,
            "object_fit": null,
            "object_position": null,
            "order": null,
            "overflow": null,
            "overflow_x": null,
            "overflow_y": null,
            "padding": null,
            "right": null,
            "top": null,
            "visibility": null,
            "width": null
          }
        },
        "8e23e6131aa94029ae041c867c68866d": {
          "model_module": "@jupyter-widgets/controls",
          "model_name": "ProgressStyleModel",
          "model_module_version": "1.5.0",
          "state": {
            "_model_module": "@jupyter-widgets/controls",
            "_model_module_version": "1.5.0",
            "_model_name": "ProgressStyleModel",
            "_view_count": null,
            "_view_module": "@jupyter-widgets/base",
            "_view_module_version": "1.2.0",
            "_view_name": "StyleView",
            "bar_color": null,
            "description_width": ""
          }
        },
        "c512421d3ef7443dbae2571a753b8be0": {
          "model_module": "@jupyter-widgets/base",
          "model_name": "LayoutModel",
          "model_module_version": "1.2.0",
          "state": {
            "_model_module": "@jupyter-widgets/base",
            "_model_module_version": "1.2.0",
            "_model_name": "LayoutModel",
            "_view_count": null,
            "_view_module": "@jupyter-widgets/base",
            "_view_module_version": "1.2.0",
            "_view_name": "LayoutView",
            "align_content": null,
            "align_items": null,
            "align_self": null,
            "border": null,
            "bottom": null,
            "display": null,
            "flex": null,
            "flex_flow": null,
            "grid_area": null,
            "grid_auto_columns": null,
            "grid_auto_flow": null,
            "grid_auto_rows": null,
            "grid_column": null,
            "grid_gap": null,
            "grid_row": null,
            "grid_template_areas": null,
            "grid_template_columns": null,
            "grid_template_rows": null,
            "height": null,
            "justify_content": null,
            "justify_items": null,
            "left": null,
            "margin": null,
            "max_height": null,
            "max_width": null,
            "min_height": null,
            "min_width": null,
            "object_fit": null,
            "object_position": null,
            "order": null,
            "overflow": null,
            "overflow_x": null,
            "overflow_y": null,
            "padding": null,
            "right": null,
            "top": null,
            "visibility": null,
            "width": null
          }
        },
        "559a61f466f142749911f0a091afe5fa": {
          "model_module": "@jupyter-widgets/controls",
          "model_name": "DescriptionStyleModel",
          "model_module_version": "1.5.0",
          "state": {
            "_model_module": "@jupyter-widgets/controls",
            "_model_module_version": "1.5.0",
            "_model_name": "DescriptionStyleModel",
            "_view_count": null,
            "_view_module": "@jupyter-widgets/base",
            "_view_module_version": "1.2.0",
            "_view_name": "StyleView",
            "description_width": ""
          }
        },
        "873f4e9be29248a2a74049b8cd82e57c": {
          "model_module": "@jupyter-widgets/controls",
          "model_name": "HBoxModel",
          "model_module_version": "1.5.0",
          "state": {
            "_dom_classes": [],
            "_model_module": "@jupyter-widgets/controls",
            "_model_module_version": "1.5.0",
            "_model_name": "HBoxModel",
            "_view_count": null,
            "_view_module": "@jupyter-widgets/controls",
            "_view_module_version": "1.5.0",
            "_view_name": "HBoxView",
            "box_style": "",
            "children": [
              "IPY_MODEL_2e0838a26266438d94158ea5f956d673",
              "IPY_MODEL_5f5f6a0e826546d7a1827f7f6542e934",
              "IPY_MODEL_d7e962fa2d6745ed8fe78322cdd00f81"
            ],
            "layout": "IPY_MODEL_56ded65d238b4dac8f3d845637504fb4"
          }
        },
        "2e0838a26266438d94158ea5f956d673": {
          "model_module": "@jupyter-widgets/controls",
          "model_name": "HTMLModel",
          "model_module_version": "1.5.0",
          "state": {
            "_dom_classes": [],
            "_model_module": "@jupyter-widgets/controls",
            "_model_module_version": "1.5.0",
            "_model_name": "HTMLModel",
            "_view_count": null,
            "_view_module": "@jupyter-widgets/controls",
            "_view_module_version": "1.5.0",
            "_view_name": "HTMLView",
            "description": "",
            "description_tooltip": null,
            "layout": "IPY_MODEL_a35626b4853248769607d88b10cdc313",
            "placeholder": "​",
            "style": "IPY_MODEL_b807cc731a504b89b113c24d99f85fd4",
            "value": "Downloading: 100%"
          }
        },
        "5f5f6a0e826546d7a1827f7f6542e934": {
          "model_module": "@jupyter-widgets/controls",
          "model_name": "FloatProgressModel",
          "model_module_version": "1.5.0",
          "state": {
            "_dom_classes": [],
            "_model_module": "@jupyter-widgets/controls",
            "_model_module_version": "1.5.0",
            "_model_name": "FloatProgressModel",
            "_view_count": null,
            "_view_module": "@jupyter-widgets/controls",
            "_view_module_version": "1.5.0",
            "_view_name": "ProgressView",
            "bar_style": "success",
            "description": "",
            "description_tooltip": null,
            "layout": "IPY_MODEL_801fe580c061467bb6e852ff98ea0064",
            "max": 1961828,
            "min": 0,
            "orientation": "horizontal",
            "style": "IPY_MODEL_e3d9ab3ca04747db846a9d230cf83473",
            "value": 1961828
          }
        },
        "d7e962fa2d6745ed8fe78322cdd00f81": {
          "model_module": "@jupyter-widgets/controls",
          "model_name": "HTMLModel",
          "model_module_version": "1.5.0",
          "state": {
            "_dom_classes": [],
            "_model_module": "@jupyter-widgets/controls",
            "_model_module_version": "1.5.0",
            "_model_name": "HTMLModel",
            "_view_count": null,
            "_view_module": "@jupyter-widgets/controls",
            "_view_module_version": "1.5.0",
            "_view_name": "HTMLView",
            "description": "",
            "description_tooltip": null,
            "layout": "IPY_MODEL_469e3dc73df34587a26459fc7d37b35f",
            "placeholder": "​",
            "style": "IPY_MODEL_35423129a168412797a998f44e7605c7",
            "value": " 1.87M/1.87M [00:01&lt;00:00, 2.40MB/s]"
          }
        },
        "56ded65d238b4dac8f3d845637504fb4": {
          "model_module": "@jupyter-widgets/base",
          "model_name": "LayoutModel",
          "model_module_version": "1.2.0",
          "state": {
            "_model_module": "@jupyter-widgets/base",
            "_model_module_version": "1.2.0",
            "_model_name": "LayoutModel",
            "_view_count": null,
            "_view_module": "@jupyter-widgets/base",
            "_view_module_version": "1.2.0",
            "_view_name": "LayoutView",
            "align_content": null,
            "align_items": null,
            "align_self": null,
            "border": null,
            "bottom": null,
            "display": null,
            "flex": null,
            "flex_flow": null,
            "grid_area": null,
            "grid_auto_columns": null,
            "grid_auto_flow": null,
            "grid_auto_rows": null,
            "grid_column": null,
            "grid_gap": null,
            "grid_row": null,
            "grid_template_areas": null,
            "grid_template_columns": null,
            "grid_template_rows": null,
            "height": null,
            "justify_content": null,
            "justify_items": null,
            "left": null,
            "margin": null,
            "max_height": null,
            "max_width": null,
            "min_height": null,
            "min_width": null,
            "object_fit": null,
            "object_position": null,
            "order": null,
            "overflow": null,
            "overflow_x": null,
            "overflow_y": null,
            "padding": null,
            "right": null,
            "top": null,
            "visibility": null,
            "width": null
          }
        },
        "a35626b4853248769607d88b10cdc313": {
          "model_module": "@jupyter-widgets/base",
          "model_name": "LayoutModel",
          "model_module_version": "1.2.0",
          "state": {
            "_model_module": "@jupyter-widgets/base",
            "_model_module_version": "1.2.0",
            "_model_name": "LayoutModel",
            "_view_count": null,
            "_view_module": "@jupyter-widgets/base",
            "_view_module_version": "1.2.0",
            "_view_name": "LayoutView",
            "align_content": null,
            "align_items": null,
            "align_self": null,
            "border": null,
            "bottom": null,
            "display": null,
            "flex": null,
            "flex_flow": null,
            "grid_area": null,
            "grid_auto_columns": null,
            "grid_auto_flow": null,
            "grid_auto_rows": null,
            "grid_column": null,
            "grid_gap": null,
            "grid_row": null,
            "grid_template_areas": null,
            "grid_template_columns": null,
            "grid_template_rows": null,
            "height": null,
            "justify_content": null,
            "justify_items": null,
            "left": null,
            "margin": null,
            "max_height": null,
            "max_width": null,
            "min_height": null,
            "min_width": null,
            "object_fit": null,
            "object_position": null,
            "order": null,
            "overflow": null,
            "overflow_x": null,
            "overflow_y": null,
            "padding": null,
            "right": null,
            "top": null,
            "visibility": null,
            "width": null
          }
        },
        "b807cc731a504b89b113c24d99f85fd4": {
          "model_module": "@jupyter-widgets/controls",
          "model_name": "DescriptionStyleModel",
          "model_module_version": "1.5.0",
          "state": {
            "_model_module": "@jupyter-widgets/controls",
            "_model_module_version": "1.5.0",
            "_model_name": "DescriptionStyleModel",
            "_view_count": null,
            "_view_module": "@jupyter-widgets/base",
            "_view_module_version": "1.2.0",
            "_view_name": "StyleView",
            "description_width": ""
          }
        },
        "801fe580c061467bb6e852ff98ea0064": {
          "model_module": "@jupyter-widgets/base",
          "model_name": "LayoutModel",
          "model_module_version": "1.2.0",
          "state": {
            "_model_module": "@jupyter-widgets/base",
            "_model_module_version": "1.2.0",
            "_model_name": "LayoutModel",
            "_view_count": null,
            "_view_module": "@jupyter-widgets/base",
            "_view_module_version": "1.2.0",
            "_view_name": "LayoutView",
            "align_content": null,
            "align_items": null,
            "align_self": null,
            "border": null,
            "bottom": null,
            "display": null,
            "flex": null,
            "flex_flow": null,
            "grid_area": null,
            "grid_auto_columns": null,
            "grid_auto_flow": null,
            "grid_auto_rows": null,
            "grid_column": null,
            "grid_gap": null,
            "grid_row": null,
            "grid_template_areas": null,
            "grid_template_columns": null,
            "grid_template_rows": null,
            "height": null,
            "justify_content": null,
            "justify_items": null,
            "left": null,
            "margin": null,
            "max_height": null,
            "max_width": null,
            "min_height": null,
            "min_width": null,
            "object_fit": null,
            "object_position": null,
            "order": null,
            "overflow": null,
            "overflow_x": null,
            "overflow_y": null,
            "padding": null,
            "right": null,
            "top": null,
            "visibility": null,
            "width": null
          }
        },
        "e3d9ab3ca04747db846a9d230cf83473": {
          "model_module": "@jupyter-widgets/controls",
          "model_name": "ProgressStyleModel",
          "model_module_version": "1.5.0",
          "state": {
            "_model_module": "@jupyter-widgets/controls",
            "_model_module_version": "1.5.0",
            "_model_name": "ProgressStyleModel",
            "_view_count": null,
            "_view_module": "@jupyter-widgets/base",
            "_view_module_version": "1.2.0",
            "_view_name": "StyleView",
            "bar_color": null,
            "description_width": ""
          }
        },
        "469e3dc73df34587a26459fc7d37b35f": {
          "model_module": "@jupyter-widgets/base",
          "model_name": "LayoutModel",
          "model_module_version": "1.2.0",
          "state": {
            "_model_module": "@jupyter-widgets/base",
            "_model_module_version": "1.2.0",
            "_model_name": "LayoutModel",
            "_view_count": null,
            "_view_module": "@jupyter-widgets/base",
            "_view_module_version": "1.2.0",
            "_view_name": "LayoutView",
            "align_content": null,
            "align_items": null,
            "align_self": null,
            "border": null,
            "bottom": null,
            "display": null,
            "flex": null,
            "flex_flow": null,
            "grid_area": null,
            "grid_auto_columns": null,
            "grid_auto_flow": null,
            "grid_auto_rows": null,
            "grid_column": null,
            "grid_gap": null,
            "grid_row": null,
            "grid_template_areas": null,
            "grid_template_columns": null,
            "grid_template_rows": null,
            "height": null,
            "justify_content": null,
            "justify_items": null,
            "left": null,
            "margin": null,
            "max_height": null,
            "max_width": null,
            "min_height": null,
            "min_width": null,
            "object_fit": null,
            "object_position": null,
            "order": null,
            "overflow": null,
            "overflow_x": null,
            "overflow_y": null,
            "padding": null,
            "right": null,
            "top": null,
            "visibility": null,
            "width": null
          }
        },
        "35423129a168412797a998f44e7605c7": {
          "model_module": "@jupyter-widgets/controls",
          "model_name": "DescriptionStyleModel",
          "model_module_version": "1.5.0",
          "state": {
            "_model_module": "@jupyter-widgets/controls",
            "_model_module_version": "1.5.0",
            "_model_name": "DescriptionStyleModel",
            "_view_count": null,
            "_view_module": "@jupyter-widgets/base",
            "_view_module_version": "1.2.0",
            "_view_name": "StyleView",
            "description_width": ""
          }
        },
        "8a0ca5af057742558d604b1b53565ade": {
          "model_module": "@jupyter-widgets/controls",
          "model_name": "HBoxModel",
          "model_module_version": "1.5.0",
          "state": {
            "_dom_classes": [],
            "_model_module": "@jupyter-widgets/controls",
            "_model_module_version": "1.5.0",
            "_model_name": "HBoxModel",
            "_view_count": null,
            "_view_module": "@jupyter-widgets/controls",
            "_view_module_version": "1.5.0",
            "_view_name": "HBoxView",
            "box_style": "",
            "children": [
              "IPY_MODEL_a39b15be744a4a2082a5ae0201d9c49b",
              "IPY_MODEL_2848e3fcc3314f8488b52a376a8ec130",
              "IPY_MODEL_8587cecade164e588d1ac0693fce7431"
            ],
            "layout": "IPY_MODEL_0e511de13326421ca8b819f7e16734cf"
          }
        },
        "a39b15be744a4a2082a5ae0201d9c49b": {
          "model_module": "@jupyter-widgets/controls",
          "model_name": "HTMLModel",
          "model_module_version": "1.5.0",
          "state": {
            "_dom_classes": [],
            "_model_module": "@jupyter-widgets/controls",
            "_model_module_version": "1.5.0",
            "_model_name": "HTMLModel",
            "_view_count": null,
            "_view_module": "@jupyter-widgets/controls",
            "_view_module_version": "1.5.0",
            "_view_name": "HTMLView",
            "description": "",
            "description_tooltip": null,
            "layout": "IPY_MODEL_742d37feda3c436182f9bab1199d4f5d",
            "placeholder": "​",
            "style": "IPY_MODEL_672ae5b0930d4ad4a4ee2bf5a66d0752",
            "value": "Downloading: 100%"
          }
        },
        "2848e3fcc3314f8488b52a376a8ec130": {
          "model_module": "@jupyter-widgets/controls",
          "model_name": "FloatProgressModel",
          "model_module_version": "1.5.0",
          "state": {
            "_dom_classes": [],
            "_model_module": "@jupyter-widgets/controls",
            "_model_module_version": "1.5.0",
            "_model_name": "FloatProgressModel",
            "_view_count": null,
            "_view_module": "@jupyter-widgets/controls",
            "_view_module_version": "1.5.0",
            "_view_name": "ProgressView",
            "bar_style": "success",
            "description": "",
            "description_tooltip": null,
            "layout": "IPY_MODEL_afaed9d4ec9f47fa9057e9b88d040d92",
            "max": 714314041,
            "min": 0,
            "orientation": "horizontal",
            "style": "IPY_MODEL_9d2cbac1143a441b9d881771a5e36267",
            "value": 714314041
          }
        },
        "8587cecade164e588d1ac0693fce7431": {
          "model_module": "@jupyter-widgets/controls",
          "model_name": "HTMLModel",
          "model_module_version": "1.5.0",
          "state": {
            "_dom_classes": [],
            "_model_module": "@jupyter-widgets/controls",
            "_model_module_version": "1.5.0",
            "_model_name": "HTMLModel",
            "_view_count": null,
            "_view_module": "@jupyter-widgets/controls",
            "_view_module_version": "1.5.0",
            "_view_name": "HTMLView",
            "description": "",
            "description_tooltip": null,
            "layout": "IPY_MODEL_04f31ca3741b4ac5b28bc1fee84c212b",
            "placeholder": "​",
            "style": "IPY_MODEL_f707123e3d0e4c829ad9ec1791768356",
            "value": " 681M/681M [00:19&lt;00:00, 38.9MB/s]"
          }
        },
        "0e511de13326421ca8b819f7e16734cf": {
          "model_module": "@jupyter-widgets/base",
          "model_name": "LayoutModel",
          "model_module_version": "1.2.0",
          "state": {
            "_model_module": "@jupyter-widgets/base",
            "_model_module_version": "1.2.0",
            "_model_name": "LayoutModel",
            "_view_count": null,
            "_view_module": "@jupyter-widgets/base",
            "_view_module_version": "1.2.0",
            "_view_name": "LayoutView",
            "align_content": null,
            "align_items": null,
            "align_self": null,
            "border": null,
            "bottom": null,
            "display": null,
            "flex": null,
            "flex_flow": null,
            "grid_area": null,
            "grid_auto_columns": null,
            "grid_auto_flow": null,
            "grid_auto_rows": null,
            "grid_column": null,
            "grid_gap": null,
            "grid_row": null,
            "grid_template_areas": null,
            "grid_template_columns": null,
            "grid_template_rows": null,
            "height": null,
            "justify_content": null,
            "justify_items": null,
            "left": null,
            "margin": null,
            "max_height": null,
            "max_width": null,
            "min_height": null,
            "min_width": null,
            "object_fit": null,
            "object_position": null,
            "order": null,
            "overflow": null,
            "overflow_x": null,
            "overflow_y": null,
            "padding": null,
            "right": null,
            "top": null,
            "visibility": null,
            "width": null
          }
        },
        "742d37feda3c436182f9bab1199d4f5d": {
          "model_module": "@jupyter-widgets/base",
          "model_name": "LayoutModel",
          "model_module_version": "1.2.0",
          "state": {
            "_model_module": "@jupyter-widgets/base",
            "_model_module_version": "1.2.0",
            "_model_name": "LayoutModel",
            "_view_count": null,
            "_view_module": "@jupyter-widgets/base",
            "_view_module_version": "1.2.0",
            "_view_name": "LayoutView",
            "align_content": null,
            "align_items": null,
            "align_self": null,
            "border": null,
            "bottom": null,
            "display": null,
            "flex": null,
            "flex_flow": null,
            "grid_area": null,
            "grid_auto_columns": null,
            "grid_auto_flow": null,
            "grid_auto_rows": null,
            "grid_column": null,
            "grid_gap": null,
            "grid_row": null,
            "grid_template_areas": null,
            "grid_template_columns": null,
            "grid_template_rows": null,
            "height": null,
            "justify_content": null,
            "justify_items": null,
            "left": null,
            "margin": null,
            "max_height": null,
            "max_width": null,
            "min_height": null,
            "min_width": null,
            "object_fit": null,
            "object_position": null,
            "order": null,
            "overflow": null,
            "overflow_x": null,
            "overflow_y": null,
            "padding": null,
            "right": null,
            "top": null,
            "visibility": null,
            "width": null
          }
        },
        "672ae5b0930d4ad4a4ee2bf5a66d0752": {
          "model_module": "@jupyter-widgets/controls",
          "model_name": "DescriptionStyleModel",
          "model_module_version": "1.5.0",
          "state": {
            "_model_module": "@jupyter-widgets/controls",
            "_model_module_version": "1.5.0",
            "_model_name": "DescriptionStyleModel",
            "_view_count": null,
            "_view_module": "@jupyter-widgets/base",
            "_view_module_version": "1.2.0",
            "_view_name": "StyleView",
            "description_width": ""
          }
        },
        "afaed9d4ec9f47fa9057e9b88d040d92": {
          "model_module": "@jupyter-widgets/base",
          "model_name": "LayoutModel",
          "model_module_version": "1.2.0",
          "state": {
            "_model_module": "@jupyter-widgets/base",
            "_model_module_version": "1.2.0",
            "_model_name": "LayoutModel",
            "_view_count": null,
            "_view_module": "@jupyter-widgets/base",
            "_view_module_version": "1.2.0",
            "_view_name": "LayoutView",
            "align_content": null,
            "align_items": null,
            "align_self": null,
            "border": null,
            "bottom": null,
            "display": null,
            "flex": null,
            "flex_flow": null,
            "grid_area": null,
            "grid_auto_columns": null,
            "grid_auto_flow": null,
            "grid_auto_rows": null,
            "grid_column": null,
            "grid_gap": null,
            "grid_row": null,
            "grid_template_areas": null,
            "grid_template_columns": null,
            "grid_template_rows": null,
            "height": null,
            "justify_content": null,
            "justify_items": null,
            "left": null,
            "margin": null,
            "max_height": null,
            "max_width": null,
            "min_height": null,
            "min_width": null,
            "object_fit": null,
            "object_position": null,
            "order": null,
            "overflow": null,
            "overflow_x": null,
            "overflow_y": null,
            "padding": null,
            "right": null,
            "top": null,
            "visibility": null,
            "width": null
          }
        },
        "9d2cbac1143a441b9d881771a5e36267": {
          "model_module": "@jupyter-widgets/controls",
          "model_name": "ProgressStyleModel",
          "model_module_version": "1.5.0",
          "state": {
            "_model_module": "@jupyter-widgets/controls",
            "_model_module_version": "1.5.0",
            "_model_name": "ProgressStyleModel",
            "_view_count": null,
            "_view_module": "@jupyter-widgets/base",
            "_view_module_version": "1.2.0",
            "_view_name": "StyleView",
            "bar_color": null,
            "description_width": ""
          }
        },
        "04f31ca3741b4ac5b28bc1fee84c212b": {
          "model_module": "@jupyter-widgets/base",
          "model_name": "LayoutModel",
          "model_module_version": "1.2.0",
          "state": {
            "_model_module": "@jupyter-widgets/base",
            "_model_module_version": "1.2.0",
            "_model_name": "LayoutModel",
            "_view_count": null,
            "_view_module": "@jupyter-widgets/base",
            "_view_module_version": "1.2.0",
            "_view_name": "LayoutView",
            "align_content": null,
            "align_items": null,
            "align_self": null,
            "border": null,
            "bottom": null,
            "display": null,
            "flex": null,
            "flex_flow": null,
            "grid_area": null,
            "grid_auto_columns": null,
            "grid_auto_flow": null,
            "grid_auto_rows": null,
            "grid_column": null,
            "grid_gap": null,
            "grid_row": null,
            "grid_template_areas": null,
            "grid_template_columns": null,
            "grid_template_rows": null,
            "height": null,
            "justify_content": null,
            "justify_items": null,
            "left": null,
            "margin": null,
            "max_height": null,
            "max_width": null,
            "min_height": null,
            "min_width": null,
            "object_fit": null,
            "object_position": null,
            "order": null,
            "overflow": null,
            "overflow_x": null,
            "overflow_y": null,
            "padding": null,
            "right": null,
            "top": null,
            "visibility": null,
            "width": null
          }
        },
        "f707123e3d0e4c829ad9ec1791768356": {
          "model_module": "@jupyter-widgets/controls",
          "model_name": "DescriptionStyleModel",
          "model_module_version": "1.5.0",
          "state": {
            "_model_module": "@jupyter-widgets/controls",
            "_model_module_version": "1.5.0",
            "_model_name": "DescriptionStyleModel",
            "_view_count": null,
            "_view_module": "@jupyter-widgets/base",
            "_view_module_version": "1.2.0",
            "_view_name": "StyleView",
            "description_width": ""
          }
        }
      }
    }
  },
  "nbformat": 4,
  "nbformat_minor": 0
}